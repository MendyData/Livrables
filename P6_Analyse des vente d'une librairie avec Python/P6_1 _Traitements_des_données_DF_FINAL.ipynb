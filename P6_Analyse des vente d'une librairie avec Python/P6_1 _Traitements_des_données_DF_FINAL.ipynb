{
 "cells": [
  {
   "cell_type": "markdown",
   "metadata": {
    "id": "6FGrlSproMO1"
   },
   "source": [
    "# ***Librairie chez Lapage***"
   ]
  },
  {
   "cell_type": "markdown",
   "metadata": {
    "id": "JpRNwoczoMPA"
   },
   "source": [
    "# PARTIE 1 : TRAITEMENT DES DONNEES"
   ]
  },
  {
   "cell_type": "markdown",
   "metadata": {
    "id": "Mj9bsFfaoMPC"
   },
   "source": [
    "# IMPORTATION LIBRAIRIES"
   ]
  },
  {
   "cell_type": "code",
   "execution_count": 46,
   "metadata": {
    "id": "P1FTyq5OoMPD"
   },
   "outputs": [],
   "source": [
    "import pandas as pd\n",
    "import numpy as np\n",
    "import matplotlib.pyplot as plt\n",
    "import seaborn as sns\n",
    "\n",
    "from datetime import datetime\n",
    "from datetime import date\n",
    "import scipy.stats as st\n"
   ]
  },
  {
   "cell_type": "code",
   "execution_count": 47,
   "metadata": {
    "id": "3R_IGJCCoMPH"
   },
   "outputs": [],
   "source": [
    "#from pandas_profiling import ProfileReport"
   ]
  },
  {
   "cell_type": "markdown",
   "metadata": {
    "id": "NgaANURvoMPI",
    "tags": []
   },
   "source": [
    "###  Fonctions"
   ]
  },
  {
   "cell_type": "code",
   "execution_count": 48,
   "metadata": {
    "id": "Ax92Q02FoMPK",
    "tags": []
   },
   "outputs": [],
   "source": [
    "def check_missing_values(df):\n",
    "    return df.isna().sum()"
   ]
  },
  {
   "cell_type": "code",
   "execution_count": 49,
   "metadata": {
    "id": "EJCslVdkoMPL"
   },
   "outputs": [],
   "source": [
    "def remove_missing_values(df):\n",
    "    return df.dropna(inplace=True)"
   ]
  },
  {
   "cell_type": "code",
   "execution_count": 50,
   "metadata": {
    "id": "3wYYsIoWoMPN"
   },
   "outputs": [],
   "source": [
    "def check_oultiers(df):\n",
    "    return df.boxplot(figsize=(15,5))"
   ]
  },
  {
   "cell_type": "code",
   "execution_count": 51,
   "metadata": {
    "id": "tVKgqbFpoMPW"
   },
   "outputs": [],
   "source": [
    "def histogram(df):\n",
    "    return df.hist(figsize=(20,8))"
   ]
  },
  {
   "cell_type": "code",
   "execution_count": 52,
   "metadata": {
    "id": "Wb8Qr0w-oMPX"
   },
   "outputs": [],
   "source": [
    "def matrix(df):\n",
    "    pd.plotting.scatter_matrix((df), alpha=0.2)\n",
    "    return matrix"
   ]
  },
  {
   "cell_type": "code",
   "execution_count": 53,
   "metadata": {
    "id": "ND3_3_wQoMPY"
   },
   "outputs": [],
   "source": [
    "def check_duplicates(df):\n",
    "    return df.duplicated(subset=None, keep='first')"
   ]
  },
  {
   "cell_type": "code",
   "execution_count": 54,
   "metadata": {
    "id": "XNMd37CNoMPa"
   },
   "outputs": [],
   "source": [
    "def find_all_outliers(v):\n",
    "    Q1 = np.quantile(v, 0.25)\n",
    "    Q3 = np.quantile(v, 0.75)\n",
    "    EIQ = Q3 - Q1\n",
    "    LI = Q1 - (EIQ*1.5)\n",
    "    LS = Q3 + (EIQ*1.5)\n",
    "    i = list(v.index[(v < LI) | (v > LS)])\n",
    "    val = list(v[i])\n",
    "    return i, val"
   ]
  },
  {
   "cell_type": "code",
   "execution_count": 55,
   "metadata": {
    "id": "-Ul7ibMRoMPb"
   },
   "outputs": [],
   "source": [
    "#liste des données manquantes après jointure\n",
    "def post_merge(df):\n",
    "    \n",
    "    check = df_final[\"product_id\"].values.tolist()\n",
    "    \n",
    "    return erp[~erp.product_id.isin(check)]\n",
    "\n"
   ]
  },
  {
   "cell_type": "code",
   "execution_count": 56,
   "metadata": {
    "id": "j_8y2eeroMPc"
   },
   "outputs": [],
   "source": [
    "# Vérification merge (toutes les données sont dans les 2 DF)\n",
    "def post_merge_data(df):\n",
    "    (df).query(\" _merge != 'both' \")\n",
    "    return (df);"
   ]
  },
  {
   "cell_type": "markdown",
   "metadata": {
    "id": "GTckcgAdoMPd"
   },
   "source": [
    "# IMPORTATION DES DONNEES ET NETTOYAGE "
   ]
  },
  {
   "cell_type": "markdown",
   "metadata": {
    "id": "Ga_PJpYyoMPe",
    "tags": []
   },
   "source": [
    "### PRODUCTS"
   ]
  },
  {
   "cell_type": "code",
   "execution_count": 57,
   "metadata": {
    "id": "JFenfJ5RoMPf",
    "tags": []
   },
   "outputs": [
    {
     "data": {
      "text/html": [
       "<div>\n",
       "<style scoped>\n",
       "    .dataframe tbody tr th:only-of-type {\n",
       "        vertical-align: middle;\n",
       "    }\n",
       "\n",
       "    .dataframe tbody tr th {\n",
       "        vertical-align: top;\n",
       "    }\n",
       "\n",
       "    .dataframe thead th {\n",
       "        text-align: right;\n",
       "    }\n",
       "</style>\n",
       "<table border=\"1\" class=\"dataframe\">\n",
       "  <thead>\n",
       "    <tr style=\"text-align: right;\">\n",
       "      <th></th>\n",
       "      <th>id_prod</th>\n",
       "      <th>price</th>\n",
       "      <th>categ</th>\n",
       "    </tr>\n",
       "  </thead>\n",
       "  <tbody>\n",
       "    <tr>\n",
       "      <th>0</th>\n",
       "      <td>0_1421</td>\n",
       "      <td>19.99</td>\n",
       "      <td>0</td>\n",
       "    </tr>\n",
       "    <tr>\n",
       "      <th>1</th>\n",
       "      <td>0_1368</td>\n",
       "      <td>5.13</td>\n",
       "      <td>0</td>\n",
       "    </tr>\n",
       "    <tr>\n",
       "      <th>2</th>\n",
       "      <td>0_731</td>\n",
       "      <td>17.99</td>\n",
       "      <td>0</td>\n",
       "    </tr>\n",
       "  </tbody>\n",
       "</table>\n",
       "</div>"
      ],
      "text/plain": [
       "  id_prod  price  categ\n",
       "0  0_1421  19.99      0\n",
       "1  0_1368   5.13      0\n",
       "2   0_731  17.99      0"
      ]
     },
     "execution_count": 57,
     "metadata": {},
     "output_type": "execute_result"
    }
   ],
   "source": [
    "products = pd.read_csv(r'C:\\Users\\melle\\FORMATION\\P6_Mendy\\SOURCE\\products.csv')\n",
    "products.head(3)"
   ]
  },
  {
   "cell_type": "code",
   "execution_count": 58,
   "metadata": {
    "colab": {
     "base_uri": "https://localhost:8080/"
    },
    "id": "wZwiGWudoMPh",
    "outputId": "c3d40c2b-3d94-4c90-d9b1-919bb0bc453b"
   },
   "outputs": [
    {
     "data": {
      "text/plain": [
       "(3287, 3)"
      ]
     },
     "execution_count": 58,
     "metadata": {},
     "output_type": "execute_result"
    }
   ],
   "source": [
    "products.shape"
   ]
  },
  {
   "cell_type": "code",
   "execution_count": 59,
   "metadata": {
    "colab": {
     "base_uri": "https://localhost:8080/"
    },
    "id": "PRCUatgToMPi",
    "outputId": "f1cdff5c-1a72-434f-a741-6c93cad299d6"
   },
   "outputs": [
    {
     "data": {
      "text/plain": [
       "id_prod     object\n",
       "price      float64\n",
       "categ        int64\n",
       "dtype: object"
      ]
     },
     "execution_count": 59,
     "metadata": {},
     "output_type": "execute_result"
    }
   ],
   "source": [
    "products.dtypes"
   ]
  },
  {
   "cell_type": "code",
   "execution_count": 60,
   "metadata": {
    "colab": {
     "base_uri": "https://localhost:8080/"
    },
    "id": "O6jyrO1YoMPj",
    "outputId": "101ced1e-973f-4498-b18a-4989235fb27d"
   },
   "outputs": [
    {
     "data": {
      "text/plain": [
       "id_prod    0\n",
       "price      0\n",
       "categ      0\n",
       "dtype: int64"
      ]
     },
     "execution_count": 60,
     "metadata": {},
     "output_type": "execute_result"
    }
   ],
   "source": [
    "check_missing_values(products)"
   ]
  },
  {
   "cell_type": "code",
   "execution_count": null,
   "metadata": {
    "id": "jVpfcsaausO0"
   },
   "outputs": [],
   "source": []
  },
  {
   "cell_type": "markdown",
   "metadata": {
    "id": "pgTQMAHRoMPk",
    "tags": []
   },
   "source": [
    "### TRANSACTIONS"
   ]
  },
  {
   "cell_type": "code",
   "execution_count": 61,
   "metadata": {
    "colab": {
     "base_uri": "https://localhost:8080/",
     "height": 414
    },
    "id": "f9uUJ3ptwRQt",
    "outputId": "83c19961-4499-487b-ba65-1c695251a97c"
   },
   "outputs": [
    {
     "data": {
      "text/html": [
       "<div>\n",
       "<style scoped>\n",
       "    .dataframe tbody tr th:only-of-type {\n",
       "        vertical-align: middle;\n",
       "    }\n",
       "\n",
       "    .dataframe tbody tr th {\n",
       "        vertical-align: top;\n",
       "    }\n",
       "\n",
       "    .dataframe thead th {\n",
       "        text-align: right;\n",
       "    }\n",
       "</style>\n",
       "<table border=\"1\" class=\"dataframe\">\n",
       "  <thead>\n",
       "    <tr style=\"text-align: right;\">\n",
       "      <th></th>\n",
       "      <th>id_prod</th>\n",
       "      <th>date</th>\n",
       "      <th>session_id</th>\n",
       "      <th>client_id</th>\n",
       "    </tr>\n",
       "  </thead>\n",
       "  <tbody>\n",
       "    <tr>\n",
       "      <th>0</th>\n",
       "      <td>0_1518</td>\n",
       "      <td>2022-05-20 13:21:29.043970</td>\n",
       "      <td>s_211425</td>\n",
       "      <td>c_103</td>\n",
       "    </tr>\n",
       "    <tr>\n",
       "      <th>1</th>\n",
       "      <td>1_251</td>\n",
       "      <td>2022-02-02 07:55:19.149409</td>\n",
       "      <td>s_158752</td>\n",
       "      <td>c_8534</td>\n",
       "    </tr>\n",
       "    <tr>\n",
       "      <th>2</th>\n",
       "      <td>0_1277</td>\n",
       "      <td>2022-06-18 15:44:33.155329</td>\n",
       "      <td>s_225667</td>\n",
       "      <td>c_6714</td>\n",
       "    </tr>\n",
       "  </tbody>\n",
       "</table>\n",
       "</div>"
      ],
      "text/plain": [
       "  id_prod                        date session_id client_id\n",
       "0  0_1518  2022-05-20 13:21:29.043970   s_211425     c_103\n",
       "1   1_251  2022-02-02 07:55:19.149409   s_158752    c_8534\n",
       "2  0_1277  2022-06-18 15:44:33.155329   s_225667    c_6714"
      ]
     },
     "execution_count": 61,
     "metadata": {},
     "output_type": "execute_result"
    }
   ],
   "source": [
    "transactions = pd.read_csv(r'C:\\Users\\melle\\FORMATION\\P6_Mendy\\SOURCE\\transactions.csv')\n",
    "transactions.head(3)"
   ]
  },
  {
   "cell_type": "code",
   "execution_count": 62,
   "metadata": {
    "colab": {
     "base_uri": "https://localhost:8080/"
    },
    "id": "4wCCJb2UoMPm",
    "outputId": "7c95dc87-cd5a-4b42-b592-2e2f021c945f"
   },
   "outputs": [
    {
     "data": {
      "text/plain": [
       "(679532, 4)"
      ]
     },
     "execution_count": 62,
     "metadata": {},
     "output_type": "execute_result"
    }
   ],
   "source": [
    "transactions.shape"
   ]
  },
  {
   "cell_type": "code",
   "execution_count": 63,
   "metadata": {
    "colab": {
     "base_uri": "https://localhost:8080/",
     "height": 414
    },
    "id": "3zvJXmPBoMPn",
    "outputId": "deecf3e3-92e0-4443-951a-45e739682ea0"
   },
   "outputs": [
    {
     "data": {
      "text/html": [
       "<div>\n",
       "<style scoped>\n",
       "    .dataframe tbody tr th:only-of-type {\n",
       "        vertical-align: middle;\n",
       "    }\n",
       "\n",
       "    .dataframe tbody tr th {\n",
       "        vertical-align: top;\n",
       "    }\n",
       "\n",
       "    .dataframe thead th {\n",
       "        text-align: right;\n",
       "    }\n",
       "</style>\n",
       "<table border=\"1\" class=\"dataframe\">\n",
       "  <thead>\n",
       "    <tr style=\"text-align: right;\">\n",
       "      <th></th>\n",
       "      <th>id_prod</th>\n",
       "      <th>date</th>\n",
       "      <th>session_id</th>\n",
       "      <th>client_id</th>\n",
       "    </tr>\n",
       "  </thead>\n",
       "  <tbody>\n",
       "    <tr>\n",
       "      <th>3019</th>\n",
       "      <td>T_0</td>\n",
       "      <td>test_2021-03-01 02:30:02.237419</td>\n",
       "      <td>s_0</td>\n",
       "      <td>ct_0</td>\n",
       "    </tr>\n",
       "    <tr>\n",
       "      <th>5138</th>\n",
       "      <td>T_0</td>\n",
       "      <td>test_2021-03-01 02:30:02.237425</td>\n",
       "      <td>s_0</td>\n",
       "      <td>ct_0</td>\n",
       "    </tr>\n",
       "    <tr>\n",
       "      <th>9668</th>\n",
       "      <td>T_0</td>\n",
       "      <td>test_2021-03-01 02:30:02.237437</td>\n",
       "      <td>s_0</td>\n",
       "      <td>ct_1</td>\n",
       "    </tr>\n",
       "    <tr>\n",
       "      <th>10728</th>\n",
       "      <td>T_0</td>\n",
       "      <td>test_2021-03-01 02:30:02.237436</td>\n",
       "      <td>s_0</td>\n",
       "      <td>ct_0</td>\n",
       "    </tr>\n",
       "    <tr>\n",
       "      <th>15292</th>\n",
       "      <td>T_0</td>\n",
       "      <td>test_2021-03-01 02:30:02.237430</td>\n",
       "      <td>s_0</td>\n",
       "      <td>ct_0</td>\n",
       "    </tr>\n",
       "    <tr>\n",
       "      <th>...</th>\n",
       "      <td>...</td>\n",
       "      <td>...</td>\n",
       "      <td>...</td>\n",
       "      <td>...</td>\n",
       "    </tr>\n",
       "    <tr>\n",
       "      <th>657830</th>\n",
       "      <td>T_0</td>\n",
       "      <td>test_2021-03-01 02:30:02.237417</td>\n",
       "      <td>s_0</td>\n",
       "      <td>ct_0</td>\n",
       "    </tr>\n",
       "    <tr>\n",
       "      <th>662081</th>\n",
       "      <td>T_0</td>\n",
       "      <td>test_2021-03-01 02:30:02.237427</td>\n",
       "      <td>s_0</td>\n",
       "      <td>ct_1</td>\n",
       "    </tr>\n",
       "    <tr>\n",
       "      <th>670680</th>\n",
       "      <td>T_0</td>\n",
       "      <td>test_2021-03-01 02:30:02.237449</td>\n",
       "      <td>s_0</td>\n",
       "      <td>ct_1</td>\n",
       "    </tr>\n",
       "    <tr>\n",
       "      <th>671647</th>\n",
       "      <td>T_0</td>\n",
       "      <td>test_2021-03-01 02:30:02.237424</td>\n",
       "      <td>s_0</td>\n",
       "      <td>ct_1</td>\n",
       "    </tr>\n",
       "    <tr>\n",
       "      <th>679180</th>\n",
       "      <td>T_0</td>\n",
       "      <td>test_2021-03-01 02:30:02.237425</td>\n",
       "      <td>s_0</td>\n",
       "      <td>ct_1</td>\n",
       "    </tr>\n",
       "  </tbody>\n",
       "</table>\n",
       "<p>200 rows × 4 columns</p>\n",
       "</div>"
      ],
      "text/plain": [
       "       id_prod                             date session_id client_id\n",
       "3019       T_0  test_2021-03-01 02:30:02.237419        s_0      ct_0\n",
       "5138       T_0  test_2021-03-01 02:30:02.237425        s_0      ct_0\n",
       "9668       T_0  test_2021-03-01 02:30:02.237437        s_0      ct_1\n",
       "10728      T_0  test_2021-03-01 02:30:02.237436        s_0      ct_0\n",
       "15292      T_0  test_2021-03-01 02:30:02.237430        s_0      ct_0\n",
       "...        ...                              ...        ...       ...\n",
       "657830     T_0  test_2021-03-01 02:30:02.237417        s_0      ct_0\n",
       "662081     T_0  test_2021-03-01 02:30:02.237427        s_0      ct_1\n",
       "670680     T_0  test_2021-03-01 02:30:02.237449        s_0      ct_1\n",
       "671647     T_0  test_2021-03-01 02:30:02.237424        s_0      ct_1\n",
       "679180     T_0  test_2021-03-01 02:30:02.237425        s_0      ct_1\n",
       "\n",
       "[200 rows x 4 columns]"
      ]
     },
     "execution_count": 63,
     "metadata": {},
     "output_type": "execute_result"
    }
   ],
   "source": [
    "# localisation données test\n",
    "transactions.loc[transactions['id_prod']=='T_0']"
   ]
  },
  {
   "cell_type": "code",
   "execution_count": 64,
   "metadata": {
    "id": "7e6_J608oMPn"
   },
   "outputs": [],
   "source": [
    "# Collecte des Index des données test\n",
    "indexNames = transactions.loc[transactions['id_prod']=='T_0'].index"
   ]
  },
  {
   "cell_type": "code",
   "execution_count": 65,
   "metadata": {
    "id": "267OPS8loMPo"
   },
   "outputs": [],
   "source": [
    "#Suppression des données test\n",
    "transactions.drop(indexNames , inplace=True)"
   ]
  },
  {
   "cell_type": "code",
   "execution_count": 66,
   "metadata": {
    "colab": {
     "base_uri": "https://localhost:8080/"
    },
    "id": "W4RvOJvzoMPo",
    "outputId": "1765d5ce-9004-47ed-b620-53c7ca2cf7b9"
   },
   "outputs": [
    {
     "data": {
      "text/plain": [
       "(679332, 4)"
      ]
     },
     "execution_count": 66,
     "metadata": {},
     "output_type": "execute_result"
    }
   ],
   "source": [
    "transactions.shape"
   ]
  },
  {
   "cell_type": "code",
   "execution_count": 67,
   "metadata": {
    "colab": {
     "base_uri": "https://localhost:8080/"
    },
    "id": "noxSwArUoMPp",
    "outputId": "666d3dce-4b35-4bb8-9596-fb9c81e08ca7"
   },
   "outputs": [
    {
     "data": {
      "text/plain": [
       "id_prod       0\n",
       "date          0\n",
       "session_id    0\n",
       "client_id     0\n",
       "dtype: int64"
      ]
     },
     "execution_count": 67,
     "metadata": {},
     "output_type": "execute_result"
    }
   ],
   "source": [
    "check_missing_values(transactions)"
   ]
  },
  {
   "cell_type": "code",
   "execution_count": 68,
   "metadata": {
    "colab": {
     "base_uri": "https://localhost:8080/"
    },
    "id": "-ejhgkdjoMPq",
    "outputId": "b8cdd8fb-1c24-423e-9aeb-201ce512fc97"
   },
   "outputs": [
    {
     "data": {
      "text/plain": [
       "id_prod       object\n",
       "date          object\n",
       "session_id    object\n",
       "client_id     object\n",
       "dtype: object"
      ]
     },
     "execution_count": 68,
     "metadata": {},
     "output_type": "execute_result"
    }
   ],
   "source": [
    "transactions.dtypes"
   ]
  },
  {
   "cell_type": "code",
   "execution_count": 69,
   "metadata": {
    "colab": {
     "base_uri": "https://localhost:8080/"
    },
    "id": "KXJ7yZf8oMPr",
    "outputId": "8af486f6-8407-4bcd-f245-2712bceab283"
   },
   "outputs": [
    {
     "data": {
      "text/plain": [
       "0         [2022-05-20 13:21:29, 043970]\n",
       "1         [2022-02-02 07:55:19, 149409]\n",
       "2         [2022-06-18 15:44:33, 155329]\n",
       "3         [2021-06-24 04:19:29, 835891]\n",
       "4         [2023-01-11 08:22:08, 194479]\n",
       "                      ...              \n",
       "679527    [2022-01-15 13:05:06, 246925]\n",
       "679528    [2022-03-19 16:03:23, 429229]\n",
       "679529    [2022-12-20 04:33:37, 584749]\n",
       "679530    [2021-07-16 20:36:35, 350579]\n",
       "679531    [2022-09-28 01:12:01, 973763]\n",
       "Name: date, Length: 679332, dtype: object"
      ]
     },
     "execution_count": 69,
     "metadata": {},
     "output_type": "execute_result"
    }
   ],
   "source": [
    "transactions['date'] = transactions['date'].str.split('.')\n",
    "transactions['date']"
   ]
  },
  {
   "cell_type": "code",
   "execution_count": 70,
   "metadata": {
    "colab": {
     "base_uri": "https://localhost:8080/"
    },
    "id": "9_KndzdYoMPr",
    "outputId": "aff54d69-6b7f-4c01-d015-8983bb5c7e22"
   },
   "outputs": [],
   "source": [
    "transactions['date'] = transactions['date'].str.get(0)"
   ]
  },
  {
   "cell_type": "code",
   "execution_count": 71,
   "metadata": {
    "id": "n8q_2aoWoMPs"
   },
   "outputs": [],
   "source": [
    "transactions['date'] = transactions['date'].str.split(' ')"
   ]
  },
  {
   "cell_type": "code",
   "execution_count": 72,
   "metadata": {
    "colab": {
     "base_uri": "https://localhost:8080/"
    },
    "id": "S3UMpvgVoMPt",
    "outputId": "618b6eb6-983e-428a-b531-776f7decd82f"
   },
   "outputs": [
    {
     "data": {
      "text/plain": [
       "0         2022-05-20\n",
       "1         2022-02-02\n",
       "2         2022-06-18\n",
       "3         2021-06-24\n",
       "4         2023-01-11\n",
       "             ...    \n",
       "679527    2022-01-15\n",
       "679528    2022-03-19\n",
       "679529    2022-12-20\n",
       "679530    2021-07-16\n",
       "679531    2022-09-28\n",
       "Name: date_longue, Length: 679332, dtype: object"
      ]
     },
     "execution_count": 72,
     "metadata": {},
     "output_type": "execute_result"
    }
   ],
   "source": [
    "transactions['date_longue'] = transactions['date'].str.get(0)\n",
    "transactions['date_longue'] "
   ]
  },
  {
   "cell_type": "code",
   "execution_count": 73,
   "metadata": {
    "id": "K2Fy4UfKoMPt"
   },
   "outputs": [],
   "source": [
    "transactions.date_longue = pd.to_datetime(transactions.date_longue, errors='raise', dayfirst=False, yearfirst=True, \n",
    "                                     utc=None, format=None, exact=True, unit=None, \n",
    "                                     infer_datetime_format=False, origin='unix', cache=True)"
   ]
  },
  {
   "cell_type": "code",
   "execution_count": null,
   "metadata": {
    "id": "1bwYyNyyoMPx"
   },
   "outputs": [],
   "source": []
  },
  {
   "cell_type": "code",
   "execution_count": 74,
   "metadata": {
    "colab": {
     "base_uri": "https://localhost:8080/"
    },
    "id": "L4aBy7IRoMPv",
    "outputId": "5d009c1d-7c35-4f99-ea58-72525e619061"
   },
   "outputs": [
    {
     "data": {
      "text/plain": [
       "id_prod                object\n",
       "date                   object\n",
       "session_id             object\n",
       "client_id              object\n",
       "date_longue    datetime64[ns]\n",
       "dtype: object"
      ]
     },
     "execution_count": 74,
     "metadata": {},
     "output_type": "execute_result"
    }
   ],
   "source": [
    "transactions.dtypes"
   ]
  },
  {
   "cell_type": "code",
   "execution_count": 75,
   "metadata": {},
   "outputs": [],
   "source": [
    "transactions['date_longue'] = pd.to_datetime(transactions.date_longue, format=\"%d %m %Y\")"
   ]
  },
  {
   "cell_type": "code",
   "execution_count": 76,
   "metadata": {},
   "outputs": [
    {
     "data": {
      "text/plain": [
       "id_prod                object\n",
       "date                   object\n",
       "session_id             object\n",
       "client_id              object\n",
       "date_longue    datetime64[ns]\n",
       "dtype: object"
      ]
     },
     "execution_count": 76,
     "metadata": {},
     "output_type": "execute_result"
    }
   ],
   "source": [
    "transactions.dtypes"
   ]
  },
  {
   "cell_type": "code",
   "execution_count": 77,
   "metadata": {},
   "outputs": [
    {
     "data": {
      "text/plain": [
       "id_prod                object\n",
       "date                   object\n",
       "session_id             object\n",
       "client_id              object\n",
       "date_longue    datetime64[ns]\n",
       "dtype: object"
      ]
     },
     "execution_count": 77,
     "metadata": {},
     "output_type": "execute_result"
    }
   ],
   "source": [
    "transactions.dtypes"
   ]
  },
  {
   "cell_type": "code",
   "execution_count": 78,
   "metadata": {
    "tags": []
   },
   "outputs": [],
   "source": [
    "transactions[\"date_longue\"] = transactions[\"date_longue\"].astype(\"datetime64\")"
   ]
  },
  {
   "cell_type": "code",
   "execution_count": 79,
   "metadata": {},
   "outputs": [
    {
     "data": {
      "text/html": [
       "<div>\n",
       "<style scoped>\n",
       "    .dataframe tbody tr th:only-of-type {\n",
       "        vertical-align: middle;\n",
       "    }\n",
       "\n",
       "    .dataframe tbody tr th {\n",
       "        vertical-align: top;\n",
       "    }\n",
       "\n",
       "    .dataframe thead th {\n",
       "        text-align: right;\n",
       "    }\n",
       "</style>\n",
       "<table border=\"1\" class=\"dataframe\">\n",
       "  <thead>\n",
       "    <tr style=\"text-align: right;\">\n",
       "      <th></th>\n",
       "      <th>id_prod</th>\n",
       "      <th>date</th>\n",
       "      <th>session_id</th>\n",
       "      <th>client_id</th>\n",
       "      <th>date_longue</th>\n",
       "    </tr>\n",
       "  </thead>\n",
       "  <tbody>\n",
       "    <tr>\n",
       "      <th>0</th>\n",
       "      <td>0_1518</td>\n",
       "      <td>[2022-05-20, 13:21:29]</td>\n",
       "      <td>s_211425</td>\n",
       "      <td>c_103</td>\n",
       "      <td>2022-05-20</td>\n",
       "    </tr>\n",
       "    <tr>\n",
       "      <th>1</th>\n",
       "      <td>1_251</td>\n",
       "      <td>[2022-02-02, 07:55:19]</td>\n",
       "      <td>s_158752</td>\n",
       "      <td>c_8534</td>\n",
       "      <td>2022-02-02</td>\n",
       "    </tr>\n",
       "  </tbody>\n",
       "</table>\n",
       "</div>"
      ],
      "text/plain": [
       "  id_prod                    date session_id client_id date_longue\n",
       "0  0_1518  [2022-05-20, 13:21:29]   s_211425     c_103  2022-05-20\n",
       "1   1_251  [2022-02-02, 07:55:19]   s_158752    c_8534  2022-02-02"
      ]
     },
     "execution_count": 79,
     "metadata": {},
     "output_type": "execute_result"
    }
   ],
   "source": [
    "transactions.head(2)"
   ]
  },
  {
   "cell_type": "code",
   "execution_count": 80,
   "metadata": {},
   "outputs": [
    {
     "data": {
      "text/plain": [
       "id_prod                object\n",
       "date                   object\n",
       "session_id             object\n",
       "client_id              object\n",
       "date_longue    datetime64[ns]\n",
       "dtype: object"
      ]
     },
     "execution_count": 80,
     "metadata": {},
     "output_type": "execute_result"
    }
   ],
   "source": [
    "transactions.dtypes"
   ]
  },
  {
   "cell_type": "code",
   "execution_count": 86,
   "metadata": {},
   "outputs": [
    {
     "data": {
      "text/plain": [
       "0          2022 05\n",
       "1          2022 02\n",
       "2          2022 06\n",
       "3          2021 06\n",
       "4          2023 01\n",
       "            ...   \n",
       "679527     2022 01\n",
       "679528     2022 03\n",
       "679529     2022 12\n",
       "679530     2021 07\n",
       "679531     2022 09\n",
       "Name: date_longue, Length: 679332, dtype: object"
      ]
     },
     "execution_count": 86,
     "metadata": {},
     "output_type": "execute_result"
    }
   ],
   "source": [
    "transactions['date_longue'].dt.strftime(\" %Y %m\")"
   ]
  },
  {
   "cell_type": "code",
   "execution_count": 82,
   "metadata": {
    "id": "NdyYugo5oMPv"
   },
   "outputs": [],
   "source": [
    "transactions['date_courte'] = transactions['date_longue'].dt.strftime(\" %Y %m\")\n",
    "\n",
    "transactions['date_année'] = transactions['date_longue'].dt.strftime(\"%Y\")"
   ]
  },
  {
   "cell_type": "code",
   "execution_count": 83,
   "metadata": {},
   "outputs": [],
   "source": [
    "temps = ['date_courte', 'date_année']\n",
    "for var in temps:\n",
    "    transactions[var] = transactions[var].astype(\"datetime64\")"
   ]
  },
  {
   "cell_type": "code",
   "execution_count": 84,
   "metadata": {
    "colab": {
     "base_uri": "https://localhost:8080/"
    },
    "id": "_szaSeVEw0GU",
    "outputId": "ddab9436-0df3-4ff3-8ab3-31cabf9dcd39"
   },
   "outputs": [
    {
     "data": {
      "text/plain": [
       "0"
      ]
     },
     "execution_count": 84,
     "metadata": {},
     "output_type": "execute_result"
    }
   ],
   "source": [
    "transactions.isna().sum().sum()"
   ]
  },
  {
   "cell_type": "code",
   "execution_count": 85,
   "metadata": {},
   "outputs": [
    {
     "data": {
      "text/html": [
       "<div>\n",
       "<style scoped>\n",
       "    .dataframe tbody tr th:only-of-type {\n",
       "        vertical-align: middle;\n",
       "    }\n",
       "\n",
       "    .dataframe tbody tr th {\n",
       "        vertical-align: top;\n",
       "    }\n",
       "\n",
       "    .dataframe thead th {\n",
       "        text-align: right;\n",
       "    }\n",
       "</style>\n",
       "<table border=\"1\" class=\"dataframe\">\n",
       "  <thead>\n",
       "    <tr style=\"text-align: right;\">\n",
       "      <th></th>\n",
       "      <th>id_prod</th>\n",
       "      <th>date</th>\n",
       "      <th>session_id</th>\n",
       "      <th>client_id</th>\n",
       "      <th>date_longue</th>\n",
       "      <th>date_courte</th>\n",
       "      <th>date_année</th>\n",
       "    </tr>\n",
       "  </thead>\n",
       "  <tbody>\n",
       "    <tr>\n",
       "      <th>0</th>\n",
       "      <td>0_1518</td>\n",
       "      <td>[2022-05-20, 13:21:29]</td>\n",
       "      <td>s_211425</td>\n",
       "      <td>c_103</td>\n",
       "      <td>2022-05-20</td>\n",
       "      <td>2022-05-01</td>\n",
       "      <td>2022-01-01</td>\n",
       "    </tr>\n",
       "    <tr>\n",
       "      <th>1</th>\n",
       "      <td>1_251</td>\n",
       "      <td>[2022-02-02, 07:55:19]</td>\n",
       "      <td>s_158752</td>\n",
       "      <td>c_8534</td>\n",
       "      <td>2022-02-02</td>\n",
       "      <td>2022-02-01</td>\n",
       "      <td>2022-01-01</td>\n",
       "    </tr>\n",
       "    <tr>\n",
       "      <th>2</th>\n",
       "      <td>0_1277</td>\n",
       "      <td>[2022-06-18, 15:44:33]</td>\n",
       "      <td>s_225667</td>\n",
       "      <td>c_6714</td>\n",
       "      <td>2022-06-18</td>\n",
       "      <td>2022-06-01</td>\n",
       "      <td>2022-01-01</td>\n",
       "    </tr>\n",
       "  </tbody>\n",
       "</table>\n",
       "</div>"
      ],
      "text/plain": [
       "  id_prod                    date session_id client_id date_longue  \\\n",
       "0  0_1518  [2022-05-20, 13:21:29]   s_211425     c_103  2022-05-20   \n",
       "1   1_251  [2022-02-02, 07:55:19]   s_158752    c_8534  2022-02-02   \n",
       "2  0_1277  [2022-06-18, 15:44:33]   s_225667    c_6714  2022-06-18   \n",
       "\n",
       "  date_courte date_année  \n",
       "0  2022-05-01 2022-01-01  \n",
       "1  2022-02-01 2022-01-01  \n",
       "2  2022-06-01 2022-01-01  "
      ]
     },
     "execution_count": 85,
     "metadata": {},
     "output_type": "execute_result"
    }
   ],
   "source": [
    "transactions.head(3)"
   ]
  },
  {
   "cell_type": "code",
   "execution_count": 96,
   "metadata": {
    "tags": []
   },
   "outputs": [
    {
     "data": {
      "text/plain": [
       "id_prod                object\n",
       "date                   object\n",
       "session_id             object\n",
       "client_id              object\n",
       "date_longue    datetime64[ns]\n",
       "date_courte    datetime64[ns]\n",
       "date_année     datetime64[ns]\n",
       "dtype: object"
      ]
     },
     "execution_count": 96,
     "metadata": {},
     "output_type": "execute_result"
    }
   ],
   "source": [
    "transactions.dtypes"
   ]
  },
  {
   "cell_type": "markdown",
   "metadata": {
    "id": "I5NPpx9boMPy"
   },
   "source": [
    "### CUSTOMERS\n"
   ]
  },
  {
   "cell_type": "code",
   "execution_count": 140,
   "metadata": {
    "colab": {
     "base_uri": "https://localhost:8080/",
     "height": 414
    },
    "id": "AK5a2euewaHm",
    "outputId": "5f98a6dc-db77-498f-deb6-0f8e3468dbbf"
   },
   "outputs": [
    {
     "data": {
      "text/html": [
       "<div>\n",
       "<style scoped>\n",
       "    .dataframe tbody tr th:only-of-type {\n",
       "        vertical-align: middle;\n",
       "    }\n",
       "\n",
       "    .dataframe tbody tr th {\n",
       "        vertical-align: top;\n",
       "    }\n",
       "\n",
       "    .dataframe thead th {\n",
       "        text-align: right;\n",
       "    }\n",
       "</style>\n",
       "<table border=\"1\" class=\"dataframe\">\n",
       "  <thead>\n",
       "    <tr style=\"text-align: right;\">\n",
       "      <th></th>\n",
       "      <th>client_id</th>\n",
       "      <th>sex</th>\n",
       "      <th>birth</th>\n",
       "    </tr>\n",
       "  </thead>\n",
       "  <tbody>\n",
       "    <tr>\n",
       "      <th>0</th>\n",
       "      <td>c_4410</td>\n",
       "      <td>f</td>\n",
       "      <td>1967</td>\n",
       "    </tr>\n",
       "    <tr>\n",
       "      <th>1</th>\n",
       "      <td>c_7839</td>\n",
       "      <td>f</td>\n",
       "      <td>1975</td>\n",
       "    </tr>\n",
       "    <tr>\n",
       "      <th>2</th>\n",
       "      <td>c_1699</td>\n",
       "      <td>f</td>\n",
       "      <td>1984</td>\n",
       "    </tr>\n",
       "  </tbody>\n",
       "</table>\n",
       "</div>"
      ],
      "text/plain": [
       "  client_id sex  birth\n",
       "0    c_4410   f   1967\n",
       "1    c_7839   f   1975\n",
       "2    c_1699   f   1984"
      ]
     },
     "execution_count": 140,
     "metadata": {},
     "output_type": "execute_result"
    }
   ],
   "source": [
    "customers = pd.read_csv(r'C:\\Users\\melle\\FORMATION\\P6_Mendy\\SOURCE\\customers.csv')\n",
    "customers.head(3)"
   ]
  },
  {
   "cell_type": "code",
   "execution_count": 141,
   "metadata": {
    "id": "pmYnNWkxoMPy"
   },
   "outputs": [],
   "source": [
    "#customers = pd.read_csv(\"./FORMATION/P6_Mendy/SOURCE/customers.csv\")\n"
   ]
  },
  {
   "cell_type": "code",
   "execution_count": 142,
   "metadata": {
    "colab": {
     "base_uri": "https://localhost:8080/"
    },
    "id": "CooBNGCWoMPz",
    "outputId": "c097e01a-bb44-4547-c866-5f677109e751"
   },
   "outputs": [
    {
     "data": {
      "text/plain": [
       "(8623, 3)"
      ]
     },
     "execution_count": 142,
     "metadata": {},
     "output_type": "execute_result"
    }
   ],
   "source": [
    "customers.shape"
   ]
  },
  {
   "cell_type": "code",
   "execution_count": 143,
   "metadata": {
    "colab": {
     "base_uri": "https://localhost:8080/"
    },
    "id": "drlqacjzoMPz",
    "outputId": "09adb6c7-f774-4565-c21a-1310c462aa20"
   },
   "outputs": [
    {
     "data": {
      "text/plain": [
       "client_id    0\n",
       "sex          0\n",
       "birth        0\n",
       "dtype: int64"
      ]
     },
     "execution_count": 143,
     "metadata": {},
     "output_type": "execute_result"
    }
   ],
   "source": [
    "check_missing_values(customers)"
   ]
  },
  {
   "cell_type": "code",
   "execution_count": 144,
   "metadata": {
    "colab": {
     "base_uri": "https://localhost:8080/"
    },
    "id": "ZUP574k7oMP0",
    "outputId": "2838a664-1df6-46ba-d1ad-25c08b15689a"
   },
   "outputs": [
    {
     "data": {
      "text/plain": [
       "client_id    object\n",
       "sex          object\n",
       "birth         int64\n",
       "dtype: object"
      ]
     },
     "execution_count": 144,
     "metadata": {},
     "output_type": "execute_result"
    }
   ],
   "source": [
    "customers.dtypes"
   ]
  },
  {
   "cell_type": "code",
   "execution_count": 145,
   "metadata": {
    "colab": {
     "base_uri": "https://localhost:8080/"
    },
    "id": "i2ssMJS6oMP0",
    "outputId": "821c2f2c-2d11-43d3-fced-77c094047d9b"
   },
   "outputs": [
    {
     "name": "stdout",
     "output_type": "stream",
     "text": [
      "2021-11-24 10:55:42.989282\n"
     ]
    }
   ],
   "source": [
    "### import datetime\n",
    "\n",
    "currDate= datetime.now()\n",
    "print(currDate)"
   ]
  },
  {
   "cell_type": "code",
   "execution_count": 146,
   "metadata": {
    "id": "BUbkyOveoMP1"
   },
   "outputs": [],
   "source": [
    "# Création colonne age\n",
    "customers['age'] = (currDate.year - customers['birth'])"
   ]
  },
  {
   "cell_type": "code",
   "execution_count": 147,
   "metadata": {},
   "outputs": [
    {
     "data": {
      "text/html": [
       "<div>\n",
       "<style scoped>\n",
       "    .dataframe tbody tr th:only-of-type {\n",
       "        vertical-align: middle;\n",
       "    }\n",
       "\n",
       "    .dataframe tbody tr th {\n",
       "        vertical-align: top;\n",
       "    }\n",
       "\n",
       "    .dataframe thead th {\n",
       "        text-align: right;\n",
       "    }\n",
       "</style>\n",
       "<table border=\"1\" class=\"dataframe\">\n",
       "  <thead>\n",
       "    <tr style=\"text-align: right;\">\n",
       "      <th></th>\n",
       "      <th>client_id</th>\n",
       "      <th>sex</th>\n",
       "      <th>birth</th>\n",
       "      <th>age</th>\n",
       "    </tr>\n",
       "  </thead>\n",
       "  <tbody>\n",
       "    <tr>\n",
       "      <th>0</th>\n",
       "      <td>c_4410</td>\n",
       "      <td>f</td>\n",
       "      <td>1967</td>\n",
       "      <td>54</td>\n",
       "    </tr>\n",
       "    <tr>\n",
       "      <th>1</th>\n",
       "      <td>c_7839</td>\n",
       "      <td>f</td>\n",
       "      <td>1975</td>\n",
       "      <td>46</td>\n",
       "    </tr>\n",
       "    <tr>\n",
       "      <th>2</th>\n",
       "      <td>c_1699</td>\n",
       "      <td>f</td>\n",
       "      <td>1984</td>\n",
       "      <td>37</td>\n",
       "    </tr>\n",
       "    <tr>\n",
       "      <th>3</th>\n",
       "      <td>c_5961</td>\n",
       "      <td>f</td>\n",
       "      <td>1962</td>\n",
       "      <td>59</td>\n",
       "    </tr>\n",
       "    <tr>\n",
       "      <th>4</th>\n",
       "      <td>c_5320</td>\n",
       "      <td>m</td>\n",
       "      <td>1943</td>\n",
       "      <td>78</td>\n",
       "    </tr>\n",
       "  </tbody>\n",
       "</table>\n",
       "</div>"
      ],
      "text/plain": [
       "  client_id sex  birth  age\n",
       "0    c_4410   f   1967   54\n",
       "1    c_7839   f   1975   46\n",
       "2    c_1699   f   1984   37\n",
       "3    c_5961   f   1962   59\n",
       "4    c_5320   m   1943   78"
      ]
     },
     "execution_count": 147,
     "metadata": {},
     "output_type": "execute_result"
    }
   ],
   "source": [
    "customers.head()"
   ]
  },
  {
   "cell_type": "markdown",
   "metadata": {
    "id": "luKpkVc0oMP2"
   },
   "source": [
    "# CREATION DU DF_FINAL"
   ]
  },
  {
   "cell_type": "code",
   "execution_count": 187,
   "metadata": {
    "id": "L8oh5eT1oMP2",
    "tags": []
   },
   "outputs": [],
   "source": [
    "df1 = customers.merge(transactions, on='client_id', how='outer')"
   ]
  },
  {
   "cell_type": "code",
   "execution_count": 188,
   "metadata": {
    "id": "8mulF5rNoMP3"
   },
   "outputs": [],
   "source": [
    "df2 = df1.merge(products, on='id_prod', how='outer')"
   ]
  },
  {
   "cell_type": "code",
   "execution_count": 189,
   "metadata": {
    "colab": {
     "base_uri": "https://localhost:8080/",
     "height": 110
    },
    "id": "VEJjViUcoMP3",
    "outputId": "c6df907a-9473-4742-c80d-faa5761a1f87"
   },
   "outputs": [
    {
     "data": {
      "text/html": [
       "<div>\n",
       "<style scoped>\n",
       "    .dataframe tbody tr th:only-of-type {\n",
       "        vertical-align: middle;\n",
       "    }\n",
       "\n",
       "    .dataframe tbody tr th {\n",
       "        vertical-align: top;\n",
       "    }\n",
       "\n",
       "    .dataframe thead th {\n",
       "        text-align: right;\n",
       "    }\n",
       "</style>\n",
       "<table border=\"1\" class=\"dataframe\">\n",
       "  <thead>\n",
       "    <tr style=\"text-align: right;\">\n",
       "      <th></th>\n",
       "      <th>client_id</th>\n",
       "      <th>sex</th>\n",
       "      <th>birth</th>\n",
       "      <th>age</th>\n",
       "      <th>id_prod</th>\n",
       "      <th>date</th>\n",
       "      <th>session_id</th>\n",
       "      <th>date_longue</th>\n",
       "      <th>date_courte</th>\n",
       "      <th>date_année</th>\n",
       "      <th>price</th>\n",
       "      <th>categ</th>\n",
       "    </tr>\n",
       "  </thead>\n",
       "  <tbody>\n",
       "    <tr>\n",
       "      <th>410975</th>\n",
       "      <td>c_6357</td>\n",
       "      <td>m</td>\n",
       "      <td>1940.0</td>\n",
       "      <td>81.0</td>\n",
       "      <td>0_1355</td>\n",
       "      <td>[2022-03-12, 18:22:21]</td>\n",
       "      <td>s_178175</td>\n",
       "      <td>2022-03-12</td>\n",
       "      <td>2022-03-01</td>\n",
       "      <td>2022-01-01</td>\n",
       "      <td>18.99</td>\n",
       "      <td>0.0</td>\n",
       "    </tr>\n",
       "    <tr>\n",
       "      <th>2533</th>\n",
       "      <td>c_5984</td>\n",
       "      <td>f</td>\n",
       "      <td>1983.0</td>\n",
       "      <td>38.0</td>\n",
       "      <td>0_1455</td>\n",
       "      <td>[2022-10-25, 23:22:07]</td>\n",
       "      <td>s_288030</td>\n",
       "      <td>2022-10-25</td>\n",
       "      <td>2022-10-01</td>\n",
       "      <td>2022-01-01</td>\n",
       "      <td>8.99</td>\n",
       "      <td>0.0</td>\n",
       "    </tr>\n",
       "  </tbody>\n",
       "</table>\n",
       "</div>"
      ],
      "text/plain": [
       "       client_id sex   birth   age id_prod                    date session_id  \\\n",
       "410975    c_6357   m  1940.0  81.0  0_1355  [2022-03-12, 18:22:21]   s_178175   \n",
       "2533      c_5984   f  1983.0  38.0  0_1455  [2022-10-25, 23:22:07]   s_288030   \n",
       "\n",
       "       date_longue date_courte date_année  price  categ  \n",
       "410975  2022-03-12  2022-03-01 2022-01-01  18.99    0.0  \n",
       "2533    2022-10-25  2022-10-01 2022-01-01   8.99    0.0  "
      ]
     },
     "execution_count": 189,
     "metadata": {},
     "output_type": "execute_result"
    }
   ],
   "source": [
    "df2.sample(2)"
   ]
  },
  {
   "cell_type": "code",
   "execution_count": 190,
   "metadata": {
    "colab": {
     "base_uri": "https://localhost:8080/"
    },
    "id": "gaFsCXXuoMP4",
    "outputId": "de958e1c-2330-4b0f-caf9-905be2e09e36"
   },
   "outputs": [
    {
     "data": {
      "text/plain": [
       "(679377, 12)"
      ]
     },
     "execution_count": 190,
     "metadata": {},
     "output_type": "execute_result"
    }
   ],
   "source": [
    "df2.shape"
   ]
  },
  {
   "cell_type": "code",
   "execution_count": 191,
   "metadata": {
    "colab": {
     "base_uri": "https://localhost:8080/"
    },
    "id": "54y2z0SxoMP5",
    "outputId": "dcbfb76e-debb-4ce9-99d5-d01d2440c6bf"
   },
   "outputs": [
    {
     "data": {
      "text/plain": [
       "client_id       22\n",
       "sex             22\n",
       "birth           22\n",
       "age             22\n",
       "id_prod         23\n",
       "date            45\n",
       "session_id      45\n",
       "date_longue     45\n",
       "date_courte     45\n",
       "date_année      45\n",
       "price          244\n",
       "categ          244\n",
       "dtype: int64"
      ]
     },
     "execution_count": 191,
     "metadata": {},
     "output_type": "execute_result"
    }
   ],
   "source": [
    "check_missing_values(df2)"
   ]
  },
  {
   "cell_type": "code",
   "execution_count": 153,
   "metadata": {
    "colab": {
     "base_uri": "https://localhost:8080/",
     "height": 423
    },
    "id": "BbPKh7uQu5iU",
    "outputId": "20832f8b-68f5-4e21-a0df-cb8c2a7b640d"
   },
   "outputs": [
    {
     "data": {
      "text/plain": [
       "<AxesSubplot:>"
      ]
     },
     "execution_count": 153,
     "metadata": {},
     "output_type": "execute_result"
    },
    {
     "data": {
      "image/png": "[encoded data removed]",
      "text/plain": [
       "<Figure size 720x432 with 2 Axes>"
      ]
     },
     "metadata": {
      "needs_background": "light"
     },
     "output_type": "display_data"
    }
   ],
   "source": [
    "plt.figure(figsize=(10,6))\n",
    "sns.heatmap(df2.isna().transpose(),\n",
    "            cmap=\"YlGnBu\",\n",
    "            cbar_kws={'label': 'Missing Data'})"
   ]
  },
  {
   "cell_type": "code",
   "execution_count": 192,
   "metadata": {
    "id": "0u1x3mkioMP5"
   },
   "outputs": [],
   "source": [
    "def post_merge(df):\n",
    "    \n",
    "    check = customers[\"client_id\"].values.tolist()\n",
    "    \n",
    "    return df2[~df2.client_id.isin(check)]"
   ]
  },
  {
   "cell_type": "code",
   "execution_count": 155,
   "metadata": {
    "colab": {
     "base_uri": "https://localhost:8080/",
     "height": 723
    },
    "id": "NQDeM3C4oMP6",
    "outputId": "9a389835-d256-4b0e-d53f-9586072698cd"
   },
   "outputs": [
    {
     "data": {
      "text/html": [
       "<div>\n",
       "<style scoped>\n",
       "    .dataframe tbody tr th:only-of-type {\n",
       "        vertical-align: middle;\n",
       "    }\n",
       "\n",
       "    .dataframe tbody tr th {\n",
       "        vertical-align: top;\n",
       "    }\n",
       "\n",
       "    .dataframe thead th {\n",
       "        text-align: right;\n",
       "    }\n",
       "</style>\n",
       "<table border=\"1\" class=\"dataframe\">\n",
       "  <thead>\n",
       "    <tr style=\"text-align: right;\">\n",
       "      <th></th>\n",
       "      <th>client_id</th>\n",
       "      <th>sex</th>\n",
       "      <th>birth</th>\n",
       "      <th>age</th>\n",
       "      <th>id_prod</th>\n",
       "      <th>date</th>\n",
       "      <th>session_id</th>\n",
       "      <th>date_longue</th>\n",
       "      <th>date_courte</th>\n",
       "      <th>date_année</th>\n",
       "      <th>price</th>\n",
       "      <th>categ</th>\n",
       "    </tr>\n",
       "  </thead>\n",
       "  <tbody>\n",
       "    <tr>\n",
       "      <th>679355</th>\n",
       "      <td>NaN</td>\n",
       "      <td>NaN</td>\n",
       "      <td>NaN</td>\n",
       "      <td>NaN</td>\n",
       "      <td>0_1016</td>\n",
       "      <td>NaN</td>\n",
       "      <td>NaN</td>\n",
       "      <td>NaT</td>\n",
       "      <td>NaT</td>\n",
       "      <td>NaT</td>\n",
       "      <td>35.06</td>\n",
       "      <td>0.0</td>\n",
       "    </tr>\n",
       "    <tr>\n",
       "      <th>679356</th>\n",
       "      <td>NaN</td>\n",
       "      <td>NaN</td>\n",
       "      <td>NaN</td>\n",
       "      <td>NaN</td>\n",
       "      <td>0_1780</td>\n",
       "      <td>NaN</td>\n",
       "      <td>NaN</td>\n",
       "      <td>NaT</td>\n",
       "      <td>NaT</td>\n",
       "      <td>NaT</td>\n",
       "      <td>1.67</td>\n",
       "      <td>0.0</td>\n",
       "    </tr>\n",
       "    <tr>\n",
       "      <th>679357</th>\n",
       "      <td>NaN</td>\n",
       "      <td>NaN</td>\n",
       "      <td>NaN</td>\n",
       "      <td>NaN</td>\n",
       "      <td>T_0</td>\n",
       "      <td>NaN</td>\n",
       "      <td>NaN</td>\n",
       "      <td>NaT</td>\n",
       "      <td>NaT</td>\n",
       "      <td>NaT</td>\n",
       "      <td>-1.00</td>\n",
       "      <td>0.0</td>\n",
       "    </tr>\n",
       "    <tr>\n",
       "      <th>679358</th>\n",
       "      <td>NaN</td>\n",
       "      <td>NaN</td>\n",
       "      <td>NaN</td>\n",
       "      <td>NaN</td>\n",
       "      <td>0_1062</td>\n",
       "      <td>NaN</td>\n",
       "      <td>NaN</td>\n",
       "      <td>NaT</td>\n",
       "      <td>NaT</td>\n",
       "      <td>NaT</td>\n",
       "      <td>20.08</td>\n",
       "      <td>0.0</td>\n",
       "    </tr>\n",
       "    <tr>\n",
       "      <th>679359</th>\n",
       "      <td>NaN</td>\n",
       "      <td>NaN</td>\n",
       "      <td>NaN</td>\n",
       "      <td>NaN</td>\n",
       "      <td>0_1119</td>\n",
       "      <td>NaN</td>\n",
       "      <td>NaN</td>\n",
       "      <td>NaT</td>\n",
       "      <td>NaT</td>\n",
       "      <td>NaT</td>\n",
       "      <td>2.99</td>\n",
       "      <td>0.0</td>\n",
       "    </tr>\n",
       "    <tr>\n",
       "      <th>679360</th>\n",
       "      <td>NaN</td>\n",
       "      <td>NaN</td>\n",
       "      <td>NaN</td>\n",
       "      <td>NaN</td>\n",
       "      <td>0_1014</td>\n",
       "      <td>NaN</td>\n",
       "      <td>NaN</td>\n",
       "      <td>NaT</td>\n",
       "      <td>NaT</td>\n",
       "      <td>NaT</td>\n",
       "      <td>1.15</td>\n",
       "      <td>0.0</td>\n",
       "    </tr>\n",
       "    <tr>\n",
       "      <th>679361</th>\n",
       "      <td>NaN</td>\n",
       "      <td>NaN</td>\n",
       "      <td>NaN</td>\n",
       "      <td>NaN</td>\n",
       "      <td>1_0</td>\n",
       "      <td>NaN</td>\n",
       "      <td>NaN</td>\n",
       "      <td>NaT</td>\n",
       "      <td>NaT</td>\n",
       "      <td>NaT</td>\n",
       "      <td>31.82</td>\n",
       "      <td>1.0</td>\n",
       "    </tr>\n",
       "    <tr>\n",
       "      <th>679362</th>\n",
       "      <td>NaN</td>\n",
       "      <td>NaN</td>\n",
       "      <td>NaN</td>\n",
       "      <td>NaN</td>\n",
       "      <td>0_1318</td>\n",
       "      <td>NaN</td>\n",
       "      <td>NaN</td>\n",
       "      <td>NaT</td>\n",
       "      <td>NaT</td>\n",
       "      <td>NaT</td>\n",
       "      <td>20.92</td>\n",
       "      <td>0.0</td>\n",
       "    </tr>\n",
       "    <tr>\n",
       "      <th>679363</th>\n",
       "      <td>NaN</td>\n",
       "      <td>NaN</td>\n",
       "      <td>NaN</td>\n",
       "      <td>NaN</td>\n",
       "      <td>0_1800</td>\n",
       "      <td>NaN</td>\n",
       "      <td>NaN</td>\n",
       "      <td>NaT</td>\n",
       "      <td>NaT</td>\n",
       "      <td>NaT</td>\n",
       "      <td>22.05</td>\n",
       "      <td>0.0</td>\n",
       "    </tr>\n",
       "    <tr>\n",
       "      <th>679364</th>\n",
       "      <td>NaN</td>\n",
       "      <td>NaN</td>\n",
       "      <td>NaN</td>\n",
       "      <td>NaN</td>\n",
       "      <td>0_1645</td>\n",
       "      <td>NaN</td>\n",
       "      <td>NaN</td>\n",
       "      <td>NaT</td>\n",
       "      <td>NaT</td>\n",
       "      <td>NaT</td>\n",
       "      <td>2.99</td>\n",
       "      <td>0.0</td>\n",
       "    </tr>\n",
       "    <tr>\n",
       "      <th>679365</th>\n",
       "      <td>NaN</td>\n",
       "      <td>NaN</td>\n",
       "      <td>NaN</td>\n",
       "      <td>NaN</td>\n",
       "      <td>0_322</td>\n",
       "      <td>NaN</td>\n",
       "      <td>NaN</td>\n",
       "      <td>NaT</td>\n",
       "      <td>NaT</td>\n",
       "      <td>NaT</td>\n",
       "      <td>2.99</td>\n",
       "      <td>0.0</td>\n",
       "    </tr>\n",
       "    <tr>\n",
       "      <th>679366</th>\n",
       "      <td>NaN</td>\n",
       "      <td>NaN</td>\n",
       "      <td>NaN</td>\n",
       "      <td>NaN</td>\n",
       "      <td>0_1620</td>\n",
       "      <td>NaN</td>\n",
       "      <td>NaN</td>\n",
       "      <td>NaT</td>\n",
       "      <td>NaT</td>\n",
       "      <td>NaT</td>\n",
       "      <td>0.80</td>\n",
       "      <td>0.0</td>\n",
       "    </tr>\n",
       "    <tr>\n",
       "      <th>679367</th>\n",
       "      <td>NaN</td>\n",
       "      <td>NaN</td>\n",
       "      <td>NaN</td>\n",
       "      <td>NaN</td>\n",
       "      <td>0_1025</td>\n",
       "      <td>NaN</td>\n",
       "      <td>NaN</td>\n",
       "      <td>NaT</td>\n",
       "      <td>NaT</td>\n",
       "      <td>NaT</td>\n",
       "      <td>24.99</td>\n",
       "      <td>0.0</td>\n",
       "    </tr>\n",
       "    <tr>\n",
       "      <th>679368</th>\n",
       "      <td>NaN</td>\n",
       "      <td>NaN</td>\n",
       "      <td>NaN</td>\n",
       "      <td>NaN</td>\n",
       "      <td>2_87</td>\n",
       "      <td>NaN</td>\n",
       "      <td>NaN</td>\n",
       "      <td>NaT</td>\n",
       "      <td>NaT</td>\n",
       "      <td>NaT</td>\n",
       "      <td>220.99</td>\n",
       "      <td>2.0</td>\n",
       "    </tr>\n",
       "    <tr>\n",
       "      <th>679369</th>\n",
       "      <td>NaN</td>\n",
       "      <td>NaN</td>\n",
       "      <td>NaN</td>\n",
       "      <td>NaN</td>\n",
       "      <td>1_394</td>\n",
       "      <td>NaN</td>\n",
       "      <td>NaN</td>\n",
       "      <td>NaT</td>\n",
       "      <td>NaT</td>\n",
       "      <td>NaT</td>\n",
       "      <td>39.73</td>\n",
       "      <td>1.0</td>\n",
       "    </tr>\n",
       "    <tr>\n",
       "      <th>679370</th>\n",
       "      <td>NaN</td>\n",
       "      <td>NaN</td>\n",
       "      <td>NaN</td>\n",
       "      <td>NaN</td>\n",
       "      <td>2_72</td>\n",
       "      <td>NaN</td>\n",
       "      <td>NaN</td>\n",
       "      <td>NaT</td>\n",
       "      <td>NaT</td>\n",
       "      <td>NaT</td>\n",
       "      <td>141.32</td>\n",
       "      <td>2.0</td>\n",
       "    </tr>\n",
       "    <tr>\n",
       "      <th>679371</th>\n",
       "      <td>NaN</td>\n",
       "      <td>NaN</td>\n",
       "      <td>NaN</td>\n",
       "      <td>NaN</td>\n",
       "      <td>0_310</td>\n",
       "      <td>NaN</td>\n",
       "      <td>NaN</td>\n",
       "      <td>NaT</td>\n",
       "      <td>NaT</td>\n",
       "      <td>NaT</td>\n",
       "      <td>1.94</td>\n",
       "      <td>0.0</td>\n",
       "    </tr>\n",
       "    <tr>\n",
       "      <th>679372</th>\n",
       "      <td>NaN</td>\n",
       "      <td>NaN</td>\n",
       "      <td>NaN</td>\n",
       "      <td>NaN</td>\n",
       "      <td>0_1624</td>\n",
       "      <td>NaN</td>\n",
       "      <td>NaN</td>\n",
       "      <td>NaT</td>\n",
       "      <td>NaT</td>\n",
       "      <td>NaT</td>\n",
       "      <td>24.50</td>\n",
       "      <td>0.0</td>\n",
       "    </tr>\n",
       "    <tr>\n",
       "      <th>679373</th>\n",
       "      <td>NaN</td>\n",
       "      <td>NaN</td>\n",
       "      <td>NaN</td>\n",
       "      <td>NaN</td>\n",
       "      <td>2_86</td>\n",
       "      <td>NaN</td>\n",
       "      <td>NaN</td>\n",
       "      <td>NaT</td>\n",
       "      <td>NaT</td>\n",
       "      <td>NaT</td>\n",
       "      <td>132.36</td>\n",
       "      <td>2.0</td>\n",
       "    </tr>\n",
       "    <tr>\n",
       "      <th>679374</th>\n",
       "      <td>NaN</td>\n",
       "      <td>NaN</td>\n",
       "      <td>NaN</td>\n",
       "      <td>NaN</td>\n",
       "      <td>0_299</td>\n",
       "      <td>NaN</td>\n",
       "      <td>NaN</td>\n",
       "      <td>NaT</td>\n",
       "      <td>NaT</td>\n",
       "      <td>NaT</td>\n",
       "      <td>22.99</td>\n",
       "      <td>0.0</td>\n",
       "    </tr>\n",
       "    <tr>\n",
       "      <th>679375</th>\n",
       "      <td>NaN</td>\n",
       "      <td>NaN</td>\n",
       "      <td>NaN</td>\n",
       "      <td>NaN</td>\n",
       "      <td>0_510</td>\n",
       "      <td>NaN</td>\n",
       "      <td>NaN</td>\n",
       "      <td>NaT</td>\n",
       "      <td>NaT</td>\n",
       "      <td>NaT</td>\n",
       "      <td>23.66</td>\n",
       "      <td>0.0</td>\n",
       "    </tr>\n",
       "    <tr>\n",
       "      <th>679376</th>\n",
       "      <td>NaN</td>\n",
       "      <td>NaN</td>\n",
       "      <td>NaN</td>\n",
       "      <td>NaN</td>\n",
       "      <td>0_2308</td>\n",
       "      <td>NaN</td>\n",
       "      <td>NaN</td>\n",
       "      <td>NaT</td>\n",
       "      <td>NaT</td>\n",
       "      <td>NaT</td>\n",
       "      <td>20.28</td>\n",
       "      <td>0.0</td>\n",
       "    </tr>\n",
       "  </tbody>\n",
       "</table>\n",
       "</div>"
      ],
      "text/plain": [
       "       client_id  sex  birth  age id_prod date session_id date_longue  \\\n",
       "679355       NaN  NaN    NaN  NaN  0_1016  NaN        NaN         NaT   \n",
       "679356       NaN  NaN    NaN  NaN  0_1780  NaN        NaN         NaT   \n",
       "679357       NaN  NaN    NaN  NaN     T_0  NaN        NaN         NaT   \n",
       "679358       NaN  NaN    NaN  NaN  0_1062  NaN        NaN         NaT   \n",
       "679359       NaN  NaN    NaN  NaN  0_1119  NaN        NaN         NaT   \n",
       "679360       NaN  NaN    NaN  NaN  0_1014  NaN        NaN         NaT   \n",
       "679361       NaN  NaN    NaN  NaN     1_0  NaN        NaN         NaT   \n",
       "679362       NaN  NaN    NaN  NaN  0_1318  NaN        NaN         NaT   \n",
       "679363       NaN  NaN    NaN  NaN  0_1800  NaN        NaN         NaT   \n",
       "679364       NaN  NaN    NaN  NaN  0_1645  NaN        NaN         NaT   \n",
       "679365       NaN  NaN    NaN  NaN   0_322  NaN        NaN         NaT   \n",
       "679366       NaN  NaN    NaN  NaN  0_1620  NaN        NaN         NaT   \n",
       "679367       NaN  NaN    NaN  NaN  0_1025  NaN        NaN         NaT   \n",
       "679368       NaN  NaN    NaN  NaN    2_87  NaN        NaN         NaT   \n",
       "679369       NaN  NaN    NaN  NaN   1_394  NaN        NaN         NaT   \n",
       "679370       NaN  NaN    NaN  NaN    2_72  NaN        NaN         NaT   \n",
       "679371       NaN  NaN    NaN  NaN   0_310  NaN        NaN         NaT   \n",
       "679372       NaN  NaN    NaN  NaN  0_1624  NaN        NaN         NaT   \n",
       "679373       NaN  NaN    NaN  NaN    2_86  NaN        NaN         NaT   \n",
       "679374       NaN  NaN    NaN  NaN   0_299  NaN        NaN         NaT   \n",
       "679375       NaN  NaN    NaN  NaN   0_510  NaN        NaN         NaT   \n",
       "679376       NaN  NaN    NaN  NaN  0_2308  NaN        NaN         NaT   \n",
       "\n",
       "       date_courte date_année   price  categ  \n",
       "679355         NaT        NaT   35.06    0.0  \n",
       "679356         NaT        NaT    1.67    0.0  \n",
       "679357         NaT        NaT   -1.00    0.0  \n",
       "679358         NaT        NaT   20.08    0.0  \n",
       "679359         NaT        NaT    2.99    0.0  \n",
       "679360         NaT        NaT    1.15    0.0  \n",
       "679361         NaT        NaT   31.82    1.0  \n",
       "679362         NaT        NaT   20.92    0.0  \n",
       "679363         NaT        NaT   22.05    0.0  \n",
       "679364         NaT        NaT    2.99    0.0  \n",
       "679365         NaT        NaT    2.99    0.0  \n",
       "679366         NaT        NaT    0.80    0.0  \n",
       "679367         NaT        NaT   24.99    0.0  \n",
       "679368         NaT        NaT  220.99    2.0  \n",
       "679369         NaT        NaT   39.73    1.0  \n",
       "679370         NaT        NaT  141.32    2.0  \n",
       "679371         NaT        NaT    1.94    0.0  \n",
       "679372         NaT        NaT   24.50    0.0  \n",
       "679373         NaT        NaT  132.36    2.0  \n",
       "679374         NaT        NaT   22.99    0.0  \n",
       "679375         NaT        NaT   23.66    0.0  \n",
       "679376         NaT        NaT   20.28    0.0  "
      ]
     },
     "execution_count": 155,
     "metadata": {},
     "output_type": "execute_result"
    }
   ],
   "source": [
    "# Données manquantes apres jointure\n",
    "# Produits avec 0 ventes\n",
    "id_prod_sans_vente = post_merge(df2)\n",
    "id_prod_sans_vente"
   ]
  },
  {
   "cell_type": "code",
   "execution_count": 156,
   "metadata": {
    "id": "a6wNjoORoMP7"
   },
   "outputs": [],
   "source": [
    "### Enregistrement du id_prod_sans_vente sous format CSV\n",
    "id_prod_sans_vente.to_csv(r'C:\\Users\\melle\\FORMATION\\P6_Mendy\\id_prod_sans_vente.csv')"
   ]
  },
  {
   "cell_type": "code",
   "execution_count": 193,
   "metadata": {
    "colab": {
     "base_uri": "https://localhost:8080/"
    },
    "id": "YAdaimqNoMP7",
    "outputId": "f4a526d1-5a0c-46ff-a133-56001554abd7"
   },
   "outputs": [
    {
     "data": {
      "text/plain": [
       "(22, 12)"
      ]
     },
     "execution_count": 193,
     "metadata": {},
     "output_type": "execute_result"
    }
   ],
   "source": [
    "id_prod_sans_vente.shape"
   ]
  },
  {
   "cell_type": "code",
   "execution_count": 194,
   "metadata": {
    "id": "c1gaFD3OoMP8"
   },
   "outputs": [],
   "source": [
    "def post_merge_2(df):\n",
    "    \n",
    "    check = transactions[\"id_prod\"].values.tolist()\n",
    "    \n",
    "    return df2[~df2.id_prod.isin(check)]"
   ]
  },
  {
   "cell_type": "code",
   "execution_count": 195,
   "metadata": {
    "colab": {
     "base_uri": "https://localhost:8080/",
     "height": 1000
    },
    "id": "PXfSOaUBoMP9",
    "outputId": "06b17436-ceaa-4060-d4c5-71f1f8bea68f"
   },
   "outputs": [
    {
     "data": {
      "text/html": [
       "<div>\n",
       "<style scoped>\n",
       "    .dataframe tbody tr th:only-of-type {\n",
       "        vertical-align: middle;\n",
       "    }\n",
       "\n",
       "    .dataframe tbody tr th {\n",
       "        vertical-align: top;\n",
       "    }\n",
       "\n",
       "    .dataframe thead th {\n",
       "        text-align: right;\n",
       "    }\n",
       "</style>\n",
       "<table border=\"1\" class=\"dataframe\">\n",
       "  <thead>\n",
       "    <tr style=\"text-align: right;\">\n",
       "      <th></th>\n",
       "      <th>client_id</th>\n",
       "      <th>sex</th>\n",
       "      <th>birth</th>\n",
       "      <th>age</th>\n",
       "      <th>id_prod</th>\n",
       "      <th>date</th>\n",
       "      <th>session_id</th>\n",
       "      <th>date_longue</th>\n",
       "      <th>date_courte</th>\n",
       "      <th>date_année</th>\n",
       "      <th>price</th>\n",
       "      <th>categ</th>\n",
       "    </tr>\n",
       "  </thead>\n",
       "  <tbody>\n",
       "    <tr>\n",
       "      <th>667994</th>\n",
       "      <td>c_8253</td>\n",
       "      <td>f</td>\n",
       "      <td>2001.0</td>\n",
       "      <td>20.0</td>\n",
       "      <td>NaN</td>\n",
       "      <td>NaN</td>\n",
       "      <td>NaN</td>\n",
       "      <td>NaT</td>\n",
       "      <td>NaT</td>\n",
       "      <td>NaT</td>\n",
       "      <td>NaN</td>\n",
       "      <td>NaN</td>\n",
       "    </tr>\n",
       "    <tr>\n",
       "      <th>667995</th>\n",
       "      <td>c_3789</td>\n",
       "      <td>f</td>\n",
       "      <td>1997.0</td>\n",
       "      <td>24.0</td>\n",
       "      <td>NaN</td>\n",
       "      <td>NaN</td>\n",
       "      <td>NaN</td>\n",
       "      <td>NaT</td>\n",
       "      <td>NaT</td>\n",
       "      <td>NaT</td>\n",
       "      <td>NaN</td>\n",
       "      <td>NaN</td>\n",
       "    </tr>\n",
       "    <tr>\n",
       "      <th>667996</th>\n",
       "      <td>c_4406</td>\n",
       "      <td>f</td>\n",
       "      <td>1998.0</td>\n",
       "      <td>23.0</td>\n",
       "      <td>NaN</td>\n",
       "      <td>NaN</td>\n",
       "      <td>NaN</td>\n",
       "      <td>NaT</td>\n",
       "      <td>NaT</td>\n",
       "      <td>NaT</td>\n",
       "      <td>NaN</td>\n",
       "      <td>NaN</td>\n",
       "    </tr>\n",
       "    <tr>\n",
       "      <th>667997</th>\n",
       "      <td>ct_0</td>\n",
       "      <td>f</td>\n",
       "      <td>2001.0</td>\n",
       "      <td>20.0</td>\n",
       "      <td>NaN</td>\n",
       "      <td>NaN</td>\n",
       "      <td>NaN</td>\n",
       "      <td>NaT</td>\n",
       "      <td>NaT</td>\n",
       "      <td>NaT</td>\n",
       "      <td>NaN</td>\n",
       "      <td>NaN</td>\n",
       "    </tr>\n",
       "    <tr>\n",
       "      <th>667998</th>\n",
       "      <td>c_2706</td>\n",
       "      <td>f</td>\n",
       "      <td>1967.0</td>\n",
       "      <td>54.0</td>\n",
       "      <td>NaN</td>\n",
       "      <td>NaN</td>\n",
       "      <td>NaN</td>\n",
       "      <td>NaT</td>\n",
       "      <td>NaT</td>\n",
       "      <td>NaT</td>\n",
       "      <td>NaN</td>\n",
       "      <td>NaN</td>\n",
       "    </tr>\n",
       "    <tr>\n",
       "      <th>667999</th>\n",
       "      <td>c_3443</td>\n",
       "      <td>m</td>\n",
       "      <td>1959.0</td>\n",
       "      <td>62.0</td>\n",
       "      <td>NaN</td>\n",
       "      <td>NaN</td>\n",
       "      <td>NaN</td>\n",
       "      <td>NaT</td>\n",
       "      <td>NaT</td>\n",
       "      <td>NaT</td>\n",
       "      <td>NaN</td>\n",
       "      <td>NaN</td>\n",
       "    </tr>\n",
       "    <tr>\n",
       "      <th>668000</th>\n",
       "      <td>c_4447</td>\n",
       "      <td>m</td>\n",
       "      <td>1956.0</td>\n",
       "      <td>65.0</td>\n",
       "      <td>NaN</td>\n",
       "      <td>NaN</td>\n",
       "      <td>NaN</td>\n",
       "      <td>NaT</td>\n",
       "      <td>NaT</td>\n",
       "      <td>NaT</td>\n",
       "      <td>NaN</td>\n",
       "      <td>NaN</td>\n",
       "    </tr>\n",
       "    <tr>\n",
       "      <th>668001</th>\n",
       "      <td>c_3017</td>\n",
       "      <td>f</td>\n",
       "      <td>1992.0</td>\n",
       "      <td>29.0</td>\n",
       "      <td>NaN</td>\n",
       "      <td>NaN</td>\n",
       "      <td>NaN</td>\n",
       "      <td>NaT</td>\n",
       "      <td>NaT</td>\n",
       "      <td>NaT</td>\n",
       "      <td>NaN</td>\n",
       "      <td>NaN</td>\n",
       "    </tr>\n",
       "    <tr>\n",
       "      <th>668002</th>\n",
       "      <td>c_4086</td>\n",
       "      <td>f</td>\n",
       "      <td>1992.0</td>\n",
       "      <td>29.0</td>\n",
       "      <td>NaN</td>\n",
       "      <td>NaN</td>\n",
       "      <td>NaN</td>\n",
       "      <td>NaT</td>\n",
       "      <td>NaT</td>\n",
       "      <td>NaT</td>\n",
       "      <td>NaN</td>\n",
       "      <td>NaN</td>\n",
       "    </tr>\n",
       "    <tr>\n",
       "      <th>668003</th>\n",
       "      <td>c_6930</td>\n",
       "      <td>m</td>\n",
       "      <td>2004.0</td>\n",
       "      <td>17.0</td>\n",
       "      <td>NaN</td>\n",
       "      <td>NaN</td>\n",
       "      <td>NaN</td>\n",
       "      <td>NaT</td>\n",
       "      <td>NaT</td>\n",
       "      <td>NaT</td>\n",
       "      <td>NaN</td>\n",
       "      <td>NaN</td>\n",
       "    </tr>\n",
       "    <tr>\n",
       "      <th>668004</th>\n",
       "      <td>c_4358</td>\n",
       "      <td>m</td>\n",
       "      <td>1999.0</td>\n",
       "      <td>22.0</td>\n",
       "      <td>NaN</td>\n",
       "      <td>NaN</td>\n",
       "      <td>NaN</td>\n",
       "      <td>NaT</td>\n",
       "      <td>NaT</td>\n",
       "      <td>NaT</td>\n",
       "      <td>NaN</td>\n",
       "      <td>NaN</td>\n",
       "    </tr>\n",
       "    <tr>\n",
       "      <th>668005</th>\n",
       "      <td>c_8381</td>\n",
       "      <td>f</td>\n",
       "      <td>1965.0</td>\n",
       "      <td>56.0</td>\n",
       "      <td>NaN</td>\n",
       "      <td>NaN</td>\n",
       "      <td>NaN</td>\n",
       "      <td>NaT</td>\n",
       "      <td>NaT</td>\n",
       "      <td>NaT</td>\n",
       "      <td>NaN</td>\n",
       "      <td>NaN</td>\n",
       "    </tr>\n",
       "    <tr>\n",
       "      <th>668006</th>\n",
       "      <td>c_1223</td>\n",
       "      <td>m</td>\n",
       "      <td>1963.0</td>\n",
       "      <td>58.0</td>\n",
       "      <td>NaN</td>\n",
       "      <td>NaN</td>\n",
       "      <td>NaN</td>\n",
       "      <td>NaT</td>\n",
       "      <td>NaT</td>\n",
       "      <td>NaT</td>\n",
       "      <td>NaN</td>\n",
       "      <td>NaN</td>\n",
       "    </tr>\n",
       "    <tr>\n",
       "      <th>668007</th>\n",
       "      <td>c_6862</td>\n",
       "      <td>f</td>\n",
       "      <td>2002.0</td>\n",
       "      <td>19.0</td>\n",
       "      <td>NaN</td>\n",
       "      <td>NaN</td>\n",
       "      <td>NaN</td>\n",
       "      <td>NaT</td>\n",
       "      <td>NaT</td>\n",
       "      <td>NaT</td>\n",
       "      <td>NaN</td>\n",
       "      <td>NaN</td>\n",
       "    </tr>\n",
       "    <tr>\n",
       "      <th>668008</th>\n",
       "      <td>c_5245</td>\n",
       "      <td>f</td>\n",
       "      <td>2004.0</td>\n",
       "      <td>17.0</td>\n",
       "      <td>NaN</td>\n",
       "      <td>NaN</td>\n",
       "      <td>NaN</td>\n",
       "      <td>NaT</td>\n",
       "      <td>NaT</td>\n",
       "      <td>NaT</td>\n",
       "      <td>NaN</td>\n",
       "      <td>NaN</td>\n",
       "    </tr>\n",
       "    <tr>\n",
       "      <th>668009</th>\n",
       "      <td>c_5223</td>\n",
       "      <td>m</td>\n",
       "      <td>2003.0</td>\n",
       "      <td>18.0</td>\n",
       "      <td>NaN</td>\n",
       "      <td>NaN</td>\n",
       "      <td>NaN</td>\n",
       "      <td>NaT</td>\n",
       "      <td>NaT</td>\n",
       "      <td>NaT</td>\n",
       "      <td>NaN</td>\n",
       "      <td>NaN</td>\n",
       "    </tr>\n",
       "    <tr>\n",
       "      <th>668010</th>\n",
       "      <td>c_6735</td>\n",
       "      <td>m</td>\n",
       "      <td>2004.0</td>\n",
       "      <td>17.0</td>\n",
       "      <td>NaN</td>\n",
       "      <td>NaN</td>\n",
       "      <td>NaN</td>\n",
       "      <td>NaT</td>\n",
       "      <td>NaT</td>\n",
       "      <td>NaT</td>\n",
       "      <td>NaN</td>\n",
       "      <td>NaN</td>\n",
       "    </tr>\n",
       "    <tr>\n",
       "      <th>668011</th>\n",
       "      <td>c_862</td>\n",
       "      <td>f</td>\n",
       "      <td>1956.0</td>\n",
       "      <td>65.0</td>\n",
       "      <td>NaN</td>\n",
       "      <td>NaN</td>\n",
       "      <td>NaN</td>\n",
       "      <td>NaT</td>\n",
       "      <td>NaT</td>\n",
       "      <td>NaT</td>\n",
       "      <td>NaN</td>\n",
       "      <td>NaN</td>\n",
       "    </tr>\n",
       "    <tr>\n",
       "      <th>668012</th>\n",
       "      <td>c_7584</td>\n",
       "      <td>f</td>\n",
       "      <td>1960.0</td>\n",
       "      <td>61.0</td>\n",
       "      <td>NaN</td>\n",
       "      <td>NaN</td>\n",
       "      <td>NaN</td>\n",
       "      <td>NaT</td>\n",
       "      <td>NaT</td>\n",
       "      <td>NaT</td>\n",
       "      <td>NaN</td>\n",
       "      <td>NaN</td>\n",
       "    </tr>\n",
       "    <tr>\n",
       "      <th>668013</th>\n",
       "      <td>c_90</td>\n",
       "      <td>m</td>\n",
       "      <td>2001.0</td>\n",
       "      <td>20.0</td>\n",
       "      <td>NaN</td>\n",
       "      <td>NaN</td>\n",
       "      <td>NaN</td>\n",
       "      <td>NaT</td>\n",
       "      <td>NaT</td>\n",
       "      <td>NaT</td>\n",
       "      <td>NaN</td>\n",
       "      <td>NaN</td>\n",
       "    </tr>\n",
       "    <tr>\n",
       "      <th>668014</th>\n",
       "      <td>c_587</td>\n",
       "      <td>m</td>\n",
       "      <td>1993.0</td>\n",
       "      <td>28.0</td>\n",
       "      <td>NaN</td>\n",
       "      <td>NaN</td>\n",
       "      <td>NaN</td>\n",
       "      <td>NaT</td>\n",
       "      <td>NaT</td>\n",
       "      <td>NaT</td>\n",
       "      <td>NaN</td>\n",
       "      <td>NaN</td>\n",
       "    </tr>\n",
       "    <tr>\n",
       "      <th>668015</th>\n",
       "      <td>ct_1</td>\n",
       "      <td>m</td>\n",
       "      <td>2001.0</td>\n",
       "      <td>20.0</td>\n",
       "      <td>NaN</td>\n",
       "      <td>NaN</td>\n",
       "      <td>NaN</td>\n",
       "      <td>NaT</td>\n",
       "      <td>NaT</td>\n",
       "      <td>NaT</td>\n",
       "      <td>NaN</td>\n",
       "      <td>NaN</td>\n",
       "    </tr>\n",
       "    <tr>\n",
       "      <th>668016</th>\n",
       "      <td>c_3526</td>\n",
       "      <td>m</td>\n",
       "      <td>1956.0</td>\n",
       "      <td>65.0</td>\n",
       "      <td>NaN</td>\n",
       "      <td>NaN</td>\n",
       "      <td>NaN</td>\n",
       "      <td>NaT</td>\n",
       "      <td>NaT</td>\n",
       "      <td>NaT</td>\n",
       "      <td>NaN</td>\n",
       "      <td>NaN</td>\n",
       "    </tr>\n",
       "    <tr>\n",
       "      <th>679355</th>\n",
       "      <td>NaN</td>\n",
       "      <td>NaN</td>\n",
       "      <td>NaN</td>\n",
       "      <td>NaN</td>\n",
       "      <td>0_1016</td>\n",
       "      <td>NaN</td>\n",
       "      <td>NaN</td>\n",
       "      <td>NaT</td>\n",
       "      <td>NaT</td>\n",
       "      <td>NaT</td>\n",
       "      <td>35.06</td>\n",
       "      <td>0.0</td>\n",
       "    </tr>\n",
       "    <tr>\n",
       "      <th>679356</th>\n",
       "      <td>NaN</td>\n",
       "      <td>NaN</td>\n",
       "      <td>NaN</td>\n",
       "      <td>NaN</td>\n",
       "      <td>0_1780</td>\n",
       "      <td>NaN</td>\n",
       "      <td>NaN</td>\n",
       "      <td>NaT</td>\n",
       "      <td>NaT</td>\n",
       "      <td>NaT</td>\n",
       "      <td>1.67</td>\n",
       "      <td>0.0</td>\n",
       "    </tr>\n",
       "    <tr>\n",
       "      <th>679357</th>\n",
       "      <td>NaN</td>\n",
       "      <td>NaN</td>\n",
       "      <td>NaN</td>\n",
       "      <td>NaN</td>\n",
       "      <td>T_0</td>\n",
       "      <td>NaN</td>\n",
       "      <td>NaN</td>\n",
       "      <td>NaT</td>\n",
       "      <td>NaT</td>\n",
       "      <td>NaT</td>\n",
       "      <td>-1.00</td>\n",
       "      <td>0.0</td>\n",
       "    </tr>\n",
       "    <tr>\n",
       "      <th>679358</th>\n",
       "      <td>NaN</td>\n",
       "      <td>NaN</td>\n",
       "      <td>NaN</td>\n",
       "      <td>NaN</td>\n",
       "      <td>0_1062</td>\n",
       "      <td>NaN</td>\n",
       "      <td>NaN</td>\n",
       "      <td>NaT</td>\n",
       "      <td>NaT</td>\n",
       "      <td>NaT</td>\n",
       "      <td>20.08</td>\n",
       "      <td>0.0</td>\n",
       "    </tr>\n",
       "    <tr>\n",
       "      <th>679359</th>\n",
       "      <td>NaN</td>\n",
       "      <td>NaN</td>\n",
       "      <td>NaN</td>\n",
       "      <td>NaN</td>\n",
       "      <td>0_1119</td>\n",
       "      <td>NaN</td>\n",
       "      <td>NaN</td>\n",
       "      <td>NaT</td>\n",
       "      <td>NaT</td>\n",
       "      <td>NaT</td>\n",
       "      <td>2.99</td>\n",
       "      <td>0.0</td>\n",
       "    </tr>\n",
       "    <tr>\n",
       "      <th>679360</th>\n",
       "      <td>NaN</td>\n",
       "      <td>NaN</td>\n",
       "      <td>NaN</td>\n",
       "      <td>NaN</td>\n",
       "      <td>0_1014</td>\n",
       "      <td>NaN</td>\n",
       "      <td>NaN</td>\n",
       "      <td>NaT</td>\n",
       "      <td>NaT</td>\n",
       "      <td>NaT</td>\n",
       "      <td>1.15</td>\n",
       "      <td>0.0</td>\n",
       "    </tr>\n",
       "    <tr>\n",
       "      <th>679361</th>\n",
       "      <td>NaN</td>\n",
       "      <td>NaN</td>\n",
       "      <td>NaN</td>\n",
       "      <td>NaN</td>\n",
       "      <td>1_0</td>\n",
       "      <td>NaN</td>\n",
       "      <td>NaN</td>\n",
       "      <td>NaT</td>\n",
       "      <td>NaT</td>\n",
       "      <td>NaT</td>\n",
       "      <td>31.82</td>\n",
       "      <td>1.0</td>\n",
       "    </tr>\n",
       "    <tr>\n",
       "      <th>679362</th>\n",
       "      <td>NaN</td>\n",
       "      <td>NaN</td>\n",
       "      <td>NaN</td>\n",
       "      <td>NaN</td>\n",
       "      <td>0_1318</td>\n",
       "      <td>NaN</td>\n",
       "      <td>NaN</td>\n",
       "      <td>NaT</td>\n",
       "      <td>NaT</td>\n",
       "      <td>NaT</td>\n",
       "      <td>20.92</td>\n",
       "      <td>0.0</td>\n",
       "    </tr>\n",
       "    <tr>\n",
       "      <th>679363</th>\n",
       "      <td>NaN</td>\n",
       "      <td>NaN</td>\n",
       "      <td>NaN</td>\n",
       "      <td>NaN</td>\n",
       "      <td>0_1800</td>\n",
       "      <td>NaN</td>\n",
       "      <td>NaN</td>\n",
       "      <td>NaT</td>\n",
       "      <td>NaT</td>\n",
       "      <td>NaT</td>\n",
       "      <td>22.05</td>\n",
       "      <td>0.0</td>\n",
       "    </tr>\n",
       "    <tr>\n",
       "      <th>679364</th>\n",
       "      <td>NaN</td>\n",
       "      <td>NaN</td>\n",
       "      <td>NaN</td>\n",
       "      <td>NaN</td>\n",
       "      <td>0_1645</td>\n",
       "      <td>NaN</td>\n",
       "      <td>NaN</td>\n",
       "      <td>NaT</td>\n",
       "      <td>NaT</td>\n",
       "      <td>NaT</td>\n",
       "      <td>2.99</td>\n",
       "      <td>0.0</td>\n",
       "    </tr>\n",
       "    <tr>\n",
       "      <th>679365</th>\n",
       "      <td>NaN</td>\n",
       "      <td>NaN</td>\n",
       "      <td>NaN</td>\n",
       "      <td>NaN</td>\n",
       "      <td>0_322</td>\n",
       "      <td>NaN</td>\n",
       "      <td>NaN</td>\n",
       "      <td>NaT</td>\n",
       "      <td>NaT</td>\n",
       "      <td>NaT</td>\n",
       "      <td>2.99</td>\n",
       "      <td>0.0</td>\n",
       "    </tr>\n",
       "    <tr>\n",
       "      <th>679366</th>\n",
       "      <td>NaN</td>\n",
       "      <td>NaN</td>\n",
       "      <td>NaN</td>\n",
       "      <td>NaN</td>\n",
       "      <td>0_1620</td>\n",
       "      <td>NaN</td>\n",
       "      <td>NaN</td>\n",
       "      <td>NaT</td>\n",
       "      <td>NaT</td>\n",
       "      <td>NaT</td>\n",
       "      <td>0.80</td>\n",
       "      <td>0.0</td>\n",
       "    </tr>\n",
       "    <tr>\n",
       "      <th>679367</th>\n",
       "      <td>NaN</td>\n",
       "      <td>NaN</td>\n",
       "      <td>NaN</td>\n",
       "      <td>NaN</td>\n",
       "      <td>0_1025</td>\n",
       "      <td>NaN</td>\n",
       "      <td>NaN</td>\n",
       "      <td>NaT</td>\n",
       "      <td>NaT</td>\n",
       "      <td>NaT</td>\n",
       "      <td>24.99</td>\n",
       "      <td>0.0</td>\n",
       "    </tr>\n",
       "    <tr>\n",
       "      <th>679368</th>\n",
       "      <td>NaN</td>\n",
       "      <td>NaN</td>\n",
       "      <td>NaN</td>\n",
       "      <td>NaN</td>\n",
       "      <td>2_87</td>\n",
       "      <td>NaN</td>\n",
       "      <td>NaN</td>\n",
       "      <td>NaT</td>\n",
       "      <td>NaT</td>\n",
       "      <td>NaT</td>\n",
       "      <td>220.99</td>\n",
       "      <td>2.0</td>\n",
       "    </tr>\n",
       "    <tr>\n",
       "      <th>679369</th>\n",
       "      <td>NaN</td>\n",
       "      <td>NaN</td>\n",
       "      <td>NaN</td>\n",
       "      <td>NaN</td>\n",
       "      <td>1_394</td>\n",
       "      <td>NaN</td>\n",
       "      <td>NaN</td>\n",
       "      <td>NaT</td>\n",
       "      <td>NaT</td>\n",
       "      <td>NaT</td>\n",
       "      <td>39.73</td>\n",
       "      <td>1.0</td>\n",
       "    </tr>\n",
       "    <tr>\n",
       "      <th>679370</th>\n",
       "      <td>NaN</td>\n",
       "      <td>NaN</td>\n",
       "      <td>NaN</td>\n",
       "      <td>NaN</td>\n",
       "      <td>2_72</td>\n",
       "      <td>NaN</td>\n",
       "      <td>NaN</td>\n",
       "      <td>NaT</td>\n",
       "      <td>NaT</td>\n",
       "      <td>NaT</td>\n",
       "      <td>141.32</td>\n",
       "      <td>2.0</td>\n",
       "    </tr>\n",
       "    <tr>\n",
       "      <th>679371</th>\n",
       "      <td>NaN</td>\n",
       "      <td>NaN</td>\n",
       "      <td>NaN</td>\n",
       "      <td>NaN</td>\n",
       "      <td>0_310</td>\n",
       "      <td>NaN</td>\n",
       "      <td>NaN</td>\n",
       "      <td>NaT</td>\n",
       "      <td>NaT</td>\n",
       "      <td>NaT</td>\n",
       "      <td>1.94</td>\n",
       "      <td>0.0</td>\n",
       "    </tr>\n",
       "    <tr>\n",
       "      <th>679372</th>\n",
       "      <td>NaN</td>\n",
       "      <td>NaN</td>\n",
       "      <td>NaN</td>\n",
       "      <td>NaN</td>\n",
       "      <td>0_1624</td>\n",
       "      <td>NaN</td>\n",
       "      <td>NaN</td>\n",
       "      <td>NaT</td>\n",
       "      <td>NaT</td>\n",
       "      <td>NaT</td>\n",
       "      <td>24.50</td>\n",
       "      <td>0.0</td>\n",
       "    </tr>\n",
       "    <tr>\n",
       "      <th>679373</th>\n",
       "      <td>NaN</td>\n",
       "      <td>NaN</td>\n",
       "      <td>NaN</td>\n",
       "      <td>NaN</td>\n",
       "      <td>2_86</td>\n",
       "      <td>NaN</td>\n",
       "      <td>NaN</td>\n",
       "      <td>NaT</td>\n",
       "      <td>NaT</td>\n",
       "      <td>NaT</td>\n",
       "      <td>132.36</td>\n",
       "      <td>2.0</td>\n",
       "    </tr>\n",
       "    <tr>\n",
       "      <th>679374</th>\n",
       "      <td>NaN</td>\n",
       "      <td>NaN</td>\n",
       "      <td>NaN</td>\n",
       "      <td>NaN</td>\n",
       "      <td>0_299</td>\n",
       "      <td>NaN</td>\n",
       "      <td>NaN</td>\n",
       "      <td>NaT</td>\n",
       "      <td>NaT</td>\n",
       "      <td>NaT</td>\n",
       "      <td>22.99</td>\n",
       "      <td>0.0</td>\n",
       "    </tr>\n",
       "    <tr>\n",
       "      <th>679375</th>\n",
       "      <td>NaN</td>\n",
       "      <td>NaN</td>\n",
       "      <td>NaN</td>\n",
       "      <td>NaN</td>\n",
       "      <td>0_510</td>\n",
       "      <td>NaN</td>\n",
       "      <td>NaN</td>\n",
       "      <td>NaT</td>\n",
       "      <td>NaT</td>\n",
       "      <td>NaT</td>\n",
       "      <td>23.66</td>\n",
       "      <td>0.0</td>\n",
       "    </tr>\n",
       "    <tr>\n",
       "      <th>679376</th>\n",
       "      <td>NaN</td>\n",
       "      <td>NaN</td>\n",
       "      <td>NaN</td>\n",
       "      <td>NaN</td>\n",
       "      <td>0_2308</td>\n",
       "      <td>NaN</td>\n",
       "      <td>NaN</td>\n",
       "      <td>NaT</td>\n",
       "      <td>NaT</td>\n",
       "      <td>NaT</td>\n",
       "      <td>20.28</td>\n",
       "      <td>0.0</td>\n",
       "    </tr>\n",
       "  </tbody>\n",
       "</table>\n",
       "</div>"
      ],
      "text/plain": [
       "       client_id  sex   birth   age id_prod date session_id date_longue  \\\n",
       "667994    c_8253    f  2001.0  20.0     NaN  NaN        NaN         NaT   \n",
       "667995    c_3789    f  1997.0  24.0     NaN  NaN        NaN         NaT   \n",
       "667996    c_4406    f  1998.0  23.0     NaN  NaN        NaN         NaT   \n",
       "667997      ct_0    f  2001.0  20.0     NaN  NaN        NaN         NaT   \n",
       "667998    c_2706    f  1967.0  54.0     NaN  NaN        NaN         NaT   \n",
       "667999    c_3443    m  1959.0  62.0     NaN  NaN        NaN         NaT   \n",
       "668000    c_4447    m  1956.0  65.0     NaN  NaN        NaN         NaT   \n",
       "668001    c_3017    f  1992.0  29.0     NaN  NaN        NaN         NaT   \n",
       "668002    c_4086    f  1992.0  29.0     NaN  NaN        NaN         NaT   \n",
       "668003    c_6930    m  2004.0  17.0     NaN  NaN        NaN         NaT   \n",
       "668004    c_4358    m  1999.0  22.0     NaN  NaN        NaN         NaT   \n",
       "668005    c_8381    f  1965.0  56.0     NaN  NaN        NaN         NaT   \n",
       "668006    c_1223    m  1963.0  58.0     NaN  NaN        NaN         NaT   \n",
       "668007    c_6862    f  2002.0  19.0     NaN  NaN        NaN         NaT   \n",
       "668008    c_5245    f  2004.0  17.0     NaN  NaN        NaN         NaT   \n",
       "668009    c_5223    m  2003.0  18.0     NaN  NaN        NaN         NaT   \n",
       "668010    c_6735    m  2004.0  17.0     NaN  NaN        NaN         NaT   \n",
       "668011     c_862    f  1956.0  65.0     NaN  NaN        NaN         NaT   \n",
       "668012    c_7584    f  1960.0  61.0     NaN  NaN        NaN         NaT   \n",
       "668013      c_90    m  2001.0  20.0     NaN  NaN        NaN         NaT   \n",
       "668014     c_587    m  1993.0  28.0     NaN  NaN        NaN         NaT   \n",
       "668015      ct_1    m  2001.0  20.0     NaN  NaN        NaN         NaT   \n",
       "668016    c_3526    m  1956.0  65.0     NaN  NaN        NaN         NaT   \n",
       "679355       NaN  NaN     NaN   NaN  0_1016  NaN        NaN         NaT   \n",
       "679356       NaN  NaN     NaN   NaN  0_1780  NaN        NaN         NaT   \n",
       "679357       NaN  NaN     NaN   NaN     T_0  NaN        NaN         NaT   \n",
       "679358       NaN  NaN     NaN   NaN  0_1062  NaN        NaN         NaT   \n",
       "679359       NaN  NaN     NaN   NaN  0_1119  NaN        NaN         NaT   \n",
       "679360       NaN  NaN     NaN   NaN  0_1014  NaN        NaN         NaT   \n",
       "679361       NaN  NaN     NaN   NaN     1_0  NaN        NaN         NaT   \n",
       "679362       NaN  NaN     NaN   NaN  0_1318  NaN        NaN         NaT   \n",
       "679363       NaN  NaN     NaN   NaN  0_1800  NaN        NaN         NaT   \n",
       "679364       NaN  NaN     NaN   NaN  0_1645  NaN        NaN         NaT   \n",
       "679365       NaN  NaN     NaN   NaN   0_322  NaN        NaN         NaT   \n",
       "679366       NaN  NaN     NaN   NaN  0_1620  NaN        NaN         NaT   \n",
       "679367       NaN  NaN     NaN   NaN  0_1025  NaN        NaN         NaT   \n",
       "679368       NaN  NaN     NaN   NaN    2_87  NaN        NaN         NaT   \n",
       "679369       NaN  NaN     NaN   NaN   1_394  NaN        NaN         NaT   \n",
       "679370       NaN  NaN     NaN   NaN    2_72  NaN        NaN         NaT   \n",
       "679371       NaN  NaN     NaN   NaN   0_310  NaN        NaN         NaT   \n",
       "679372       NaN  NaN     NaN   NaN  0_1624  NaN        NaN         NaT   \n",
       "679373       NaN  NaN     NaN   NaN    2_86  NaN        NaN         NaT   \n",
       "679374       NaN  NaN     NaN   NaN   0_299  NaN        NaN         NaT   \n",
       "679375       NaN  NaN     NaN   NaN   0_510  NaN        NaN         NaT   \n",
       "679376       NaN  NaN     NaN   NaN  0_2308  NaN        NaN         NaT   \n",
       "\n",
       "       date_courte date_année   price  categ  \n",
       "667994         NaT        NaT     NaN    NaN  \n",
       "667995         NaT        NaT     NaN    NaN  \n",
       "667996         NaT        NaT     NaN    NaN  \n",
       "667997         NaT        NaT     NaN    NaN  \n",
       "667998         NaT        NaT     NaN    NaN  \n",
       "667999         NaT        NaT     NaN    NaN  \n",
       "668000         NaT        NaT     NaN    NaN  \n",
       "668001         NaT        NaT     NaN    NaN  \n",
       "668002         NaT        NaT     NaN    NaN  \n",
       "668003         NaT        NaT     NaN    NaN  \n",
       "668004         NaT        NaT     NaN    NaN  \n",
       "668005         NaT        NaT     NaN    NaN  \n",
       "668006         NaT        NaT     NaN    NaN  \n",
       "668007         NaT        NaT     NaN    NaN  \n",
       "668008         NaT        NaT     NaN    NaN  \n",
       "668009         NaT        NaT     NaN    NaN  \n",
       "668010         NaT        NaT     NaN    NaN  \n",
       "668011         NaT        NaT     NaN    NaN  \n",
       "668012         NaT        NaT     NaN    NaN  \n",
       "668013         NaT        NaT     NaN    NaN  \n",
       "668014         NaT        NaT     NaN    NaN  \n",
       "668015         NaT        NaT     NaN    NaN  \n",
       "668016         NaT        NaT     NaN    NaN  \n",
       "679355         NaT        NaT   35.06    0.0  \n",
       "679356         NaT        NaT    1.67    0.0  \n",
       "679357         NaT        NaT   -1.00    0.0  \n",
       "679358         NaT        NaT   20.08    0.0  \n",
       "679359         NaT        NaT    2.99    0.0  \n",
       "679360         NaT        NaT    1.15    0.0  \n",
       "679361         NaT        NaT   31.82    1.0  \n",
       "679362         NaT        NaT   20.92    0.0  \n",
       "679363         NaT        NaT   22.05    0.0  \n",
       "679364         NaT        NaT    2.99    0.0  \n",
       "679365         NaT        NaT    2.99    0.0  \n",
       "679366         NaT        NaT    0.80    0.0  \n",
       "679367         NaT        NaT   24.99    0.0  \n",
       "679368         NaT        NaT  220.99    2.0  \n",
       "679369         NaT        NaT   39.73    1.0  \n",
       "679370         NaT        NaT  141.32    2.0  \n",
       "679371         NaT        NaT    1.94    0.0  \n",
       "679372         NaT        NaT   24.50    0.0  \n",
       "679373         NaT        NaT  132.36    2.0  \n",
       "679374         NaT        NaT   22.99    0.0  \n",
       "679375         NaT        NaT   23.66    0.0  \n",
       "679376         NaT        NaT   20.28    0.0  "
      ]
     },
     "execution_count": 195,
     "metadata": {},
     "output_type": "execute_result"
    }
   ],
   "source": [
    "# Données Customers manquant aprés jointure\n",
    "sans_transaction = post_merge_2(df2)\n",
    "sans_transaction \n",
    "#id_prod_sans_vente + Liste client sans achat"
   ]
  },
  {
   "cell_type": "code",
   "execution_count": 196,
   "metadata": {
    "id": "-D_ZZhi3oMP9"
   },
   "outputs": [],
   "source": [
    "client_sans_achat = sans_transaction[:23]"
   ]
  },
  {
   "cell_type": "code",
   "execution_count": 197,
   "metadata": {
    "id": "zRCxWSlQoMP-"
   },
   "outputs": [],
   "source": [
    "### Enregistrement du sans_transaction sous format CSV\n",
    "client_sans_achat.to_csv(r'C:\\Users\\melle\\FORMATION\\P6_Mendy\\client_sans_achat.csv')\n"
   ]
  },
  {
   "cell_type": "code",
   "execution_count": 198,
   "metadata": {
    "colab": {
     "base_uri": "https://localhost:8080/"
    },
    "id": "nJuWYfaGoMP-",
    "outputId": "1a4a8515-0387-4b64-b222-ac2f09769650"
   },
   "outputs": [
    {
     "data": {
      "text/plain": [
       "Int64Index([667994, 667995, 667996, 667997, 667998, 667999, 668000, 668001,\n",
       "            668002, 668003, 668004, 668005, 668006, 668007, 668008, 668009,\n",
       "            668010, 668011, 668012, 668013, 668014, 668015, 668016, 679355,\n",
       "            679356, 679357, 679358, 679359, 679360, 679361, 679362, 679363,\n",
       "            679364, 679365, 679366, 679367, 679368, 679369, 679370, 679371,\n",
       "            679372, 679373, 679374, 679375, 679376],\n",
       "           dtype='int64')"
      ]
     },
     "execution_count": 198,
     "metadata": {},
     "output_type": "execute_result"
    }
   ],
   "source": [
    "sans_transaction.index"
   ]
  },
  {
   "cell_type": "code",
   "execution_count": 199,
   "metadata": {
    "id": "kj_4OGFboMP_"
   },
   "outputs": [],
   "source": [
    "# Collecte des Index des données test\n",
    "indexNames = sans_transaction.index\n",
    "#Suppression des données test\n",
    "df2 = df2.drop(indexNames)"
   ]
  },
  {
   "cell_type": "code",
   "execution_count": 200,
   "metadata": {
    "colab": {
     "base_uri": "https://localhost:8080/"
    },
    "id": "WgnAwt_woMQA",
    "outputId": "b6e68eb0-889c-413d-86b4-79e5149ea4ae"
   },
   "outputs": [
    {
     "data": {
      "text/plain": [
       "client_id        0\n",
       "sex              0\n",
       "birth            0\n",
       "age              0\n",
       "id_prod          0\n",
       "date             0\n",
       "session_id       0\n",
       "date_longue      0\n",
       "date_courte      0\n",
       "date_année       0\n",
       "price          221\n",
       "categ          221\n",
       "dtype: int64"
      ]
     },
     "execution_count": 200,
     "metadata": {},
     "output_type": "execute_result"
    }
   ],
   "source": [
    "df2.isna().sum()"
   ]
  },
  {
   "cell_type": "code",
   "execution_count": 201,
   "metadata": {
    "colab": {
     "base_uri": "https://localhost:8080/",
     "height": 414
    },
    "id": "1mVolpRnoMQA",
    "outputId": "a2194d8f-4c51-4188-df54-7d07f65de719"
   },
   "outputs": [
    {
     "data": {
      "text/html": [
       "<div>\n",
       "<style scoped>\n",
       "    .dataframe tbody tr th:only-of-type {\n",
       "        vertical-align: middle;\n",
       "    }\n",
       "\n",
       "    .dataframe tbody tr th {\n",
       "        vertical-align: top;\n",
       "    }\n",
       "\n",
       "    .dataframe thead th {\n",
       "        text-align: right;\n",
       "    }\n",
       "</style>\n",
       "<table border=\"1\" class=\"dataframe\">\n",
       "  <thead>\n",
       "    <tr style=\"text-align: right;\">\n",
       "      <th></th>\n",
       "      <th>client_id</th>\n",
       "      <th>sex</th>\n",
       "      <th>birth</th>\n",
       "      <th>age</th>\n",
       "      <th>id_prod</th>\n",
       "      <th>date</th>\n",
       "      <th>session_id</th>\n",
       "      <th>date_longue</th>\n",
       "      <th>date_courte</th>\n",
       "      <th>date_année</th>\n",
       "      <th>price</th>\n",
       "      <th>categ</th>\n",
       "    </tr>\n",
       "  </thead>\n",
       "  <tbody>\n",
       "    <tr>\n",
       "      <th>542051</th>\n",
       "      <td>c_4505</td>\n",
       "      <td>m</td>\n",
       "      <td>1976.0</td>\n",
       "      <td>45.0</td>\n",
       "      <td>0_2245</td>\n",
       "      <td>[2022-01-09, 09:23:31]</td>\n",
       "      <td>s_147220</td>\n",
       "      <td>2022-01-09</td>\n",
       "      <td>2022-01-01</td>\n",
       "      <td>2022-01-01</td>\n",
       "      <td>NaN</td>\n",
       "      <td>NaN</td>\n",
       "    </tr>\n",
       "    <tr>\n",
       "      <th>542052</th>\n",
       "      <td>c_4505</td>\n",
       "      <td>m</td>\n",
       "      <td>1976.0</td>\n",
       "      <td>45.0</td>\n",
       "      <td>0_2245</td>\n",
       "      <td>[2022-11-09, 09:23:31]</td>\n",
       "      <td>s_295013</td>\n",
       "      <td>2022-11-09</td>\n",
       "      <td>2022-11-01</td>\n",
       "      <td>2022-01-01</td>\n",
       "      <td>NaN</td>\n",
       "      <td>NaN</td>\n",
       "    </tr>\n",
       "    <tr>\n",
       "      <th>542053</th>\n",
       "      <td>c_3468</td>\n",
       "      <td>f</td>\n",
       "      <td>1981.0</td>\n",
       "      <td>40.0</td>\n",
       "      <td>0_2245</td>\n",
       "      <td>[2021-09-11, 10:52:05]</td>\n",
       "      <td>s_88251</td>\n",
       "      <td>2021-09-11</td>\n",
       "      <td>2021-09-01</td>\n",
       "      <td>2021-01-01</td>\n",
       "      <td>NaN</td>\n",
       "      <td>NaN</td>\n",
       "    </tr>\n",
       "    <tr>\n",
       "      <th>542054</th>\n",
       "      <td>c_3468</td>\n",
       "      <td>f</td>\n",
       "      <td>1981.0</td>\n",
       "      <td>40.0</td>\n",
       "      <td>0_2245</td>\n",
       "      <td>[2022-05-11, 10:52:05]</td>\n",
       "      <td>s_206902</td>\n",
       "      <td>2022-05-11</td>\n",
       "      <td>2022-05-01</td>\n",
       "      <td>2022-01-01</td>\n",
       "      <td>NaN</td>\n",
       "      <td>NaN</td>\n",
       "    </tr>\n",
       "    <tr>\n",
       "      <th>542055</th>\n",
       "      <td>c_1403</td>\n",
       "      <td>f</td>\n",
       "      <td>1978.0</td>\n",
       "      <td>43.0</td>\n",
       "      <td>0_2245</td>\n",
       "      <td>[2022-09-15, 14:26:50]</td>\n",
       "      <td>s_268455</td>\n",
       "      <td>2022-09-15</td>\n",
       "      <td>2022-09-01</td>\n",
       "      <td>2022-01-01</td>\n",
       "      <td>NaN</td>\n",
       "      <td>NaN</td>\n",
       "    </tr>\n",
       "    <tr>\n",
       "      <th>...</th>\n",
       "      <td>...</td>\n",
       "      <td>...</td>\n",
       "      <td>...</td>\n",
       "      <td>...</td>\n",
       "      <td>...</td>\n",
       "      <td>...</td>\n",
       "      <td>...</td>\n",
       "      <td>...</td>\n",
       "      <td>...</td>\n",
       "      <td>...</td>\n",
       "      <td>...</td>\n",
       "      <td>...</td>\n",
       "    </tr>\n",
       "    <tr>\n",
       "      <th>542267</th>\n",
       "      <td>c_4283</td>\n",
       "      <td>f</td>\n",
       "      <td>1976.0</td>\n",
       "      <td>45.0</td>\n",
       "      <td>0_2245</td>\n",
       "      <td>[2022-08-01, 02:46:38]</td>\n",
       "      <td>s_246657</td>\n",
       "      <td>2022-08-01</td>\n",
       "      <td>2022-08-01</td>\n",
       "      <td>2022-01-01</td>\n",
       "      <td>NaN</td>\n",
       "      <td>NaN</td>\n",
       "    </tr>\n",
       "    <tr>\n",
       "      <th>542268</th>\n",
       "      <td>c_4283</td>\n",
       "      <td>f</td>\n",
       "      <td>1976.0</td>\n",
       "      <td>45.0</td>\n",
       "      <td>0_2245</td>\n",
       "      <td>[2021-09-01, 02:46:38]</td>\n",
       "      <td>s_83377</td>\n",
       "      <td>2021-09-01</td>\n",
       "      <td>2021-09-01</td>\n",
       "      <td>2021-01-01</td>\n",
       "      <td>NaN</td>\n",
       "      <td>NaN</td>\n",
       "    </tr>\n",
       "    <tr>\n",
       "      <th>542269</th>\n",
       "      <td>c_6236</td>\n",
       "      <td>f</td>\n",
       "      <td>1976.0</td>\n",
       "      <td>45.0</td>\n",
       "      <td>0_2245</td>\n",
       "      <td>[2022-02-25, 00:08:08]</td>\n",
       "      <td>s_170426</td>\n",
       "      <td>2022-02-25</td>\n",
       "      <td>2022-02-01</td>\n",
       "      <td>2022-01-01</td>\n",
       "      <td>NaN</td>\n",
       "      <td>NaN</td>\n",
       "    </tr>\n",
       "    <tr>\n",
       "      <th>542270</th>\n",
       "      <td>c_4453</td>\n",
       "      <td>m</td>\n",
       "      <td>1981.0</td>\n",
       "      <td>40.0</td>\n",
       "      <td>0_2245</td>\n",
       "      <td>[2022-02-16, 11:35:20]</td>\n",
       "      <td>s_166050</td>\n",
       "      <td>2022-02-16</td>\n",
       "      <td>2022-02-01</td>\n",
       "      <td>2022-01-01</td>\n",
       "      <td>NaN</td>\n",
       "      <td>NaN</td>\n",
       "    </tr>\n",
       "    <tr>\n",
       "      <th>542271</th>\n",
       "      <td>c_4453</td>\n",
       "      <td>m</td>\n",
       "      <td>1981.0</td>\n",
       "      <td>40.0</td>\n",
       "      <td>0_2245</td>\n",
       "      <td>[2022-05-16, 11:35:20]</td>\n",
       "      <td>s_209381</td>\n",
       "      <td>2022-05-16</td>\n",
       "      <td>2022-05-01</td>\n",
       "      <td>2022-01-01</td>\n",
       "      <td>NaN</td>\n",
       "      <td>NaN</td>\n",
       "    </tr>\n",
       "  </tbody>\n",
       "</table>\n",
       "<p>221 rows × 12 columns</p>\n",
       "</div>"
      ],
      "text/plain": [
       "       client_id sex   birth   age id_prod                    date session_id  \\\n",
       "542051    c_4505   m  1976.0  45.0  0_2245  [2022-01-09, 09:23:31]   s_147220   \n",
       "542052    c_4505   m  1976.0  45.0  0_2245  [2022-11-09, 09:23:31]   s_295013   \n",
       "542053    c_3468   f  1981.0  40.0  0_2245  [2021-09-11, 10:52:05]    s_88251   \n",
       "542054    c_3468   f  1981.0  40.0  0_2245  [2022-05-11, 10:52:05]   s_206902   \n",
       "542055    c_1403   f  1978.0  43.0  0_2245  [2022-09-15, 14:26:50]   s_268455   \n",
       "...          ...  ..     ...   ...     ...                     ...        ...   \n",
       "542267    c_4283   f  1976.0  45.0  0_2245  [2022-08-01, 02:46:38]   s_246657   \n",
       "542268    c_4283   f  1976.0  45.0  0_2245  [2021-09-01, 02:46:38]    s_83377   \n",
       "542269    c_6236   f  1976.0  45.0  0_2245  [2022-02-25, 00:08:08]   s_170426   \n",
       "542270    c_4453   m  1981.0  40.0  0_2245  [2022-02-16, 11:35:20]   s_166050   \n",
       "542271    c_4453   m  1981.0  40.0  0_2245  [2022-05-16, 11:35:20]   s_209381   \n",
       "\n",
       "       date_longue date_courte date_année  price  categ  \n",
       "542051  2022-01-09  2022-01-01 2022-01-01    NaN    NaN  \n",
       "542052  2022-11-09  2022-11-01 2022-01-01    NaN    NaN  \n",
       "542053  2021-09-11  2021-09-01 2021-01-01    NaN    NaN  \n",
       "542054  2022-05-11  2022-05-01 2022-01-01    NaN    NaN  \n",
       "542055  2022-09-15  2022-09-01 2022-01-01    NaN    NaN  \n",
       "...            ...         ...        ...    ...    ...  \n",
       "542267  2022-08-01  2022-08-01 2022-01-01    NaN    NaN  \n",
       "542268  2021-09-01  2021-09-01 2021-01-01    NaN    NaN  \n",
       "542269  2022-02-25  2022-02-01 2022-01-01    NaN    NaN  \n",
       "542270  2022-02-16  2022-02-01 2022-01-01    NaN    NaN  \n",
       "542271  2022-05-16  2022-05-01 2022-01-01    NaN    NaN  \n",
       "\n",
       "[221 rows x 12 columns]"
      ]
     },
     "execution_count": 201,
     "metadata": {},
     "output_type": "execute_result"
    }
   ],
   "source": [
    "# Comme id_prod = 0... categ0 donc je remplace price par moyenne prix de la categ 0\n",
    "id_prod_0_2245 = df2.query(\"id_prod=='0_2245'\")\n",
    "id_prod_0_2245"
   ]
  },
  {
   "cell_type": "code",
   "execution_count": 202,
   "metadata": {
    "id": "vP_DaGqkoMQB"
   },
   "outputs": [],
   "source": [
    "df2[\"categ\"] = df2[\"categ\"].fillna(0.0)"
   ]
  },
  {
   "cell_type": "code",
   "execution_count": 203,
   "metadata": {
    "colab": {
     "base_uri": "https://localhost:8080/"
    },
    "id": "I9dj5RIpoMQB",
    "outputId": "c262c8d3-2f2d-455a-d502-d6d5e76eaff3"
   },
   "outputs": [
    {
     "data": {
      "text/plain": [
       "client_id        0\n",
       "sex              0\n",
       "birth            0\n",
       "age              0\n",
       "id_prod          0\n",
       "date             0\n",
       "session_id       0\n",
       "date_longue      0\n",
       "date_courte      0\n",
       "date_année       0\n",
       "price          221\n",
       "categ            0\n",
       "dtype: int64"
      ]
     },
     "execution_count": 203,
     "metadata": {},
     "output_type": "execute_result"
    }
   ],
   "source": [
    "# Remplacement de la valeur manquante (categ) par 0 car id_prod = 0_XXXX\n",
    "df2.isna().sum()"
   ]
  },
  {
   "cell_type": "code",
   "execution_count": 204,
   "metadata": {
    "colab": {
     "base_uri": "https://localhost:8080/",
     "height": 141
    },
    "id": "nJVSU1rdoMQC",
    "outputId": "cc21e054-fe24-4f87-8ef2-84bb52d5fb9d"
   },
   "outputs": [
    {
     "data": {
      "text/html": [
       "<div>\n",
       "<style scoped>\n",
       "    .dataframe tbody tr th:only-of-type {\n",
       "        vertical-align: middle;\n",
       "    }\n",
       "\n",
       "    .dataframe tbody tr th {\n",
       "        vertical-align: top;\n",
       "    }\n",
       "\n",
       "    .dataframe thead th {\n",
       "        text-align: right;\n",
       "    }\n",
       "</style>\n",
       "<table border=\"1\" class=\"dataframe\">\n",
       "  <thead>\n",
       "    <tr style=\"text-align: right;\">\n",
       "      <th></th>\n",
       "      <th>categ</th>\n",
       "      <th>price</th>\n",
       "    </tr>\n",
       "  </thead>\n",
       "  <tbody>\n",
       "    <tr>\n",
       "      <th>0</th>\n",
       "      <td>0.0</td>\n",
       "      <td>10.638188</td>\n",
       "    </tr>\n",
       "    <tr>\n",
       "      <th>1</th>\n",
       "      <td>1.0</td>\n",
       "      <td>20.485730</td>\n",
       "    </tr>\n",
       "    <tr>\n",
       "      <th>2</th>\n",
       "      <td>2.0</td>\n",
       "      <td>76.207412</td>\n",
       "    </tr>\n",
       "  </tbody>\n",
       "</table>\n",
       "</div>"
      ],
      "text/plain": [
       "   categ      price\n",
       "0    0.0  10.638188\n",
       "1    1.0  20.485730\n",
       "2    2.0  76.207412"
      ]
     },
     "execution_count": 204,
     "metadata": {},
     "output_type": "execute_result"
    }
   ],
   "source": [
    "# Calcul de la moyenne du peix de vente des articles de la catégorie 0\n",
    "ca_par_categ = df2.groupby(\"categ\").agg({\"price\":\"mean\"}).reset_index()\n",
    "ca_par_categ"
   ]
  },
  {
   "cell_type": "code",
   "execution_count": 205,
   "metadata": {},
   "outputs": [],
   "source": [
    "mean_categ_0 = ca_par_categ.iloc[0][1]\n",
    "df2[\"price\"] = df2[\"price\"].fillna(mean_categ_0)"
   ]
  },
  {
   "cell_type": "code",
   "execution_count": 206,
   "metadata": {},
   "outputs": [
    {
     "data": {
      "text/html": [
       "<div>\n",
       "<style scoped>\n",
       "    .dataframe tbody tr th:only-of-type {\n",
       "        vertical-align: middle;\n",
       "    }\n",
       "\n",
       "    .dataframe tbody tr th {\n",
       "        vertical-align: top;\n",
       "    }\n",
       "\n",
       "    .dataframe thead th {\n",
       "        text-align: right;\n",
       "    }\n",
       "</style>\n",
       "<table border=\"1\" class=\"dataframe\">\n",
       "  <thead>\n",
       "    <tr style=\"text-align: right;\">\n",
       "      <th></th>\n",
       "      <th>client_id</th>\n",
       "      <th>sex</th>\n",
       "      <th>birth</th>\n",
       "      <th>age</th>\n",
       "      <th>id_prod</th>\n",
       "      <th>date</th>\n",
       "      <th>session_id</th>\n",
       "      <th>date_longue</th>\n",
       "      <th>date_courte</th>\n",
       "      <th>date_année</th>\n",
       "      <th>price</th>\n",
       "      <th>categ</th>\n",
       "    </tr>\n",
       "  </thead>\n",
       "  <tbody>\n",
       "    <tr>\n",
       "      <th>542051</th>\n",
       "      <td>c_4505</td>\n",
       "      <td>m</td>\n",
       "      <td>1976.0</td>\n",
       "      <td>45.0</td>\n",
       "      <td>0_2245</td>\n",
       "      <td>[2022-01-09, 09:23:31]</td>\n",
       "      <td>s_147220</td>\n",
       "      <td>2022-01-09</td>\n",
       "      <td>2022-01-01</td>\n",
       "      <td>2022-01-01</td>\n",
       "      <td>10.638188</td>\n",
       "      <td>0.0</td>\n",
       "    </tr>\n",
       "    <tr>\n",
       "      <th>542052</th>\n",
       "      <td>c_4505</td>\n",
       "      <td>m</td>\n",
       "      <td>1976.0</td>\n",
       "      <td>45.0</td>\n",
       "      <td>0_2245</td>\n",
       "      <td>[2022-11-09, 09:23:31]</td>\n",
       "      <td>s_295013</td>\n",
       "      <td>2022-11-09</td>\n",
       "      <td>2022-11-01</td>\n",
       "      <td>2022-01-01</td>\n",
       "      <td>10.638188</td>\n",
       "      <td>0.0</td>\n",
       "    </tr>\n",
       "    <tr>\n",
       "      <th>542053</th>\n",
       "      <td>c_3468</td>\n",
       "      <td>f</td>\n",
       "      <td>1981.0</td>\n",
       "      <td>40.0</td>\n",
       "      <td>0_2245</td>\n",
       "      <td>[2021-09-11, 10:52:05]</td>\n",
       "      <td>s_88251</td>\n",
       "      <td>2021-09-11</td>\n",
       "      <td>2021-09-01</td>\n",
       "      <td>2021-01-01</td>\n",
       "      <td>10.638188</td>\n",
       "      <td>0.0</td>\n",
       "    </tr>\n",
       "    <tr>\n",
       "      <th>542054</th>\n",
       "      <td>c_3468</td>\n",
       "      <td>f</td>\n",
       "      <td>1981.0</td>\n",
       "      <td>40.0</td>\n",
       "      <td>0_2245</td>\n",
       "      <td>[2022-05-11, 10:52:05]</td>\n",
       "      <td>s_206902</td>\n",
       "      <td>2022-05-11</td>\n",
       "      <td>2022-05-01</td>\n",
       "      <td>2022-01-01</td>\n",
       "      <td>10.638188</td>\n",
       "      <td>0.0</td>\n",
       "    </tr>\n",
       "    <tr>\n",
       "      <th>542055</th>\n",
       "      <td>c_1403</td>\n",
       "      <td>f</td>\n",
       "      <td>1978.0</td>\n",
       "      <td>43.0</td>\n",
       "      <td>0_2245</td>\n",
       "      <td>[2022-09-15, 14:26:50]</td>\n",
       "      <td>s_268455</td>\n",
       "      <td>2022-09-15</td>\n",
       "      <td>2022-09-01</td>\n",
       "      <td>2022-01-01</td>\n",
       "      <td>10.638188</td>\n",
       "      <td>0.0</td>\n",
       "    </tr>\n",
       "    <tr>\n",
       "      <th>...</th>\n",
       "      <td>...</td>\n",
       "      <td>...</td>\n",
       "      <td>...</td>\n",
       "      <td>...</td>\n",
       "      <td>...</td>\n",
       "      <td>...</td>\n",
       "      <td>...</td>\n",
       "      <td>...</td>\n",
       "      <td>...</td>\n",
       "      <td>...</td>\n",
       "      <td>...</td>\n",
       "      <td>...</td>\n",
       "    </tr>\n",
       "    <tr>\n",
       "      <th>542267</th>\n",
       "      <td>c_4283</td>\n",
       "      <td>f</td>\n",
       "      <td>1976.0</td>\n",
       "      <td>45.0</td>\n",
       "      <td>0_2245</td>\n",
       "      <td>[2022-08-01, 02:46:38]</td>\n",
       "      <td>s_246657</td>\n",
       "      <td>2022-08-01</td>\n",
       "      <td>2022-08-01</td>\n",
       "      <td>2022-01-01</td>\n",
       "      <td>10.638188</td>\n",
       "      <td>0.0</td>\n",
       "    </tr>\n",
       "    <tr>\n",
       "      <th>542268</th>\n",
       "      <td>c_4283</td>\n",
       "      <td>f</td>\n",
       "      <td>1976.0</td>\n",
       "      <td>45.0</td>\n",
       "      <td>0_2245</td>\n",
       "      <td>[2021-09-01, 02:46:38]</td>\n",
       "      <td>s_83377</td>\n",
       "      <td>2021-09-01</td>\n",
       "      <td>2021-09-01</td>\n",
       "      <td>2021-01-01</td>\n",
       "      <td>10.638188</td>\n",
       "      <td>0.0</td>\n",
       "    </tr>\n",
       "    <tr>\n",
       "      <th>542269</th>\n",
       "      <td>c_6236</td>\n",
       "      <td>f</td>\n",
       "      <td>1976.0</td>\n",
       "      <td>45.0</td>\n",
       "      <td>0_2245</td>\n",
       "      <td>[2022-02-25, 00:08:08]</td>\n",
       "      <td>s_170426</td>\n",
       "      <td>2022-02-25</td>\n",
       "      <td>2022-02-01</td>\n",
       "      <td>2022-01-01</td>\n",
       "      <td>10.638188</td>\n",
       "      <td>0.0</td>\n",
       "    </tr>\n",
       "    <tr>\n",
       "      <th>542270</th>\n",
       "      <td>c_4453</td>\n",
       "      <td>m</td>\n",
       "      <td>1981.0</td>\n",
       "      <td>40.0</td>\n",
       "      <td>0_2245</td>\n",
       "      <td>[2022-02-16, 11:35:20]</td>\n",
       "      <td>s_166050</td>\n",
       "      <td>2022-02-16</td>\n",
       "      <td>2022-02-01</td>\n",
       "      <td>2022-01-01</td>\n",
       "      <td>10.638188</td>\n",
       "      <td>0.0</td>\n",
       "    </tr>\n",
       "    <tr>\n",
       "      <th>542271</th>\n",
       "      <td>c_4453</td>\n",
       "      <td>m</td>\n",
       "      <td>1981.0</td>\n",
       "      <td>40.0</td>\n",
       "      <td>0_2245</td>\n",
       "      <td>[2022-05-16, 11:35:20]</td>\n",
       "      <td>s_209381</td>\n",
       "      <td>2022-05-16</td>\n",
       "      <td>2022-05-01</td>\n",
       "      <td>2022-01-01</td>\n",
       "      <td>10.638188</td>\n",
       "      <td>0.0</td>\n",
       "    </tr>\n",
       "  </tbody>\n",
       "</table>\n",
       "<p>221 rows × 12 columns</p>\n",
       "</div>"
      ],
      "text/plain": [
       "       client_id sex   birth   age id_prod                    date session_id  \\\n",
       "542051    c_4505   m  1976.0  45.0  0_2245  [2022-01-09, 09:23:31]   s_147220   \n",
       "542052    c_4505   m  1976.0  45.0  0_2245  [2022-11-09, 09:23:31]   s_295013   \n",
       "542053    c_3468   f  1981.0  40.0  0_2245  [2021-09-11, 10:52:05]    s_88251   \n",
       "542054    c_3468   f  1981.0  40.0  0_2245  [2022-05-11, 10:52:05]   s_206902   \n",
       "542055    c_1403   f  1978.0  43.0  0_2245  [2022-09-15, 14:26:50]   s_268455   \n",
       "...          ...  ..     ...   ...     ...                     ...        ...   \n",
       "542267    c_4283   f  1976.0  45.0  0_2245  [2022-08-01, 02:46:38]   s_246657   \n",
       "542268    c_4283   f  1976.0  45.0  0_2245  [2021-09-01, 02:46:38]    s_83377   \n",
       "542269    c_6236   f  1976.0  45.0  0_2245  [2022-02-25, 00:08:08]   s_170426   \n",
       "542270    c_4453   m  1981.0  40.0  0_2245  [2022-02-16, 11:35:20]   s_166050   \n",
       "542271    c_4453   m  1981.0  40.0  0_2245  [2022-05-16, 11:35:20]   s_209381   \n",
       "\n",
       "       date_longue date_courte date_année      price  categ  \n",
       "542051  2022-01-09  2022-01-01 2022-01-01  10.638188    0.0  \n",
       "542052  2022-11-09  2022-11-01 2022-01-01  10.638188    0.0  \n",
       "542053  2021-09-11  2021-09-01 2021-01-01  10.638188    0.0  \n",
       "542054  2022-05-11  2022-05-01 2022-01-01  10.638188    0.0  \n",
       "542055  2022-09-15  2022-09-01 2022-01-01  10.638188    0.0  \n",
       "...            ...         ...        ...        ...    ...  \n",
       "542267  2022-08-01  2022-08-01 2022-01-01  10.638188    0.0  \n",
       "542268  2021-09-01  2021-09-01 2021-01-01  10.638188    0.0  \n",
       "542269  2022-02-25  2022-02-01 2022-01-01  10.638188    0.0  \n",
       "542270  2022-02-16  2022-02-01 2022-01-01  10.638188    0.0  \n",
       "542271  2022-05-16  2022-05-01 2022-01-01  10.638188    0.0  \n",
       "\n",
       "[221 rows x 12 columns]"
      ]
     },
     "execution_count": 206,
     "metadata": {},
     "output_type": "execute_result"
    }
   ],
   "source": [
    " df2.query(\"id_prod=='0_2245'\")"
   ]
  },
  {
   "cell_type": "code",
   "execution_count": 207,
   "metadata": {
    "colab": {
     "base_uri": "https://localhost:8080/"
    },
    "id": "gfyUbtAQoMQD",
    "outputId": "7d35548c-ebc0-4db3-e51a-76eb8ee80be5",
    "tags": []
   },
   "outputs": [
    {
     "data": {
      "text/plain": [
       "client_id      0\n",
       "sex            0\n",
       "birth          0\n",
       "age            0\n",
       "id_prod        0\n",
       "date           0\n",
       "session_id     0\n",
       "date_longue    0\n",
       "date_courte    0\n",
       "date_année     0\n",
       "price          0\n",
       "categ          0\n",
       "dtype: int64"
      ]
     },
     "execution_count": 207,
     "metadata": {},
     "output_type": "execute_result"
    }
   ],
   "source": [
    "df2.isna().sum()"
   ]
  },
  {
   "cell_type": "code",
   "execution_count": 208,
   "metadata": {
    "colab": {
     "base_uri": "https://localhost:8080/",
     "height": 78
    },
    "id": "Ez0XhzQyoMQE",
    "outputId": "11e31e28-4c12-452b-9806-333375e4c762"
   },
   "outputs": [
    {
     "data": {
      "text/html": [
       "<div>\n",
       "<style scoped>\n",
       "    .dataframe tbody tr th:only-of-type {\n",
       "        vertical-align: middle;\n",
       "    }\n",
       "\n",
       "    .dataframe tbody tr th {\n",
       "        vertical-align: top;\n",
       "    }\n",
       "\n",
       "    .dataframe thead th {\n",
       "        text-align: right;\n",
       "    }\n",
       "</style>\n",
       "<table border=\"1\" class=\"dataframe\">\n",
       "  <thead>\n",
       "    <tr style=\"text-align: right;\">\n",
       "      <th></th>\n",
       "      <th>client_id</th>\n",
       "      <th>sex</th>\n",
       "      <th>birth</th>\n",
       "      <th>age</th>\n",
       "      <th>id_prod</th>\n",
       "      <th>date</th>\n",
       "      <th>session_id</th>\n",
       "      <th>date_longue</th>\n",
       "      <th>date_courte</th>\n",
       "      <th>date_année</th>\n",
       "      <th>price</th>\n",
       "      <th>categ</th>\n",
       "    </tr>\n",
       "  </thead>\n",
       "  <tbody>\n",
       "    <tr>\n",
       "      <th>0</th>\n",
       "      <td>c_4410</td>\n",
       "      <td>f</td>\n",
       "      <td>1967.0</td>\n",
       "      <td>54.0</td>\n",
       "      <td>0_1316</td>\n",
       "      <td>[2021-12-29, 09:11:18]</td>\n",
       "      <td>s_141762</td>\n",
       "      <td>2021-12-29</td>\n",
       "      <td>2021-12-01</td>\n",
       "      <td>2021-01-01</td>\n",
       "      <td>7.2</td>\n",
       "      <td>0.0</td>\n",
       "    </tr>\n",
       "  </tbody>\n",
       "</table>\n",
       "</div>"
      ],
      "text/plain": [
       "  client_id sex   birth   age id_prod                    date session_id  \\\n",
       "0    c_4410   f  1967.0  54.0  0_1316  [2021-12-29, 09:11:18]   s_141762   \n",
       "\n",
       "  date_longue date_courte date_année  price  categ  \n",
       "0  2021-12-29  2021-12-01 2021-01-01    7.2    0.0  "
      ]
     },
     "execution_count": 208,
     "metadata": {},
     "output_type": "execute_result"
    }
   ],
   "source": [
    "df2.head(1)"
   ]
  },
  {
   "cell_type": "code",
   "execution_count": 209,
   "metadata": {
    "id": "OKWkSWOjoMQE"
   },
   "outputs": [],
   "source": [
    "df_final = df2[['client_id', 'birth', 'sex', 'age', 'id_prod','price', 'categ', 'session_id',\n",
    "       'date_longue', 'date_courte','date_année']]"
   ]
  },
  {
   "cell_type": "code",
   "execution_count": 210,
   "metadata": {
    "colab": {
     "base_uri": "https://localhost:8080/"
    },
    "id": "fOX1JOp0oMQF",
    "outputId": "ac5f9f52-1e88-496d-da8e-c23ea5f51fb1"
   },
   "outputs": [
    {
     "data": {
      "text/plain": [
       "client_id              object\n",
       "birth                 float64\n",
       "sex                    object\n",
       "age                   float64\n",
       "id_prod                object\n",
       "price                 float64\n",
       "categ                 float64\n",
       "session_id             object\n",
       "date_longue    datetime64[ns]\n",
       "date_courte    datetime64[ns]\n",
       "date_année     datetime64[ns]\n",
       "dtype: object"
      ]
     },
     "execution_count": 210,
     "metadata": {},
     "output_type": "execute_result"
    }
   ],
   "source": [
    "df_final.dtypes"
   ]
  },
  {
   "cell_type": "code",
   "execution_count": 211,
   "metadata": {
    "colab": {
     "base_uri": "https://localhost:8080/"
    },
    "id": "W-zIR6nvoMQF",
    "outputId": "77cc8b94-6d4f-4c3c-b817-c3e3e628532b"
   },
   "outputs": [
    {
     "data": {
      "text/plain": [
       "0"
      ]
     },
     "execution_count": 211,
     "metadata": {},
     "output_type": "execute_result"
    }
   ],
   "source": [
    "df_final.isna().sum().sum()"
   ]
  },
  {
   "cell_type": "code",
   "execution_count": 212,
   "metadata": {},
   "outputs": [
    {
     "name": "stderr",
     "output_type": "stream",
     "text": [
      "C:\\Users\\melle\\anaconda3\\envs\\New_envi\\lib\\site-packages\\pandas\\core\\indexing.py:1773: SettingWithCopyWarning: \n",
      "A value is trying to be set on a copy of a slice from a DataFrame.\n",
      "Try using .loc[row_indexer,col_indexer] = value instead\n",
      "\n",
      "See the caveats in the documentation: https://pandas.pydata.org/pandas-docs/stable/user_guide/indexing.html#returning-a-view-versus-a-copy\n",
      "  self._setitem_single_column(ilocs[0], value, pi)\n"
     ]
    }
   ],
   "source": [
    "client = ['birth' ,'age', 'categ']\n",
    "for var in client:\n",
    "    df_final.loc[:, var] = df_final[var].astype(int)"
   ]
  },
  {
   "cell_type": "code",
   "execution_count": null,
   "metadata": {},
   "outputs": [],
   "source": [
    "  self._setitem_single_column(ilocs[0], value, pi)"
   ]
  },
  {
   "cell_type": "code",
   "execution_count": 179,
   "metadata": {
    "id": "T085dOvtoMQG"
   },
   "outputs": [
    {
     "name": "stderr",
     "output_type": "stream",
     "text": [
      "C:\\Users\\melle\\AppData\\Local\\Temp/ipykernel_6092/1829622993.py:1: SettingWithCopyWarning: \n",
      "A value is trying to be set on a copy of a slice from a DataFrame.\n",
      "Try using .loc[row_indexer,col_indexer] = value instead\n",
      "\n",
      "See the caveats in the documentation: https://pandas.pydata.org/pandas-docs/stable/user_guide/indexing.html#returning-a-view-versus-a-copy\n",
      "  df_final[\"birth\"] = df_final[\"birth\"].astype(int)\n",
      "C:\\Users\\melle\\AppData\\Local\\Temp/ipykernel_6092/1829622993.py:2: SettingWithCopyWarning: \n",
      "A value is trying to be set on a copy of a slice from a DataFrame.\n",
      "Try using .loc[row_indexer,col_indexer] = value instead\n",
      "\n",
      "See the caveats in the documentation: https://pandas.pydata.org/pandas-docs/stable/user_guide/indexing.html#returning-a-view-versus-a-copy\n",
      "  df_final[\"age\"] = df_final[\"age\"].astype(int)\n",
      "C:\\Users\\melle\\AppData\\Local\\Temp/ipykernel_6092/1829622993.py:3: SettingWithCopyWarning: \n",
      "A value is trying to be set on a copy of a slice from a DataFrame.\n",
      "Try using .loc[row_indexer,col_indexer] = value instead\n",
      "\n",
      "See the caveats in the documentation: https://pandas.pydata.org/pandas-docs/stable/user_guide/indexing.html#returning-a-view-versus-a-copy\n",
      "  df_final[\"categ\"] = df_final[\"categ\"].astype(int)\n"
     ]
    }
   ],
   "source": [
    "df_final[\"birth\"] = df_final[\"birth\"].astype(int, inplace=True)\n",
    "df_final[\"age\"] = df_final[\"age\"].astype(int)\n",
    "df_final[\"categ\"] = df_final[\"categ\"].astype(int)"
   ]
  },
  {
   "cell_type": "markdown",
   "metadata": {
    "id": "7vwVtpM5oMQH"
   },
   "source": [
    "# DF_FINAL"
   ]
  },
  {
   "cell_type": "code",
   "execution_count": 215,
   "metadata": {
    "id": "9DMAHk2EoMQH"
   },
   "outputs": [
    {
     "data": {
      "text/html": [
       "<div>\n",
       "<style scoped>\n",
       "    .dataframe tbody tr th:only-of-type {\n",
       "        vertical-align: middle;\n",
       "    }\n",
       "\n",
       "    .dataframe tbody tr th {\n",
       "        vertical-align: top;\n",
       "    }\n",
       "\n",
       "    .dataframe thead th {\n",
       "        text-align: right;\n",
       "    }\n",
       "</style>\n",
       "<table border=\"1\" class=\"dataframe\">\n",
       "  <thead>\n",
       "    <tr style=\"text-align: right;\">\n",
       "      <th></th>\n",
       "      <th>client_id</th>\n",
       "      <th>birth</th>\n",
       "      <th>sex</th>\n",
       "      <th>age</th>\n",
       "      <th>id_prod</th>\n",
       "      <th>price</th>\n",
       "      <th>categ</th>\n",
       "      <th>session_id</th>\n",
       "      <th>date_longue</th>\n",
       "      <th>date_courte</th>\n",
       "      <th>date_année</th>\n",
       "    </tr>\n",
       "  </thead>\n",
       "  <tbody>\n",
       "    <tr>\n",
       "      <th>0</th>\n",
       "      <td>c_4410</td>\n",
       "      <td>1967</td>\n",
       "      <td>f</td>\n",
       "      <td>54</td>\n",
       "      <td>0_1316</td>\n",
       "      <td>7.2</td>\n",
       "      <td>0</td>\n",
       "      <td>s_141762</td>\n",
       "      <td>2021-12-29</td>\n",
       "      <td>2021-12-01</td>\n",
       "      <td>2021-01-01</td>\n",
       "    </tr>\n",
       "    <tr>\n",
       "      <th>1</th>\n",
       "      <td>c_4410</td>\n",
       "      <td>1967</td>\n",
       "      <td>f</td>\n",
       "      <td>54</td>\n",
       "      <td>0_1316</td>\n",
       "      <td>7.2</td>\n",
       "      <td>0</td>\n",
       "      <td>s_186233</td>\n",
       "      <td>2022-03-29</td>\n",
       "      <td>2022-03-01</td>\n",
       "      <td>2022-01-01</td>\n",
       "    </tr>\n",
       "    <tr>\n",
       "      <th>2</th>\n",
       "      <td>c_4410</td>\n",
       "      <td>1967</td>\n",
       "      <td>f</td>\n",
       "      <td>54</td>\n",
       "      <td>0_1316</td>\n",
       "      <td>7.2</td>\n",
       "      <td>0</td>\n",
       "      <td>s_215758</td>\n",
       "      <td>2022-05-29</td>\n",
       "      <td>2022-05-01</td>\n",
       "      <td>2022-01-01</td>\n",
       "    </tr>\n",
       "    <tr>\n",
       "      <th>3</th>\n",
       "      <td>c_3654</td>\n",
       "      <td>1978</td>\n",
       "      <td>f</td>\n",
       "      <td>43</td>\n",
       "      <td>0_1316</td>\n",
       "      <td>7.2</td>\n",
       "      <td>0</td>\n",
       "      <td>s_125143</td>\n",
       "      <td>2021-11-26</td>\n",
       "      <td>2021-11-01</td>\n",
       "      <td>2021-01-01</td>\n",
       "    </tr>\n",
       "    <tr>\n",
       "      <th>4</th>\n",
       "      <td>c_3654</td>\n",
       "      <td>1978</td>\n",
       "      <td>f</td>\n",
       "      <td>43</td>\n",
       "      <td>0_1316</td>\n",
       "      <td>7.2</td>\n",
       "      <td>0</td>\n",
       "      <td>s_258546</td>\n",
       "      <td>2022-08-26</td>\n",
       "      <td>2022-08-01</td>\n",
       "      <td>2022-01-01</td>\n",
       "    </tr>\n",
       "  </tbody>\n",
       "</table>\n",
       "</div>"
      ],
      "text/plain": [
       "  client_id  birth sex  age id_prod  price  categ session_id date_longue  \\\n",
       "0    c_4410   1967   f   54  0_1316    7.2      0   s_141762  2021-12-29   \n",
       "1    c_4410   1967   f   54  0_1316    7.2      0   s_186233  2022-03-29   \n",
       "2    c_4410   1967   f   54  0_1316    7.2      0   s_215758  2022-05-29   \n",
       "3    c_3654   1978   f   43  0_1316    7.2      0   s_125143  2021-11-26   \n",
       "4    c_3654   1978   f   43  0_1316    7.2      0   s_258546  2022-08-26   \n",
       "\n",
       "  date_courte date_année  \n",
       "0  2021-12-01 2021-01-01  \n",
       "1  2022-03-01 2022-01-01  \n",
       "2  2022-05-01 2022-01-01  \n",
       "3  2021-11-01 2021-01-01  \n",
       "4  2022-08-01 2022-01-01  "
      ]
     },
     "execution_count": 215,
     "metadata": {},
     "output_type": "execute_result"
    }
   ],
   "source": [
    "df_final.head()"
   ]
  },
  {
   "cell_type": "code",
   "execution_count": 216,
   "metadata": {
    "id": "JC4bRWKfoMQI"
   },
   "outputs": [],
   "source": [
    "### Enregistrement du DF_FINAL sous format CSV\n",
    "df_final.to_csv(r'C:\\Users\\melle\\FORMATION\\P6_Mendy\\P6_DF_FINAL.csv')"
   ]
  },
  {
   "cell_type": "code",
   "execution_count": 217,
   "metadata": {
    "id": "SGMKGUpdoMQJ"
   },
   "outputs": [
    {
     "data": {
      "text/plain": [
       "(679332, 11)"
      ]
     },
     "execution_count": 217,
     "metadata": {},
     "output_type": "execute_result"
    }
   ],
   "source": [
    "df_final.shape"
   ]
  },
  {
   "cell_type": "code",
   "execution_count": null,
   "metadata": {
    "id": "6ksdW66XoMQJ"
   },
   "outputs": [],
   "source": []
  }
 ],
 "metadata": {
  "colab": {
   "collapsed_sections": [
    "NgaANURvoMPI",
    "7vwVtpM5oMQH"
   ],
   "name": "P6_1_Traitements_des_données_DF-FINAL.ipynb",
   "provenance": []
  },
  "kernelspec": {
   "display_name": "Python 3 (ipykernel)",
   "language": "python",
   "name": "python3"
  },
  "language_info": {
   "codemirror_mode": {
    "name": "ipython",
    "version": 3
   },
   "file_extension": ".py",
   "mimetype": "text/x-python",
   "name": "python",
   "nbconvert_exporter": "python",
   "pygments_lexer": "ipython3",
   "version": "3.8.12"
  },
  "toc-autonumbering": false,
  "toc-showcode": false,
  "toc-showmarkdowntxt": true,
  "toc-showtags": false
 },
 "nbformat": 4,
 "nbformat_minor": 4
}
