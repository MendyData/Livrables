{
 "cells": [
  {
   "cell_type": "markdown",
   "metadata": {
    "id": "cq_g2gRuMivc"
   },
   "source": [
    "# Librairie chez Lapage\n",
    "\n",
    ">  Partie 3 _ Tests statistiques\n",
    "\n"
   ]
  },
  {
   "cell_type": "markdown",
   "metadata": {
    "id": "VFhqqMgQJtZC"
   },
   "source": [
    "## Librairies & df_final"
   ]
  },
  {
   "cell_type": "code",
   "execution_count": null,
   "metadata": {
    "id": "cABpOdvYFkjv"
   },
   "outputs": [],
   "source": [
    "import pandas as pd\n",
    "import numpy as np\n",
    "import matplotlib.pyplot as plt\n",
    "import matplotlib\n",
    "import matplotlib.pyplot as plt\n",
    "\n",
    "import seaborn as sb\n",
    "import seaborn as sns\n",
    "import datetime\n",
    "from datetime import datetime\n",
    "from datetime import date\n",
    "import scipy.stats as st"
   ]
  },
  {
   "cell_type": "code",
   "execution_count": null,
   "metadata": {
    "id": "BqUlQMtiTsBX"
   },
   "outputs": [],
   "source": [
    "def matrix(df):\n",
    "    pd.plotting.scatter_matrix((df), alpha=0.2)\n",
    "    return matrix"
   ]
  },
  {
   "cell_type": "code",
   "execution_count": null,
   "metadata": {
    "id": "xOWFop4sTsE4"
   },
   "outputs": [],
   "source": [
    "def histogram(df):\n",
    "    return df.hist(figsize=(20,8))"
   ]
  },
  {
   "cell_type": "code",
   "execution_count": null,
   "metadata": {},
   "outputs": [],
   "source": [
    "def eta2(df, quant, qual):\n",
    "    # on créé un array qui contient les valeurs de chaques classes séparé dans des sous array\n",
    "    class_valeurs = []\n",
    "    for c in  df[quant].unique():\n",
    "        class_valeurs.append(df.loc[df[quant]==c, qual].values)\n",
    "    \n",
    "    # on calcule eta2\n",
    "    y =  np.concatenate(class_valeurs)\n",
    "    moyenne_y = y.mean()\n",
    "\n",
    "    class_info = []\n",
    "    for y_i in class_valeurs:\n",
    "        class_info.append({\n",
    "            'n_i': len(y_i),\n",
    "            'moyenne_i': y_i.mean()\n",
    "        })\n",
    "        \n",
    "    SCE = sum([ c['n_i'] * (c['moyenne_i'] - moyenne_y)**2 for c in class_info])\n",
    "    SCT = sum([(y_ij - moyenne_y)**2 for y_ij in y])\n",
    "    \n",
    "    return SCE / SCT"
   ]
  },
  {
   "cell_type": "raw",
   "metadata": {
    "colab": {
     "base_uri": "https://localhost:8080/"
    },
    "id": "EWwAmY8_Tlud",
    "outputId": "0b8d13e7-4564-429d-f7d1-a87381253ec3"
   },
   "source": [
    "from google.colab import drive\n",
    "drive.mount('/content/drive')"
   ]
  },
  {
   "cell_type": "code",
   "execution_count": null,
   "metadata": {},
   "outputs": [],
   "source": [
    "df_final = pd.read_csv(r'C:\\Users\\melle\\FORMATION\\P6_Mendy\\P6_DF_FINAL.csv')\n",
    "df_final = df_final[['client_id', 'birth', 'sex', 'age', 'id_prod', 'price',\n",
    "       'categ', 'session_id', 'date_longue', 'date_courte',\n",
    "       'date_année']]\n",
    "df_final.head(2)"
   ]
  },
  {
   "cell_type": "code",
   "execution_count": null,
   "metadata": {},
   "outputs": [],
   "source": [
    "df_final.dtypes"
   ]
  },
  {
   "cell_type": "code",
   "execution_count": null,
   "metadata": {
    "id": "dR8mAV9FJ15u"
   },
   "outputs": [],
   "source": [
    "temps = [ 'date_longue' ,'date_courte', 'date_année']\n",
    "for var in temps:\n",
    "    df_final[var] = df_final[var].astype(\"datetime64[ns]\")"
   ]
  },
  {
   "cell_type": "code",
   "execution_count": null,
   "metadata": {
    "id": "hTKotqP3OSSw"
   },
   "outputs": [],
   "source": [
    "# google collab\n",
    "# Création calendrier par semaine\n",
    "df_final.date_longue.dt.isocalendar().week\n",
    "df_final[\"num_semaine\"] = df_final.date_longue.dt.isocalendar().week"
   ]
  },
  {
   "cell_type": "code",
   "execution_count": null,
   "metadata": {
    "id": "2_W4MVefbyqL"
   },
   "outputs": [],
   "source": [
    "client = [ 'birth' ,'age', 'categ',\"num_semaine\"]\n",
    "for var in client:\n",
    "    df_final[var] = df_final[var].astype(int)"
   ]
  },
  {
   "cell_type": "code",
   "execution_count": null,
   "metadata": {},
   "outputs": [],
   "source": [
    "df_final[\"type_client\"]=1\n",
    "labels = [\"BtoC\",\"BtoB\" ]\n"
   ]
  },
  {
   "cell_type": "code",
   "execution_count": null,
   "metadata": {
    "id": "gvBFS1bLVVAn"
   },
   "outputs": [],
   "source": [
    "df_final.type_client = df_final.type_client.replace(to_replace=1, value=\"B2C\", regex=True)"
   ]
  },
  {
   "cell_type": "code",
   "execution_count": null,
   "metadata": {
    "id": "zzfjyGkLWBbX"
   },
   "outputs": [],
   "source": [
    "df_final.loc[(df_final.client_id == \"c_1609\"),'type_client']='B2B'\n",
    "df_final.loc[(df_final.client_id == \"c_4958\"),'type_client']='B2B'\n",
    "df_final.loc[(df_final.client_id == \"c_6714\"),'type_client']='B2B'\n",
    "df_final.loc[(df_final.client_id == \"c_3454\"),'type_client']='B2B'"
   ]
  },
  {
   "cell_type": "code",
   "execution_count": null,
   "metadata": {},
   "outputs": [],
   "source": [
    "df_final[\"génération\"]=1\n",
    "bins = [0,30,50,100]\n",
    "labels = \"Moins de 30\",\"31-50\",\"51\",\"et_plus\" \n",
    "df_final[\"génération\"]=pd.cut(df_final[\"age\"], bins, labels)\n",
    "df_final.isna().sum()"
   ]
  },
  {
   "cell_type": "code",
   "execution_count": null,
   "metadata": {
    "colab": {
     "base_uri": "https://localhost:8080/",
     "height": 363
    },
    "id": "7VtTfoQRX_e2",
    "outputId": "167af189-5ad0-4f68-87c5-14dd0be94cc6"
   },
   "outputs": [],
   "source": [
    "df_final.sample(10)"
   ]
  },
  {
   "cell_type": "code",
   "execution_count": null,
   "metadata": {},
   "outputs": [],
   "source": [
    "df_final.price.min()"
   ]
  },
  {
   "cell_type": "markdown",
   "metadata": {
    "id": "Mqrgo1hUMQYy"
   },
   "source": [
    "# Profil Report"
   ]
  },
  {
   "cell_type": "raw",
   "metadata": {
    "id": "YCuYRH76L9Qf"
   },
   "source": [
    "Profile = ProfileReport(df_final, title=\"P6 Pandas Profiling Report\")\n",
    "Profile"
   ]
  },
  {
   "cell_type": "code",
   "execution_count": null,
   "metadata": {
    "id": "hdS11Oi_PDwU"
   },
   "outputs": [],
   "source": [
    "BtoB = [\"c_1609\", \"c_4958\", \"c_6714\", \"c_3454\"]\n",
    "BtoB = df_final.loc[df_final[\"client_id\"].isin(BtoB),:]\n",
    "BtoB = BtoB[['client_id', 'birth', 'sex', 'age', 'id_prod', 'price',\n",
    "       'categ', 'session_id', 'date_longue', 'date_courte',\n",
    "       'date_année', 'génération']]\n",
    "\n",
    "\n",
    "#B2C\n",
    "clé_filtre = BtoB[\"client_id\"].values.tolist()\n",
    "BtoC = df_final[~df_final.client_id.isin(clé_filtre)]\n",
    "BtoC = BtoC[['client_id', 'birth', 'sex', 'age', 'id_prod', 'price',\n",
    "       'categ', 'session_id', 'date_longue', 'date_courte',\n",
    "       'date_année', 'génération']]"
   ]
  },
  {
   "cell_type": "code",
   "execution_count": null,
   "metadata": {
    "colab": {
     "base_uri": "https://localhost:8080/"
    },
    "id": "fKhBrrd-PbfE",
    "outputId": "de0a9c37-f7bf-4c67-d97f-4177b288f616"
   },
   "outputs": [],
   "source": [
    "BtoB.client_id.unique()"
   ]
  },
  {
   "cell_type": "markdown",
   "metadata": {
    "id": "XeogTmeNPyyx"
   },
   "source": [
    "# Tests statistiques"
   ]
  },
  {
   "cell_type": "code",
   "execution_count": null,
   "metadata": {
    "colab": {
     "base_uri": "https://localhost:8080/"
    },
    "id": "9JOfXQz_FkqS",
    "outputId": "48b89c38-32e3-4d59-a153-dcbb40221eb6"
   },
   "outputs": [],
   "source": [
    "import scipy.stats as stats\n",
    "from scipy.stats import norm\n",
    "from scipy.stats import pearsonr\n",
    "from scipy.stats import shapiro\n",
    "from scipy.stats import kstest\n",
    "from scipy.stats import anderson\n",
    "from scipy.stats import spearmanr\n"
   ]
  },
  {
   "cell_type": "code",
   "execution_count": null,
   "metadata": {},
   "outputs": [],
   "source": [
    "import statsmodels.formula.api as smf\n",
    "import statsmodels.api as sm\n",
    "from statsmodels.formula.api import ols\n",
    "\n",
    "import pandas.testing as tm"
   ]
  },
  {
   "cell_type": "code",
   "execution_count": null,
   "metadata": {
    "id": "MlEgRpir2Jyj"
   },
   "outputs": [],
   "source": [
    "# Visualisation\n",
    "from pandas.plotting import scatter_matrix\n",
    "from pandas.plotting import radviz\n"
   ]
  },
  {
   "cell_type": "markdown",
   "metadata": {
    "id": "g3YnltOWZIXi"
   },
   "source": [
    "## Visualisation Dataframe"
   ]
  },
  {
   "cell_type": "raw",
   "metadata": {},
   "source": [
    "\n",
    "#df = pd.DataFrame(np.random.randn(1000, 4), columns=['a', 'b', 'c', 'd'])\n",
    "\n",
    "scatter_matrix(df_final, alpha=0.2, figsize=(6, 6), diagonal='kde');"
   ]
  },
  {
   "cell_type": "raw",
   "metadata": {},
   "source": [
    "\n",
    "plt.figure()\n",
    "\n",
    "In [107]: radviz(df_final, 'Name')"
   ]
  },
  {
   "cell_type": "code",
   "execution_count": null,
   "metadata": {},
   "outputs": [],
   "source": []
  },
  {
   "cell_type": "markdown",
   "metadata": {
    "id": "0PSFQGAFQfnf"
   },
   "source": [
    "# Genre _ Categ"
   ]
  },
  {
   "cell_type": "raw",
   "metadata": {},
   "source": [
    "Variables qualitatives et discrète\n",
    "Test de Khi2"
   ]
  },
  {
   "cell_type": "code",
   "execution_count": null,
   "metadata": {},
   "outputs": [],
   "source": [
    "Genre_categ = df_final.groupby([\"categ\",\"sex\"]).agg({\"price\":\"sum\", \"id_prod\":\"count\",\"sex\":\"count\"})\n",
    "Genre_categ.rename(columns = {'id_prod': 'nombre_de_vente'}, inplace=True)\n",
    "Genre_categ.rename(columns = {'sex': 'Nombre_de_personnes'}, inplace=True)\n",
    "Genre_categ.rename(columns = {'price': 'CA'}, inplace=True)\n",
    "Genre_categ[\"CA\"] = Genre_categ[\"CA\"].round(2)\n",
    "Genre_categ = Genre_categ.reset_index()\n",
    "Genre_categ\n",
    "\n",
    "\n"
   ]
  },
  {
   "cell_type": "code",
   "execution_count": null,
   "metadata": {},
   "outputs": [],
   "source": [
    "X = \"sex\"\n",
    "Y = \"categ\"\n",
    "\n",
    "cont = df_final[[X,Y]].pivot_table(index=X,columns=Y,aggfunc=len,margins=True)\n",
    "cont"
   ]
  },
  {
   "cell_type": "code",
   "execution_count": null,
   "metadata": {},
   "outputs": [],
   "source": [
    "Genre_categ1 = pd.pivot_table(Genre_categ, values=['CA', 'nombre_de_vente', \n",
    "                                                  'Nombre_de_personnes'], \n",
    "                             index=['sex','categ'], aggfunc=np.sum)\n",
    "Genre_categ1.T\n"
   ]
  },
  {
   "cell_type": "code",
   "execution_count": null,
   "metadata": {},
   "outputs": [],
   "source": [
    "\n",
    "var = 'CA', 'nombre_de_vente', 'Nombre_de_personnes'\n",
    "for i in var:\n",
    "    Genre_categ[i] = (Genre_categ[i]/Genre_categ[i].sum())*100\n",
    "print(Genre_categ)\n",
    "    "
   ]
  },
  {
   "cell_type": "code",
   "execution_count": null,
   "metadata": {},
   "outputs": [],
   "source": [
    "Genre_categ.rename(columns = {'nombre_de_vente': '%ventes'}, inplace=True)\n",
    "Genre_categ.rename(columns = {'Nombre_de_personnes': '%clients'}, inplace=True)\n",
    "Genre_categ.rename(columns = {'CA': '%CA'}, inplace=True)"
   ]
  },
  {
   "cell_type": "code",
   "execution_count": null,
   "metadata": {},
   "outputs": [],
   "source": [
    "Genre_categ.round(2)"
   ]
  },
  {
   "cell_type": "code",
   "execution_count": null,
   "metadata": {},
   "outputs": [],
   "source": [
    "Genre_categ.reset_index(inplace=True)\n",
    "Genre_categ"
   ]
  },
  {
   "cell_type": "code",
   "execution_count": null,
   "metadata": {},
   "outputs": [],
   "source": [
    "Genre_categ.columns"
   ]
  },
  {
   "cell_type": "code",
   "execution_count": null,
   "metadata": {},
   "outputs": [],
   "source": [
    "Genre_categ = pd.pivot_table(Genre_categ, values=['%CA', '%ventes', '%clients'], \n",
    "                             index=['sex'], columns=['categ'], aggfunc=np.sum)\n",
    "Genre_categ"
   ]
  },
  {
   "cell_type": "code",
   "execution_count": null,
   "metadata": {},
   "outputs": [],
   "source": [
    "Genre_categ = Genre_categ.T\n",
    "Genre_categ.reset_index(inplace=True)\n",
    "Genre_categ.round(2)"
   ]
  },
  {
   "cell_type": "code",
   "execution_count": null,
   "metadata": {},
   "outputs": [],
   "source": [
    "Genre_categ = Genre_categ.set_index(\"categ\",\"sex\")\n",
    "Genre_categ"
   ]
  },
  {
   "cell_type": "markdown",
   "metadata": {
    "id": "Nh5S98bHdblw"
   },
   "source": [
    "## Visualisation\n"
   ]
  },
  {
   "cell_type": "raw",
   "metadata": {},
   "source": [
    "https://pandas.pydata.org/pandas-docs/version/0.23/visualization.html"
   ]
  },
  {
   "cell_type": "code",
   "execution_count": null,
   "metadata": {
    "id": "Wt2QnrRUdZSu"
   },
   "outputs": [],
   "source": [
    "sns.set()\n",
    "sns.set(rc={'figure.figsize': (11.7,8.27)}) \n",
    "\n",
    "ax = sns.boxplot(x=\"categ\", y=\"price\", hue=\"sex\", data=df_final)\n",
    "plt.xlabel('Categ')\n",
    "plt.ylabel('Price')\n",
    "plt.title('Boîtes à moustaches_ categ, price, sex')\n",
    "\n",
    "plt.show()\n",
    "\n",
    "print(\"La Mediane est la meme, sauf en categ 2, mediane identique mais variance plus grance chez les hommes\")"
   ]
  },
  {
   "cell_type": "code",
   "execution_count": null,
   "metadata": {},
   "outputs": [],
   "source": [
    "g = sns.catplot(x=\"age\", y=\"price\",\n",
    "                hue=\"sex\", col=\"categ\",\n",
    "                data=df_final, kind=\"bar\",\n",
    "                height=4, aspect=.7);"
   ]
  },
  {
   "cell_type": "code",
   "execution_count": null,
   "metadata": {},
   "outputs": [],
   "source": [
    "cont"
   ]
  },
  {
   "cell_type": "code",
   "execution_count": null,
   "metadata": {
    "id": "ej4Iblc_QF-0"
   },
   "outputs": [],
   "source": [
    "# Tableau de contingence\n",
    "\n",
    "tx = cont.loc[:,[\"All\"]]\n",
    "ty = cont.loc[[\"All\"],:]\n",
    "n = len(df_final)\n",
    "indep = (tx.dot(ty) / n)\n",
    "\n",
    "c = cont.fillna(0) # On remplace les valeurs nulles par 0\n",
    "measure = (c-indep)**2/indep\n",
    "xi_n = measure.sum().sum().round(2)\n",
    "table = measure/xi_n.round(2)\n",
    "sns.heatmap(table.iloc[:-1,:-1],annot=c.iloc[:-1,:-1])\n",
    "plt.show()"
   ]
  },
  {
   "cell_type": "markdown",
   "metadata": {
    "id": "Ue1JrT3pSK_H"
   },
   "source": [
    "## Test de Khi2"
   ]
  },
  {
   "cell_type": "code",
   "execution_count": null,
   "metadata": {},
   "outputs": [],
   "source": []
  },
  {
   "cell_type": "code",
   "execution_count": null,
   "metadata": {},
   "outputs": [],
   "source": [
    "corr_sex_categ =  pd.crosstab(df_final[\"sex\"], df_final.categ, normalize = True)\n",
    "corr_sex_categ"
   ]
  },
  {
   "cell_type": "code",
   "execution_count": null,
   "metadata": {},
   "outputs": [],
   "source": [
    "sns.heatmap(corr_sex_categ)"
   ]
  },
  {
   "cell_type": "raw",
   "metadata": {},
   "source": [
    "H0: Les variables sont indépendantes"
   ]
  },
  {
   "cell_type": "code",
   "execution_count": null,
   "metadata": {},
   "outputs": [],
   "source": [
    "# kHI2 SUR CONT"
   ]
  },
  {
   "cell_type": "code",
   "execution_count": null,
   "metadata": {},
   "outputs": [],
   "source": [
    "cont"
   ]
  },
  {
   "cell_type": "code",
   "execution_count": null,
   "metadata": {},
   "outputs": [],
   "source": [
    "from scipy.stats import chi2_contingency\n",
    "chi2, pvalue, degrees, expected = chi2_contingency(cont)\n",
    "print(\"Khi2: {}\".format(chi2) , \"Degrees: {}\".format(degrees), \"P-value: {}\".format(pvalue))\n",
    "p_value = pvalue\n",
    "# si pvalue inferieur a .05 alors il y a pas de lien, on rejette donc pas H0\n",
    "\n",
    "if p < 0.05:\n",
    "    print('Les variables sembles etre dépendantes (on rejette H0), La p-valeur de ce test est inférieur à 5%')\n",
    "else:\n",
    "    print(\"\"\"les variables semblent indépendantes, La p-valeur est supérieure à 5%\"\"\")  "
   ]
  },
  {
   "cell_type": "code",
   "execution_count": null,
   "metadata": {},
   "outputs": [],
   "source": []
  },
  {
   "cell_type": "code",
   "execution_count": null,
   "metadata": {},
   "outputs": [],
   "source": []
  },
  {
   "cell_type": "code",
   "execution_count": null,
   "metadata": {},
   "outputs": [],
   "source": [
    "from scipy.stats import chi2_contingency\n",
    "chi2, pvalue, degrees, expected = chi2_contingency(corr_sex_categ)\n",
    "print(\"Khi2: {}\".format(chi2) , \"Degrees: {}\".format(degrees), \"P-value: {}\".format(pvalue))"
   ]
  },
  {
   "cell_type": "code",
   "execution_count": null,
   "metadata": {},
   "outputs": [],
   "source": [
    "p_value = pvalue\n",
    "# si pvalue inferieur a .05 alors il y a pas de lien, on rejette donc pas H0\n",
    "\n",
    "if p < 0.05:\n",
    "    print('Les variables sembles etre dépendantes (on rejette H0), La p-valeur de ce test est inférieur à 5%')\n",
    "else:\n",
    "    print(\"\"\"les variables semblent indépendantes, La p-valeur est supérieure à 5%\"\"\")  "
   ]
  },
  {
   "cell_type": "raw",
   "metadata": {},
   "source": [
    "Categ 0 et 1:, les boîtes à moustaches semblent similaires, la variance n'est pas représenté\".\n",
    "Categ 2: la moyenne est la meme, mais la variance est différentes\n",
    "\n",
    "Le genre n'a-t-il réellement aucun impact sur les differentes catégories ? L'ANOVA nous permet de confirmer ou d'infirmer cette intuition.\n",
    "\n",
    "ANOVA pour tester l'influence de la catégorie :"
   ]
  },
  {
   "cell_type": "markdown",
   "metadata": {},
   "source": [
    "## Anova: En considerant la variable categ comme quantitative on peux effectuer un test one way Anova"
   ]
  },
  {
   "cell_type": "code",
   "execution_count": null,
   "metadata": {},
   "outputs": [],
   "source": [
    "model = ols('categ ~ sex',\n",
    "                data=df_final).fit()\n",
    "                \n",
    "anova = sm.stats.anova_lm(model, typ=2)\n",
    "anova"
   ]
  },
  {
   "cell_type": "code",
   "execution_count": null,
   "metadata": {},
   "outputs": [],
   "source": [
    "p_value = anova[\"PR(>F)\"][\"sex\"]"
   ]
  },
  {
   "cell_type": "code",
   "execution_count": null,
   "metadata": {},
   "outputs": [],
   "source": [
    "p_value = pvalue\n",
    "# si pvalue inferieur a .05 alors il y a pas de lien, on rejette donc pas H0\n",
    "\n",
    "if p < 0.05:\n",
    "    print('Les variables sembles etre dépendantes (on rejette H0), La p-valeur de ce test est inférieur à 5%')\n",
    "else:\n",
    "    print(\"\"\"les variables semblent indépendantes, La p-valeur est supérieure à 5%\"\"\")  "
   ]
  },
  {
   "cell_type": "code",
   "execution_count": null,
   "metadata": {},
   "outputs": [],
   "source": [
    "# Selon le sexe\n",
    "stats.f_oneway(df_final['categ'][df_final['sex'] == 'f'],\n",
    "               df_final['categ'][df_final['sex'] == 'm'])"
   ]
  },
  {
   "cell_type": "code",
   "execution_count": null,
   "metadata": {},
   "outputs": [],
   "source": [
    "p_value = pvalue\n",
    "# si pvalue inferieur a .05 alors il y a pas de lien, on rejette donc pas H0\n",
    "if p < 0.05:\n",
    "    print('Les variables sembles etre dépendantes (on rejette H0), La p-valeur de ce test est inférieur à 5%')\n",
    "else:\n",
    "    print(\"\"\"les variables semblent indépendantes, La p-valeur est supérieure à 5%\"\"\")  "
   ]
  },
  {
   "cell_type": "code",
   "execution_count": null,
   "metadata": {},
   "outputs": [],
   "source": []
  },
  {
   "cell_type": "raw",
   "metadata": {
    "id": "Mgxez4DOzRjB"
   },
   "source": [
    "Conclusion Il n'existe pas de lien entre les variables Genre et Catégorie et ce peut importe le genre"
   ]
  },
  {
   "cell_type": "code",
   "execution_count": null,
   "metadata": {
    "id": "QAeGs-D4z3ij"
   },
   "outputs": [],
   "source": []
  },
  {
   "cell_type": "markdown",
   "metadata": {
    "id": "hK825hDdSoM5"
   },
   "source": [
    "# le lien entre l’âge des clients et le montant total des achats, la fréquence d’achat, la taille du panier moyen et les catégories des livres achetés"
   ]
  },
  {
   "cell_type": "markdown",
   "metadata": {
    "id": "TjDGxNDCkjcj"
   },
   "source": [
    "## Observation des distributions"
   ]
  },
  {
   "cell_type": "code",
   "execution_count": null,
   "metadata": {},
   "outputs": [],
   "source": [
    "print(df_final.describe( ).round(2))"
   ]
  },
  {
   "cell_type": "code",
   "execution_count": null,
   "metadata": {},
   "outputs": [],
   "source": [
    "histogram(df_final);"
   ]
  },
  {
   "cell_type": "code",
   "execution_count": null,
   "metadata": {},
   "outputs": [],
   "source": [
    "corr = df_final.corr(method=\"spearman\", min_periods=3)\n",
    "\n",
    "corr.style.background_gradient(cmap='coolwarm')"
   ]
  },
  {
   "cell_type": "markdown",
   "metadata": {},
   "source": [
    "## Analyse des correlation"
   ]
  },
  {
   "cell_type": "code",
   "execution_count": null,
   "metadata": {
    "id": "whASC2ad0hYS"
   },
   "outputs": [],
   "source": [
    "corr = df_final.corr(method=\"spearman\", min_periods=3)\n",
    "\n",
    "corr.style.background_gradient(cmap='coolwarm')"
   ]
  },
  {
   "cell_type": "code",
   "execution_count": null,
   "metadata": {
    "id": "uCG8WmRilDqR"
   },
   "outputs": [],
   "source": [
    "sns.heatmap(df_final.corr(), annot = True)"
   ]
  },
  {
   "cell_type": "code",
   "execution_count": null,
   "metadata": {
    "id": "gz32t2j9jwml"
   },
   "outputs": [],
   "source": [
    "from statsmodels.graphics.gofplots import qqplot\n",
    "from matplotlib import pyplot"
   ]
  },
  {
   "cell_type": "markdown",
   "metadata": {
    "id": "9m4ahZ1f0iZn"
   },
   "source": [
    "# Création des DF"
   ]
  },
  {
   "cell_type": "markdown",
   "metadata": {},
   "source": [
    "## frequence_client"
   ]
  },
  {
   "cell_type": "code",
   "execution_count": null,
   "metadata": {
    "id": "z9ly5Qt_z4T1"
   },
   "outputs": [],
   "source": [
    "frequence_client = df_final.sort_values(by=[\"client_id\",\"date_longue\"])\n",
    "reference_value = frequence_client[\"date_longue\"][1]\n",
    "frequence_client['fréquence_d_achat'] = (\n",
    "frequence_client['date_longue'] - frequence_client['date_longue'].shift(fill_value=reference_value))\n",
    "frequence_client[\"fréquence_d_achat\"] = frequence_client[\"fréquence_d_achat\"].dt.days\n",
    "frequence_client[\"fréquence_d_achat\"] = frequence_client[\"fréquence_d_achat\"].mask(frequence_client[\"fréquence_d_achat\"]<=0,0)\n",
    "# modification du 1er delai de 57 a 0\n",
    "frequence_client.loc[:181733 , \"fréquence_d_achat\"]=0\n",
    "frequence_client"
   ]
  },
  {
   "cell_type": "markdown",
   "metadata": {
    "tags": []
   },
   "source": [
    "## Age_CA"
   ]
  },
  {
   "cell_type": "code",
   "execution_count": null,
   "metadata": {
    "id": "MFT9VVfyz7SB"
   },
   "outputs": [],
   "source": [
    "Age_CA = frequence_client.groupby(by=\"age\").agg({\"price\":\"sum\", \"fréquence_d_achat\":\"mean\",\"id_prod\":\"count\"})\n",
    "Age_CA = Age_CA.reset_index()\n",
    "Age_CA.rename(columns = {'id_prod': 'nombre_de_vente'}, inplace=True)\n",
    "Age_CA.rename(columns = {'price': 'CA'}, inplace=True)\n",
    "Age_CA[\"CA\"] = Age_CA[\"CA\"].round(2)\n",
    "Age_CA[\"fréquence_d_achat\"] = Age_CA[\"fréquence_d_achat\"].astype(int)\n",
    "Age_CA.head()"
   ]
  },
  {
   "cell_type": "code",
   "execution_count": null,
   "metadata": {},
   "outputs": [],
   "source": [
    "Age_CA.CA.isna().sum()"
   ]
  },
  {
   "cell_type": "code",
   "execution_count": null,
   "metadata": {},
   "outputs": [],
   "source": [
    "Age_CA"
   ]
  },
  {
   "cell_type": "markdown",
   "metadata": {},
   "source": [
    "## Age_categ"
   ]
  },
  {
   "cell_type": "code",
   "execution_count": null,
   "metadata": {
    "id": "H8he5KGn0R3A"
   },
   "outputs": [],
   "source": [
    "\n",
    "#df avec categ\n",
    "Age_categ = frequence_client.groupby(by=[\"age\",\"categ\"]).agg({\"price\":\"sum\", \"fréquence_d_achat\":\"mean\",\"id_prod\":\"count\"})\n",
    "Age_categ = Age_categ.reset_index()\n",
    "Age_categ.rename(columns = {'id_prod': 'nombre_de_vente'}, inplace=True)\n",
    "Age_categ.rename(columns = {'price': 'CA'}, inplace=True)\n",
    "Age_categ[\"CA\"] = Age_categ[\"CA\"].round(2)\n",
    "Age_categ[\"fréquence_d_achat\"] = Age_categ[\"fréquence_d_achat\"].astype(int)\n",
    "Age_categ.head()"
   ]
  },
  {
   "cell_type": "markdown",
   "metadata": {},
   "source": [
    "## génération_categ"
   ]
  },
  {
   "cell_type": "code",
   "execution_count": null,
   "metadata": {},
   "outputs": [],
   "source": [
    "génération_categ = frequence_client.groupby(by=[\"génération\",\"categ\"]).agg({\"price\":\"sum\", \"fréquence_d_achat\":\"mean\",\"id_prod\":\"count\"})\n",
    "génération_categ = génération_categ.reset_index()\n",
    "génération_categ.rename(columns = {'id_prod': 'nombre_de_vente'}, inplace=True)\n",
    "génération_categ.rename(columns = {'price': 'CA'}, inplace=True)\n",
    "génération_categ[\"CA\"] = génération_categ[\"CA\"].round(2)\n",
    "génération_categ[\"fréquence_d_achat\"] = génération_categ[\"fréquence_d_achat\"].astype(int)\n",
    "génération_categ.head()"
   ]
  },
  {
   "cell_type": "markdown",
   "metadata": {
    "tags": []
   },
   "source": [
    "## panier_moyen_age"
   ]
  },
  {
   "cell_type": "code",
   "execution_count": null,
   "metadata": {},
   "outputs": [],
   "source": [
    "#df panier moyen\n",
    "CA_par_session=  df_final.groupby(by=[\"age\",\"session_id\"]).agg({\"price\":\"sum\"})\n",
    "CA_par_session = CA_par_session.reset_index() \n",
    "\n",
    "CA_par_session.head(20)"
   ]
  },
  {
   "cell_type": "code",
   "execution_count": null,
   "metadata": {},
   "outputs": [],
   "source": [
    "print(\"Le panier moyen est de: {:.4}€\".format(CA_par_session.price.mean()))"
   ]
  },
  {
   "cell_type": "code",
   "execution_count": null,
   "metadata": {},
   "outputs": [],
   "source": [
    "panier_moyen_age.shape"
   ]
  },
  {
   "cell_type": "code",
   "execution_count": null,
   "metadata": {},
   "outputs": [],
   "source": [
    "panier_moyen_age =  CA_par_session.groupby(by=\"age\").agg({\"price\":\"mean\"})\n",
    "panier_moyen_age.reset_index(inplace=True)\n",
    "panier_moyen_age"
   ]
  },
  {
   "cell_type": "raw",
   "metadata": {},
   "source": []
  },
  {
   "cell_type": "code",
   "execution_count": null,
   "metadata": {},
   "outputs": [],
   "source": []
  },
  {
   "cell_type": "code",
   "execution_count": null,
   "metadata": {},
   "outputs": [],
   "source": [
    "ax = sns.lmplot(x=\"age\", y=\"price\", data=panier_moyen_age, ci=None, line_kws={'color':'black'})\n",
    "ax.set(xlabel='Age', ylabel='Panier Moyen')\n",
    "plt.show()"
   ]
  },
  {
   "cell_type": "markdown",
   "metadata": {},
   "source": [
    "## panier_moyen_age_categ"
   ]
  },
  {
   "cell_type": "code",
   "execution_count": null,
   "metadata": {},
   "outputs": [],
   "source": [
    "CA_par_session_categ=  df_final.groupby(by=[\"age\",\"session_id\",\"categ\"]).agg({\"price\":\"sum\"})\n",
    "CA_par_session_categ = CA_par_session_categ.reset_index() \n",
    "\n",
    "CA_par_session_categ.head(20)"
   ]
  },
  {
   "cell_type": "code",
   "execution_count": null,
   "metadata": {},
   "outputs": [],
   "source": [
    "panier_moyen_age_categ =  CA_par_session_categ.groupby(by=[\"age\",\"categ\"]).agg({\"price\":\"mean\"})\n",
    "panier_moyen_age_categ.reset_index(inplace=True)\n",
    "panier_moyen_age_categ"
   ]
  },
  {
   "cell_type": "markdown",
   "metadata": {
    "tags": []
   },
   "source": [
    "# df_test"
   ]
  },
  {
   "cell_type": "markdown",
   "metadata": {},
   "source": [
    "## df_test_Age"
   ]
  },
  {
   "cell_type": "code",
   "execution_count": null,
   "metadata": {},
   "outputs": [],
   "source": [
    "df_test_Age = pd.merge(Age_CA, panier_moyen_age, on=[\"age\"])\n",
    "\n",
    "df_test_Age.rename(columns = {'price': 'Panier_moyen'}, inplace=True)\n",
    "df_test_Age[\"Panier_moyen\"] = df_test_Age[\"Panier_moyen\"].round(2)\n"
   ]
  },
  {
   "cell_type": "code",
   "execution_count": null,
   "metadata": {},
   "outputs": [],
   "source": [
    "df_test_Age[\"génération\"]=1\n",
    "bins = [0,30,50,100]\n",
    "labels = [\"Moins de 30\",\"31-50\",\"51 et plus\" ]\n",
    "df_test_Age[\"génération\"]=pd.cut(df_test_Age[\"age\"], bins, labels)\n",
    "df_test_Age"
   ]
  },
  {
   "cell_type": "code",
   "execution_count": null,
   "metadata": {},
   "outputs": [],
   "source": []
  },
  {
   "cell_type": "markdown",
   "metadata": {},
   "source": [
    "## df_test_age_categ"
   ]
  },
  {
   "cell_type": "code",
   "execution_count": null,
   "metadata": {},
   "outputs": [],
   "source": [
    "df_test_age_categ = pd.merge(Age_categ, panier_moyen_age_categ, on=[\"age\",\"categ\"])\n",
    "df_test_age_categ.rename(columns = {'price': 'Panier_moyen'}, inplace=True)\n",
    "df_test_age_categ[\"Panier_moyen\"] = df_test_age_categ[\"Panier_moyen\"].round(2)"
   ]
  },
  {
   "cell_type": "code",
   "execution_count": null,
   "metadata": {},
   "outputs": [],
   "source": [
    "df_test_age_categ[\"génération\"]=1\n",
    "bins = [0,30,50,100]\n",
    "labels = [\"Moins de 30\",\"31-50\",\"51 et plus\" ]\n",
    "df_test_age_categ[\"génération\"]=pd.cut(df_test_age_categ[\"age\"], bins, labels)\n",
    "df_test_age_categ"
   ]
  },
  {
   "cell_type": "code",
   "execution_count": null,
   "metadata": {},
   "outputs": [],
   "source": [
    "\n"
   ]
  },
  {
   "cell_type": "code",
   "execution_count": null,
   "metadata": {},
   "outputs": [],
   "source": [
    "\n",
    "var = 'CA', 'fréquence_d_achat', 'nombre_de_vente','Panier_moyen'\n",
    "for i in var:\n",
    "    df_test_age_categ2[i] = (df_test_age_categ[i]/df_test_age_categ[i].sum())*100\n",
    "print(df_test_age_categ2)\n",
    "    "
   ]
  },
  {
   "cell_type": "markdown",
   "metadata": {
    "tags": []
   },
   "source": [
    "# Test 1 to 1"
   ]
  },
  {
   "cell_type": "markdown",
   "metadata": {},
   "source": [
    "\n",
    "## Age _ CA"
   ]
  },
  {
   "cell_type": "raw",
   "metadata": {},
   "source": [
    "H0: Mes valeurs sont indépendantes"
   ]
  },
  {
   "cell_type": "raw",
   "metadata": {},
   "source": [
    "Age _ CA : 2 valeurs quantitatives, Age=Valeur discrète/continue, CA=Valeur continue\n",
    "Test de Pearson"
   ]
  },
  {
   "cell_type": "code",
   "execution_count": null,
   "metadata": {
    "id": "WBrdS__IvEw1"
   },
   "outputs": [],
   "source": [
    "ax = sns.lmplot(x=\"age\", y=\"CA\", data=df_test_Age, ci=None, line_kws={'color':'black'})\n",
    "ax.set(xlabel='Age', ylabel='CA')\n",
    "\n",
    "plt.show()"
   ]
  },
  {
   "cell_type": "code",
   "execution_count": null,
   "metadata": {},
   "outputs": [],
   "source": [
    "df_test_Age.génération.unique()"
   ]
  },
  {
   "cell_type": "code",
   "execution_count": null,
   "metadata": {},
   "outputs": [],
   "source": [
    "sns.set()\n",
    "sns.set(rc={'figure.figsize': (11.7,8.27)}) \n",
    "\n",
    "ax = sns.boxplot(x=\"CA\", y=\"génération\", data=df_test_Age)\n",
    "plt.xlabel('CA')\n",
    "plt.ylabel('Génération')\n",
    "plt.title(\"\"\"Boîtes à moustaches: CA selon l'age\"\"\")\n",
    "\n",
    "plt.show()\n"
   ]
  },
  {
   "cell_type": "code",
   "execution_count": null,
   "metadata": {},
   "outputs": [],
   "source": [
    "sns.set()\n",
    "sns.set(rc={'figure.figsize': (11.7,8.27)}) \n",
    "\n",
    "ax = sns.boxplot(x=\"categ\", y=\"nombre_de_vente\",hue=\"génération\", data=df_test_age_categ)\n",
    "plt.xlabel('Nombre de vente', size=18)\n",
    "plt.ylabel('Génération', size=18)\n",
    "plt.title(\"\"\"Boîtes à moustaches: nombre_de_vente selon l'age\"\"\",size=20)\n",
    "\n",
    "plt.show()\n"
   ]
  },
  {
   "cell_type": "code",
   "execution_count": null,
   "metadata": {},
   "outputs": [],
   "source": []
  },
  {
   "cell_type": "code",
   "execution_count": null,
   "metadata": {},
   "outputs": [],
   "source": [
    "data1 = df_test_Age[\"age\"]\n",
    "data2 = df_test_Age[\"CA\"]\n",
    "coef, p = spearmanr(data1, data2)\n",
    "print('Coefficient de correlation methode Spearman  : %.3f' % coef, \"p_value: {}\".format(p))\n",
    "\n",
    "\n",
    "if p < 0.05:\n",
    "    print('Les variables sembles etre dépendantes (on rejette H0), La p-valeur de ce test est inférieur à 5%')\n",
    "else:\n",
    "    print(\"\"\"les variables semblent indépendantes, La p-valeur est supérieure à 5%\"\"\")   \n"
   ]
  },
  {
   "cell_type": "code",
   "execution_count": null,
   "metadata": {},
   "outputs": [],
   "source": [
    "data1 = df_test_Age[\"age\"]\n",
    "data2 = df_test_Age[\"CA\"]\n",
    "coef, p = pearsonr(data1, data2)\n",
    "print(coef, p)\n",
    "print('Coefficient de correlation methode Pearson  : %.3f' % coef, \"p_value: {:.2}\".format(p))\n",
    "\n",
    "\n",
    "if p < 0.05:\n",
    "    print('Les variables sembles etre dépendantes (on rejette H0), La p-valeur de ce test est inférieur à 5%')\n",
    "else:\n",
    "    print(\"\"\"les variables semblent indépendantes, La p-valeur est supérieure à 5%\"\"\")  "
   ]
  },
  {
   "cell_type": "markdown",
   "metadata": {
    "tags": []
   },
   "source": [
    "## Age _ nombre_de_vente"
   ]
  },
  {
   "cell_type": "raw",
   "metadata": {},
   "source": [
    "H0: Mes valeurs sont indépendantes"
   ]
  },
  {
   "cell_type": "raw",
   "metadata": {},
   "source": [
    "Age _ nombre_de_vente : 2 valeurs quantitatives, Age=Valeur discrète, nombre_de_vente=Valeur discrète\n",
    "Test Khi2"
   ]
  },
  {
   "cell_type": "code",
   "execution_count": null,
   "metadata": {},
   "outputs": [],
   "source": [
    "ax = sns.lmplot(x=\"age\", y=\"nombre_de_vente\", data=df_test_Age, ci=None, line_kws={'color':'black'})\n",
    "ax.set(xlabel='Age', ylabel='nombre_de_vente')\n",
    "plt.grid(\"visible\")\n",
    "plt.show()"
   ]
  },
  {
   "cell_type": "code",
   "execution_count": null,
   "metadata": {},
   "outputs": [],
   "source": [
    "sns.set()\n",
    "sns.set(rc={'figure.figsize': (11.7,8.27)}) \n",
    "\n",
    "ax = sns.boxplot(x=\"nombre_de_vente\", y=\"génération\", data=df_test_Age)\n",
    "plt.xlabel('Nb de ventes')\n",
    "plt.ylabel('Génération')\n",
    "plt.title(\"\"\"Boîtes à moustaches: Nb de ventes selon l'age\"\"\")\n",
    "\n",
    "plt.show()\n"
   ]
  },
  {
   "cell_type": "code",
   "execution_count": null,
   "metadata": {},
   "outputs": [],
   "source": [
    "khi2_age_nombre_de_vente = pd.crosstab(df_test_Age[\"age\"], df_test_Age.nombre_de_vente, normalize=\"index\")\n"
   ]
  },
  {
   "cell_type": "code",
   "execution_count": null,
   "metadata": {},
   "outputs": [],
   "source": [
    "data1 = df_test_Age[\"age\"]\n",
    "data2 = df_test_Age[\"nombre_de_vente\"]\n",
    "coef, p = pearsonr(data1, data2)\n",
    "print(coef, p)\n",
    "print('Coefficient de correlation methode Pearson  : %.3f' % coef, \"p_value: {}\".format(p))\n",
    "\n",
    "if p < 0.05:\n",
    "    print('Les variables sembles etre dépendantes (on rejette H0), La p-valeur de ce test est inférieur à 5%')\n",
    "else:\n",
    "    print(\"\"\"les variables semblent indépendantes, La p-valeur est supérieure à 5%\"\"\")  "
   ]
  },
  {
   "cell_type": "code",
   "execution_count": null,
   "metadata": {},
   "outputs": [],
   "source": []
  },
  {
   "cell_type": "markdown",
   "metadata": {},
   "source": [
    "## Age _ fréquence_d_achat"
   ]
  },
  {
   "cell_type": "raw",
   "metadata": {},
   "source": [
    "H0: Mes valeurs sont indépendantes"
   ]
  },
  {
   "cell_type": "raw",
   "metadata": {},
   "source": [
    "Age _ fréquence_d_achat : 2 valeurs quantitatives, Valeurs discrètes\n",
    "Test spearman\n"
   ]
  },
  {
   "cell_type": "code",
   "execution_count": null,
   "metadata": {},
   "outputs": [],
   "source": [
    "ax = sns.lmplot(x=\"age\", y=\"fréquence_d_achat\", data=df_test_Age, ci=None, line_kws={'color':'black'})\n",
    "ax.set(xlabel='Age', ylabel='fréquence_d_achat')\n",
    "plt.show()"
   ]
  },
  {
   "cell_type": "raw",
   "metadata": {},
   "source": [
    "# Test de spearman"
   ]
  },
  {
   "cell_type": "code",
   "execution_count": null,
   "metadata": {},
   "outputs": [],
   "source": [
    "df_test_Age"
   ]
  },
  {
   "cell_type": "code",
   "execution_count": null,
   "metadata": {},
   "outputs": [],
   "source": [
    "print('Coefficient de correlation methode Spearman  : %.3f' % coef, \"p_value: {}\".format(p))\n",
    "\n",
    "data1 = df_test_Age[\"age\"]\n",
    "data2 = df_test_Age[\"fréquence_d_achat\"]\n",
    "coef, p = spearmanr(data1, data2)\n",
    "print(coef, p)\n",
    "if p < 0.05:\n",
    "    print('Les variables sembles etre dépendantes (on rejette H0), La p-valeur de ce test est inférieur à 5%')\n",
    "else:\n",
    "    print(\"\"\"les variables semblent indépendantes, La p-valeur est supérieure à 5%\"\"\")  "
   ]
  },
  {
   "cell_type": "code",
   "execution_count": null,
   "metadata": {},
   "outputs": [],
   "source": [
    "print('Coefficient de correlation methode Pearson  : %.3f' % coef, \"p_value: {}\".format(p))\n",
    "\n",
    "data1 = df_test_Age[\"age\"]\n",
    "data2 = df_test_Age[\"fréquence_d_achat\"]\n",
    "coef, p = pearsonr(data1, data2)\n",
    "print(coef, p)\n",
    "if p < 0.05:\n",
    "    print('Les variables sembles etre dépendantes (on rejette H0), La p-valeur de ce test est inférieur à 5%')\n",
    "else:\n",
    "    print(\"\"\"les variables semblent indépendantes, La p-valeur est supérieure à 5%\"\"\")  "
   ]
  },
  {
   "cell_type": "code",
   "execution_count": null,
   "metadata": {},
   "outputs": [],
   "source": [
    "# ANOVA avec génération comme variable "
   ]
  },
  {
   "cell_type": "raw",
   "metadata": {},
   "source": [
    "# Etape Anova\n",
    "reg_simp = smf.ols('fréquence_d_achat ~ age ', data=df_test_Age).fit()\n",
    "print(reg_simp.summary())\n",
    "\n",
    "shapiro(reg_simp.resid)\n",
    "shapiro(reg_simp.resid)\n",
    "p=pvalue\n",
    "if p < 0.05:\n",
    "    print(\"Ici, l'hypothèse de normalité est remise en cause\") \n",
    "else:\n",
    "    print(\"Ici, l'hypothèse de normalité semble vérifiée\")   \n",
    "print(p)"
   ]
  },
  {
   "cell_type": "code",
   "execution_count": null,
   "metadata": {},
   "outputs": [],
   "source": [
    "alpha = 0.05\n",
    "x = df_test_Age[\"age\"].var()\n",
    "y = df_test_Age[\"fréquence_d_achat\"].var()\n",
    "F = x/y\n",
    "df1 = len(str(x)) - 1\n",
    "df2 = len(str(y)) - 1\n",
    "alpha = 0.05\n",
    "p_value = st.f.cdf(F, df1, df2)\n",
    "print(p_value)\n",
    "if p_value > alpha:\n",
    "    print(\"Nous rejetons l'hypothèse H0 var(x) = var(y), il y a ici p_value: {:.2%} de chance que H0 soit rejeté à tord \".format(p) )\n",
    "else:\n",
    "    print(\"var(x) = var(y), on ne peux rejeter l(hypothèse H0, il y a ici p_value: {:.2%} de chance que H0 ne soit pas rejeté à tord \".format(p) )"
   ]
  },
  {
   "cell_type": "raw",
   "metadata": {},
   "source": [
    "44.70% de chance de se teomper, continuons notre anova"
   ]
  },
  {
   "cell_type": "code",
   "execution_count": null,
   "metadata": {},
   "outputs": [],
   "source": [
    "reg_simp = smf.ols('fréquence_d_achat ~ génération ', data=df_test_Age).fit()"
   ]
  },
  {
   "cell_type": "code",
   "execution_count": null,
   "metadata": {},
   "outputs": [],
   "source": [
    "print(reg_simp.summary())"
   ]
  },
  {
   "cell_type": "code",
   "execution_count": null,
   "metadata": {},
   "outputs": [],
   "source": [
    "shapiro(reg_simp.resid)"
   ]
  },
  {
   "cell_type": "code",
   "execution_count": null,
   "metadata": {},
   "outputs": [],
   "source": [
    "# Test la  normalité des résidus\n",
    "shapiro(reg_simp.resid)\n",
    "p=pvalue\n",
    "if p < 0.05:\n",
    "    print(\"Ici, l'hypothèse de normalité est remise en cause\") \n",
    "else:\n",
    "    print(\"Ici, l'hypothèse de normalité semble vérifiée\")   \n",
    "print(p)"
   ]
  },
  {
   "cell_type": "code",
   "execution_count": null,
   "metadata": {},
   "outputs": [],
   "source": [
    "#Création categ pour Anova One-way\n",
    "Moins_30 = df_test_age_categ.query(\"age<30\")\n",
    "Age_30_50 = df_test_age_categ.query(\"age>30 & age<50\")\n",
    "Age_50_et_plus = df_test_age_categ.query(\"age>50\")"
   ]
  },
  {
   "cell_type": "code",
   "execution_count": null,
   "metadata": {
    "scrolled": true
   },
   "outputs": [],
   "source": [
    "f,p = st.f_oneway(Moins_30[\"fréquence_d_achat\"],\n",
    "                     Age_30_50[\"fréquence_d_achat\"],\n",
    "                     Age_50_et_plus[\"fréquence_d_achat\"])\n",
    "print(f'la f-valeur : {f:.2f} et la p-valeur : {p}.')\n",
    "\n",
    "if p_value<0.05:\n",
    "    print(\"P_value = {}\".format(p_value), \"La p-valeur de ce test est inférieur à 5%,  l\\'hypothèse H0 peux etre rejetée, il existe ici pvalue:, {}\".format(p_value), \"de chance que H0 ne soit pas rejeté à tord (Beta: Erreur de 2nd espèce)\"\"\")\n",
    "    \n",
    "else: \n",
    "    print(\"P_value = {}\".format(p_value),\"La p-valeur est supérieure à 5%, cela signifie qu'il existe pas de lien entre les variables, ce qui incite à rejeter l'hypothèse  H0\"\"\")"
   ]
  },
  {
   "cell_type": "raw",
   "metadata": {},
   "source": [
    "Il existe donc un lien (99.99% de chance de se tromper(p))\n",
    "Il existe donc un lien entre génération & Fréquence d'achat"
   ]
  },
  {
   "cell_type": "code",
   "execution_count": null,
   "metadata": {},
   "outputs": [],
   "source": [
    "eta2(df_test_Age, 'fréquence_d_achat', 'age')"
   ]
  },
  {
   "cell_type": "raw",
   "metadata": {},
   "source": [
    "On obtient un résultat proche de 0.62, ce qui laisse penser qu'il y a effectivement une corrélation entre la fréquence_d_achat et la génération."
   ]
  },
  {
   "cell_type": "code",
   "execution_count": null,
   "metadata": {},
   "outputs": [],
   "source": [
    "plt.figure(figsize=(5,5))\n",
    "plt.boxplot([Moins_30[\"fréquence_d_achat\"],\n",
    "             Age_30_50[\"fréquence_d_achat\"],\n",
    "            Age_50_et_plus[\"fréquence_d_achat\"]\n",
    "], vert=False, showmeans=True, showfliers=False)\n",
    "\n",
    "plt.xlabel(\"fréquence d'achat (délai en jour)\")\n",
    "plt.yticks([1,2,3], ['Moins_30', 'Age_30_50', 'Age_50_et_plus'])\n",
    "plt.show()"
   ]
  },
  {
   "cell_type": "code",
   "execution_count": null,
   "metadata": {},
   "outputs": [],
   "source": [
    "eta2()"
   ]
  },
  {
   "cell_type": "markdown",
   "metadata": {},
   "source": [
    "## Age _ Categ"
   ]
  },
  {
   "cell_type": "code",
   "execution_count": null,
   "metadata": {},
   "outputs": [],
   "source": [
    "df_test_Age"
   ]
  },
  {
   "cell_type": "code",
   "execution_count": null,
   "metadata": {},
   "outputs": [],
   "source": [
    "df_test_age_categ"
   ]
  },
  {
   "cell_type": "code",
   "execution_count": null,
   "metadata": {},
   "outputs": [],
   "source": [
    "sns.set()\n",
    "sns.set(rc={'figure.figsize': (11.7,8.27)}) \n",
    "\n",
    "ax = sns.boxplot(x=\"categ\", y=\"price\", hue=\"génération\", data=df_final)\n",
    "plt.xlabel('Categ')\n",
    "plt.ylabel('Price')\n",
    "plt.title('Boîtes à moustaches_ categ, price, génération',size=20)\n",
    "\n",
    "plt.show()\n"
   ]
  },
  {
   "cell_type": "raw",
   "metadata": {},
   "source": [
    "Age _ CA (Age=Valeur quantitative, discrète, valeur qualitative= Categ)\n",
    "Egalité des variance: Bartlett\n",
    "Anova test"
   ]
  },
  {
   "cell_type": "raw",
   "metadata": {},
   "source": [
    "H0: Mes valeurs sont indépendantes"
   ]
  },
  {
   "cell_type": "code",
   "execution_count": null,
   "metadata": {},
   "outputs": [],
   "source": [
    "df_test_age_categ.head(3)"
   ]
  },
  {
   "cell_type": "code",
   "execution_count": null,
   "metadata": {
    "scrolled": true
   },
   "outputs": [],
   "source": [
    "sns.set()\n",
    "#sns.set(rc={'figure.figsize': (11.7,8.27)}) \n",
    "\n",
    "ax = sns.boxplot(x=\"categ\", y=\"CA\", hue=\"génération\", data=df_test_age_categ)\n",
    "plt.xlabel('Categ')\n",
    "plt.ylabel('CA')\n",
    "plt.title('Boîtes à moustaches_ categ, CA par génération')\n",
    "\n",
    "plt.show()\n"
   ]
  },
  {
   "cell_type": "markdown",
   "metadata": {},
   "source": [
    "## Test de Bartlett _ Egalité des variances"
   ]
  },
  {
   "cell_type": "raw",
   "metadata": {},
   "source": [
    "H0 : Hypothèse que var(y) = var(y)"
   ]
  },
  {
   "cell_type": "code",
   "execution_count": null,
   "metadata": {},
   "outputs": [],
   "source": [
    "alpha = 0.05\n",
    "x = df_test_age_categ[\"age\"].var()\n",
    "y = df_test_age_categ[\"categ\"].var()\n",
    "F = x/y\n",
    "df1 = len(str(x)) - 1\n",
    "df2 = len(str(y)) - 1"
   ]
  },
  {
   "cell_type": "code",
   "execution_count": null,
   "metadata": {},
   "outputs": [],
   "source": [
    "alpha = 0.05\n",
    "p_value = st.f.cdf(F, df1, df2)\n",
    "print(p_value)"
   ]
  },
  {
   "cell_type": "code",
   "execution_count": null,
   "metadata": {},
   "outputs": [],
   "source": [
    "if p_value > alpha:\n",
    "    print(\"Nous rejetons l'hypothèse H0 var(x) = var(y), il y a ici p_value: {:.2%} de chance que H0 soit rejeté à tord \".format(p) )\n",
    "else:\n",
    "    print(\"var(x) = var(y), on ne peux rejeter l(hypothèse H0, il y a ici p_value: {:.2%} de chance que H0 ne soit pas rejeté à tord \".format(p) )"
   ]
  },
  {
   "cell_type": "markdown",
   "metadata": {},
   "source": [
    "## Réalisez une régression linéaire simple"
   ]
  },
  {
   "cell_type": "code",
   "execution_count": null,
   "metadata": {},
   "outputs": [],
   "source": [
    "df_test_age_categ.head(2)"
   ]
  },
  {
   "cell_type": "code",
   "execution_count": null,
   "metadata": {},
   "outputs": [],
   "source": [
    "reg_simp = smf.ols('age ~ categ', data=df_test_age_categ).fit()"
   ]
  },
  {
   "cell_type": "code",
   "execution_count": null,
   "metadata": {},
   "outputs": [],
   "source": [
    "print(reg_simp.summary())"
   ]
  },
  {
   "cell_type": "markdown",
   "metadata": {},
   "source": [
    "## Visualisez la droite de régression"
   ]
  },
  {
   "cell_type": "code",
   "execution_count": null,
   "metadata": {},
   "outputs": [],
   "source": [
    "ax = sns.lmplot(x=\"age\", y=\"CA\",hue=\"categ\", data=df_test_age_categ, ci=None, line_kws={'color':'black'})\n",
    "ax.set(xlabel='Age', ylabel='CA')\n",
    "plt.show()"
   ]
  },
  {
   "cell_type": "markdown",
   "metadata": {},
   "source": [
    "## Test de la normalité des résidus"
   ]
  },
  {
   "cell_type": "code",
   "execution_count": null,
   "metadata": {},
   "outputs": [],
   "source": [
    "df_test_age_categ['residu_s'] = reg_simp.resid"
   ]
  },
  {
   "cell_type": "code",
   "execution_count": null,
   "metadata": {},
   "outputs": [],
   "source": [
    "\n",
    "shapiro(reg_simp.resid)"
   ]
  },
  {
   "cell_type": "code",
   "execution_count": null,
   "metadata": {},
   "outputs": [],
   "source": [
    "shapiro(reg_simp.resid)\n",
    "p=pvalue\n",
    "if p < 0.05:\n",
    "    print(\"Ici, l'hypothèse de normalité est remise en cause\") \n",
    "else:\n",
    "    print(\"Ici, l'hypothèse de normalité semble vérifiée\")   \n",
    "print(p)"
   ]
  },
  {
   "cell_type": "code",
   "execution_count": null,
   "metadata": {},
   "outputs": [],
   "source": [
    "plt.hist(df_test_age_categ['residu_s'], density=True)\n",
    "plt.xlabel('Résidus')\n",
    "plt.title('Histogramme des résidus')\n",
    "plt.show()"
   ]
  },
  {
   "cell_type": "markdown",
   "metadata": {},
   "source": [
    "## Anova sans CA"
   ]
  },
  {
   "cell_type": "code",
   "execution_count": null,
   "metadata": {},
   "outputs": [],
   "source": [
    "anova2 = st.f_oneway(df_test_age_categ[\"age\"],df_test_age_categ[\"categ\"])\n",
    "anova2"
   ]
  },
  {
   "cell_type": "code",
   "execution_count": null,
   "metadata": {},
   "outputs": [],
   "source": [
    "p_value = anova2[1]\n",
    "# si pvalue inferieur a .05 alors il y a un lien, on rejette donc  H0\n",
    "\n",
    "if p_value<0.05:\n",
    "    print(\"P_value = {}\".format(p_value), \"La p-valeur de ce test est inférieur à 5%,  l\\'hypothèse H0 peux etre rejetée, il existe ici pvalue:, {}\".format(p_value), \"de chance que H0 ne soit pas rejeté à tord (Beta: Erreur de 2nd espèce)\"\"\")\n",
    "    \n",
    "else: \n",
    "    print(\"P_value = {}\".format(p_value),\"La p-valeur est supérieure à 5%, cela signifie qu'il existe pas de lien entre les variables, ce qui incite à rejeter l'hypothèse  H0,  il existe ici p_value:, {}\".format(p_value), \"de chance que H0 soit rejeté à tord (Alpha: Erreur de 1ère espèce)\")"
   ]
  },
  {
   "cell_type": "code",
   "execution_count": null,
   "metadata": {},
   "outputs": [],
   "source": [
    "anova3 = st.f_oneway(df_final[\"age\"],df_final[\"categ\"])\n",
    "anova3"
   ]
  },
  {
   "cell_type": "code",
   "execution_count": null,
   "metadata": {},
   "outputs": [],
   "source": [
    "p_value = anova3[1]\n",
    "# si pvalue inferieur a .05 alors il y a pas de lien, on rejette donc pas H0\n",
    "\n",
    "if p_value<0.05:\n",
    "    print(\"P_value = {}\".format(p_value), \"La p-valeur de ce test est inférieur à 5%,  l\\'hypothèse H0 peux etre rejetée, Au moins une des catégories (moyenne) à un lien, il existe ici pvalue:, {}\".format(p_value), \"de chance que H0 ne soit pas rejeté à tord (Beta: Erreur de 2nd espèce)\"\"\")\n",
    "    \n",
    "else: \n",
    "    print(\"P_value = {}\".format(p_value),\"La p-valeur est supérieure à 5%, cela signifie qu'il existe pas de lien entre les variables, ce qui incite à rejeter l'hypothèse  H0,  il existe ici p_value:, {}\".format(p_value), \"de chance que H0 soit rejeté à tord (Alpha: Erreur de 1ère espèce)\")"
   ]
  },
  {
   "cell_type": "code",
   "execution_count": null,
   "metadata": {},
   "outputs": [],
   "source": [
    "categ = df_final.categ.unique()\n",
    "categ"
   ]
  },
  {
   "cell_type": "code",
   "execution_count": null,
   "metadata": {},
   "outputs": [],
   "source": [
    "categ_ages = {cat: df_final.loc[df_final['categ']==cat, 'age'] for cat in categ}\n"
   ]
  },
  {
   "cell_type": "code",
   "execution_count": null,
   "metadata": {},
   "outputs": [],
   "source": [
    "\n",
    "plt.boxplot([\n",
    "    categ_ages[0],\n",
    "    categ_ages[1],\n",
    "    categ_ages[2]\n",
    "],\n",
    "    labels=['cat. 0', 'cat. 1', 'cat. 2'],\n",
    "    vert=False, showmeans=True, showfliers=False\n",
    ")\n",
    "plt.xlabel('age')\n",
    "plt.show()"
   ]
  },
  {
   "cell_type": "code",
   "execution_count": null,
   "metadata": {},
   "outputs": [],
   "source": [
    "f, p = st.f_oneway(categ_ages[0], categ_ages[1], categ_ages[2])\n",
    "print(f, p)\n",
    "\n",
    "if p < 0.05:\n",
    "    print('Les variables sembles etre dépendantes (on rejette H0), La p-valeur de ce test est inférieur à 5%')\n",
    "else:\n",
    "    print(\"\"\"les variables semblent indépendantes, La p-valeur est supérieure à 5%\"\"\")  "
   ]
  },
  {
   "cell_type": "code",
   "execution_count": null,
   "metadata": {},
   "outputs": [],
   "source": [
    "eta2(df_final, 'génération', 'categ')"
   ]
  },
  {
   "cell_type": "markdown",
   "metadata": {
    "tags": []
   },
   "source": [
    "## Age _ panier_moyen_age"
   ]
  },
  {
   "cell_type": "raw",
   "metadata": {},
   "source": [
    "Age _ panier moyen : 2 valeurs quantitatives, Age=Valeur discrète, Panier_moyen=Valeur continue\n",
    "Test Khi2"
   ]
  },
  {
   "cell_type": "code",
   "execution_count": null,
   "metadata": {},
   "outputs": [],
   "source": [
    "panier_moyen_age"
   ]
  },
  {
   "cell_type": "code",
   "execution_count": null,
   "metadata": {
    "scrolled": true
   },
   "outputs": [],
   "source": [
    "ax = sns.lmplot(x=\"age\", y=\"price\", data=panier_moyen_age, ci=None, line_kws={'color':'black'})\n",
    "ax.set(xlabel='Age', ylabel='Panier Moyen')\n",
    "plt.show()"
   ]
  },
  {
   "cell_type": "code",
   "execution_count": null,
   "metadata": {},
   "outputs": [],
   "source": [
    "géné = df_final.génération.unique()\n",
    "géné"
   ]
  },
  {
   "cell_type": "code",
   "execution_count": null,
   "metadata": {},
   "outputs": [],
   "source": [
    "panier_moyen_age"
   ]
  },
  {
   "cell_type": "code",
   "execution_count": null,
   "metadata": {},
   "outputs": [],
   "source": [
    "panier_m = {pan: panier_moyen_age.loc[panier_moyen_age['price']==pan, 'age'] for pan in géné}"
   ]
  },
  {
   "cell_type": "code",
   "execution_count": null,
   "metadata": {},
   "outputs": [],
   "source": [
    "panier_m"
   ]
  },
  {
   "cell_type": "code",
   "execution_count": null,
   "metadata": {},
   "outputs": [],
   "source": []
  },
  {
   "cell_type": "code",
   "execution_count": null,
   "metadata": {},
   "outputs": [],
   "source": [
    "plt.boxplot([panier_m[0],\n",
    "             panier_m[1],\n",
    "             panier_m[2]],\n",
    "    labels=['Moins de 30', '30-50', '50 et plus'],\n",
    "    vert=False, showmeans=True, showfliers=False\n",
    ")\n",
    "plt.xlabel('age')\n",
    "plt.show()"
   ]
  },
  {
   "cell_type": "raw",
   "metadata": {},
   "source": [
    "H0: Mes valeurs sont indépendantes"
   ]
  },
  {
   "cell_type": "raw",
   "metadata": {},
   "source": [
    "# Test de Spearman"
   ]
  },
  {
   "cell_type": "code",
   "execution_count": null,
   "metadata": {},
   "outputs": [],
   "source": [
    "data1 = panier_moyen_age[\"age\"]\n",
    "data2 = panier_moyen_age[\"price\"]\n",
    "coef, p = spearmanr(data1, data2)\n",
    "print('Coefficient de correlation methode Spearman  : %.3f' % coef, \"p_value: {}\".format(p))\n",
    "\n",
    "\n",
    "if p < 0.05:\n",
    "    print('Les variables sembles etre dépendantes (on rejette H0) p=%.3f' % p, \"La p-valeur de ce test est inférieur à 5%,  il existe ici p_value:, {:.2%}\"\"\"\n",
    "      .format(p), \"de chance que H0 soit rejeté à tord (Alpha: Erreur de 1ère espèce)\"\"\") \n",
    "else:\n",
    "    print(\"\"\"les variables semblent indépendantes, La p-valeur est supérieure à 5%, l\\'hypothèse H0 ne peux etre rejetée, il existe ici pvalue:, {:.2%}\"\"\"\n",
    "          .format(p), \"de chance que H0 ne soit pas rejeté à tord (Beta: Erreur de 2nd espèce)\"\"\")   \n"
   ]
  },
  {
   "cell_type": "code",
   "execution_count": null,
   "metadata": {},
   "outputs": [],
   "source": [
    "t = pd.crosstab(df_final.génération, \"freq\")\n",
    "t.plot.pie(subplots=True, figsize = (6, 6))\n",
    "plt.title(\"Masse des générations\");"
   ]
  },
  {
   "cell_type": "code",
   "execution_count": null,
   "metadata": {},
   "outputs": [],
   "source": [
    "df_final.columns"
   ]
  },
  {
   "cell_type": "code",
   "execution_count": null,
   "metadata": {},
   "outputs": [],
   "source": [
    "t = pd.crosstab(df_final.date_année, \"freq\")\n",
    "t.plot.pie(subplots=True, figsize = (6, 6))\n",
    "plt.title(\"Session par année\");"
   ]
  },
  {
   "cell_type": "code",
   "execution_count": null,
   "metadata": {},
   "outputs": [],
   "source": [
    "df_test_Age"
   ]
  },
  {
   "cell_type": "code",
   "execution_count": null,
   "metadata": {},
   "outputs": [],
   "source": [
    "panier_moyen_age"
   ]
  },
  {
   "cell_type": "code",
   "execution_count": null,
   "metadata": {},
   "outputs": [],
   "source": [
    "sns.set()\n",
    "#sns.set(rc={'figure.figsize': (11.7,8.27)}) \n",
    "\n",
    "ax = sns.boxplot(x=\"price\", y=\"génération\", data=df_test_Age)\n",
    "plt.xlabel('Panier_moyen',size=20)\n",
    "plt.ylabel('Génération',size=20)\n",
    "plt.title('Boîtes à moustaches, Panier par génération')\n",
    "\n",
    "plt.show()\n"
   ]
  },
  {
   "cell_type": "code",
   "execution_count": null,
   "metadata": {},
   "outputs": [],
   "source": []
  },
  {
   "cell_type": "markdown",
   "metadata": {},
   "source": [
    "# Probabilité qu’un client achète la référence 0_525 sachant qu’il a acheté la référence 2_159."
   ]
  },
  {
   "cell_type": "code",
   "execution_count": null,
   "metadata": {},
   "outputs": [],
   "source": [
    "df_final.columns"
   ]
  },
  {
   "cell_type": "code",
   "execution_count": null,
   "metadata": {},
   "outputs": [],
   "source": [
    "# P(A ∩ B) = P(A)P(B)"
   ]
  },
  {
   "cell_type": "markdown",
   "metadata": {},
   "source": [
    "## A = vente_0_525"
   ]
  },
  {
   "cell_type": "code",
   "execution_count": null,
   "metadata": {
    "scrolled": true
   },
   "outputs": [],
   "source": [
    "# Client ayant acheté la référence 0_525\n",
    "vente_0_525 = df_final.loc[df_final[\"id_prod\"]==\"0_525\"]\n",
    "#set2.set_index([\"client_id\"], inplace=True)\n",
    "vente_0_525"
   ]
  },
  {
   "cell_type": "code",
   "execution_count": null,
   "metadata": {},
   "outputs": [],
   "source": [
    "vente_0_525.shape"
   ]
  },
  {
   "cell_type": "code",
   "execution_count": null,
   "metadata": {},
   "outputs": [],
   "source": [
    "A=vente_0_525.groupby(\"client_id\").agg({\"price\":\"sum\"})"
   ]
  },
  {
   "cell_type": "code",
   "execution_count": null,
   "metadata": {},
   "outputs": [],
   "source": [
    "# client_id achat multiple\n",
    "vente_0_525[\"client_id\"].duplicated().sum()"
   ]
  },
  {
   "cell_type": "code",
   "execution_count": null,
   "metadata": {},
   "outputs": [],
   "source": [
    "len(A)"
   ]
  },
  {
   "cell_type": "markdown",
   "metadata": {},
   "source": [
    "## B = vente_2_159"
   ]
  },
  {
   "cell_type": "code",
   "execution_count": null,
   "metadata": {},
   "outputs": [],
   "source": [
    "# Client ayant acheté la référence 2_159\n",
    "vente_2_159 = df_final.loc[df_final[\"id_prod\"]==\"2_159\"]\n",
    "#set1.set_index([\"client_id\"], inplace=True)\n",
    "vente_2_159"
   ]
  },
  {
   "cell_type": "code",
   "execution_count": null,
   "metadata": {},
   "outputs": [],
   "source": [
    "# client_id achat multiple\n",
    "vente_2_159[\"client_id\"].duplicated().sum()"
   ]
  },
  {
   "cell_type": "code",
   "execution_count": null,
   "metadata": {},
   "outputs": [],
   "source": [
    "B=vente_2_159.groupby(\"client_id\").agg({\"price\":\"sum\"})"
   ]
  },
  {
   "cell_type": "code",
   "execution_count": null,
   "metadata": {},
   "outputs": [],
   "source": [
    "len(B)"
   ]
  },
  {
   "cell_type": "markdown",
   "metadata": {},
   "source": [
    "## Calcul de la probabilité"
   ]
  },
  {
   "cell_type": "code",
   "execution_count": null,
   "metadata": {},
   "outputs": [],
   "source": [
    "n=len(df_final.client_id.unique())"
   ]
  },
  {
   "cell_type": "code",
   "execution_count": null,
   "metadata": {},
   "outputs": [],
   "source": [
    "A=len(vente_0_525.client_id.unique())"
   ]
  },
  {
   "cell_type": "code",
   "execution_count": null,
   "metadata": {},
   "outputs": [],
   "source": [
    "B=len(vente_2_159.client_id.unique())"
   ]
  },
  {
   "cell_type": "code",
   "execution_count": null,
   "metadata": {},
   "outputs": [],
   "source": [
    "PROBA_B= B/n\n",
    "PROBA_A= A/n\n",
    "PAinterB = PROBA_A/PROBA_B\n",
    "print(PAinterB)"
   ]
  },
  {
   "cell_type": "code",
   "execution_count": null,
   "metadata": {},
   "outputs": [],
   "source": [
    "print(\" La probabilité qu’un client achète la référence 0_525 sachant qu’il a acheté la référence 2_159 est de: {:.2%}\".format(PAinterB))"
   ]
  }
 ],
 "metadata": {
  "accelerator": "GPU",
  "colab": {
   "collapsed_sections": [
    "5kf8Tpv3PEyE"
   ],
   "name": "P6_3_Mendy_Tests_statistiques.ipynb",
   "provenance": [],
   "toc_visible": true
  },
  "kernelspec": {
   "display_name": "Python 3 (ipykernel)",
   "language": "python",
   "name": "python3"
  },
  "language_info": {
   "codemirror_mode": {
    "name": "ipython",
    "version": 3
   },
   "file_extension": ".py",
   "mimetype": "text/x-python",
   "name": "python",
   "nbconvert_exporter": "python",
   "pygments_lexer": "ipython3",
   "version": "3.8.12"
  }
 },
 "nbformat": 4,
 "nbformat_minor": 4
}
